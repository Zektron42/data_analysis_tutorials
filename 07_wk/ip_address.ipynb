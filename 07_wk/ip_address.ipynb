{
 "cells": [
  {
   "cell_type": "markdown",
   "metadata": {},
   "source": [
    "<h1>Welcome to the Dark Art of Coding:</h1>\n",
    "<h2>Introduction to Python</h2>\n",
    "Session 07\n",
    "\n",
    "IP Adresses\n",
    "\n",
    "<img src='../images/logos.3.600.wide.png' height='250' width='300' style=\"float:right\">"
   ]
  },
  {
   "cell_type": "markdown",
   "metadata": {},
   "source": [
    "<h1>Agenda</h1>\n",
    "\n",
    "<strong>Review and Questions?</strong>\n",
    "\n",
    "<strong>Objectives:</strong>\n",
    "\n",
    "* IP addresses, a primer\n",
    "* IP addresses the hard way\n",
    "* IP addresses using the ipaddress module\n",
    "\n",
    "<strong>In-class Practice</strong>"
   ]
  },
  {
   "cell_type": "markdown",
   "metadata": {},
   "source": [
    "<h1>Review and Questions?</h1>\n",
    "\n",
    "* Questions?\n",
    "* Name two ways to identify a specific cell in openpyxl\n",
    "* What are some characteristics you can set in or related to a cell? "
   ]
  },
  {
   "cell_type": "markdown",
   "metadata": {},
   "source": [
    "# IP and Network Addresses\n",
    "\n",
    "Let's start with a simple slash `/24` network:\n",
    "\n",
    "`192.168.1.0/24`\n",
    "\n",
    "Four octets separated by periods\n",
    "\n",
    "Each octet represents 8 bits (1 or 0) for a total of 32 bits\n",
    "\n",
    "`192     .168     .1       .119`\n",
    "\n",
    "`11000000.10101000.00000001.01110111`"
   ]
  },
  {
   "cell_type": "markdown",
   "metadata": {},
   "source": [
    "The 'slash 24' is subnetting notation for how many of those 32 bits are used to identify the **network**\n",
    "\n",
    "`11000000.10101000.00000001| <-- Network bits (24 bits)`\n",
    "\n",
    "`Host bits --------------> |01110111          (8 bits)`"
   ]
  },
  {
   "cell_type": "markdown",
   "metadata": {},
   "source": [
    "Knowing how many bits are assigned to the host we can find out how many hosts can be assigned to the network\n",
    "\n",
    "```\n",
    "2^8 bits = 256 addresses\n",
    "\n",
    "2^8 - 2  = 254 hosts\n",
    "```\n",
    "\n",
    "The difference is two addresses and that's because the **first** address is normally used for the network ID and the **last** is used as a broadcast address\n",
    "\n",
    "```\n",
    "192.168.1.0    (Network ID)\n",
    "\n",
    "     |\n",
    "\n",
    "Host addresses (254 addresses)\n",
    "\n",
    "     |\n",
    "\n",
    "192.168.1.255  (Broadcast ID)\n",
    "```"
   ]
  },
  {
   "cell_type": "markdown",
   "metadata": {},
   "source": [
    "If you need to manually process an IP address you can turn an IP address into an integer with a special formula\n",
    "\n",
    "Consider each octet of the IP as A.B.C.D:\n",
    "\n",
    "```\n",
    "A*2^24 + B*2^16 + C*2^8 + D*2^0\n",
    "```\n",
    "\n",
    "For example:\n",
    "\n",
    "```\n",
    "192         .168       .1      .119\n",
    "\n",
    "192*2^24   + 168*2^16 + 1*2^8 + 119*2^0\n",
    "\n",
    "3221225472 + 11010048 + 256   + 119\n",
    "\n",
    "3232235895\n",
    "```\n",
    "\n",
    "Integer conversion, enables us to determine whether one IP is within a range (or network) of other IPs.\n",
    "\n",
    "```\n",
    "192.168.1.0    >>  3232235776\n",
    "\n",
    "192.168.1.119  >>  3232235895\n",
    "\n",
    "192.168.1.255  >>  3232236031\n",
    "```"
   ]
  },
  {
   "cell_type": "markdown",
   "metadata": {},
   "source": [
    "# IP Addresses the hard way"
   ]
  },
  {
   "cell_type": "code",
   "execution_count": null,
   "metadata": {},
   "outputs": [],
   "source": [
    "# Say we get a file with a bunch of IP addresses stored as text\n",
    "# We still need to do some crunching so we can do some of that fancy math from above\n",
    "# First we want to make a lower range for a network we want to test against\n",
    "\n",
    "int_addr = '192.168.1.0'\n",
    "octets = int_addr.split('.')\n",
    "\n",
    "print(octets)"
   ]
  },
  {
   "cell_type": "code",
   "execution_count": null,
   "metadata": {},
   "outputs": [],
   "source": [
    "# We can turn our list of strings into a list of integers\n",
    "\n",
    "low_ip = []\n",
    "\n",
    "for x in octets:\n",
    "    low_ip.append(int(x))\n",
    "\n",
    "print(low_ip)"
   ]
  },
  {
   "cell_type": "code",
   "execution_count": null,
   "metadata": {},
   "outputs": [],
   "source": [
    "# We can use a list comprehension to turn our list of strings into a list of integers\n",
    "\n",
    "low_ip2 = [int(x) for x in octets]     # A list comprehension\n",
    "\n",
    "print(low_ip2)"
   ]
  },
  {
   "cell_type": "code",
   "execution_count": null,
   "metadata": {},
   "outputs": [],
   "source": [
    "# Now we can use our formula to get our unique IP Address number\n",
    "\n",
    "# NOTE: in Python, content within parentheses can be written out \n",
    "#       across multiple lines... let's multiple each item in the\n",
    "#       low_ip by the associated power of two.\n",
    "\n",
    "low_ip_value = (low_ip[0]*2**24 +\n",
    "                low_ip[1]*2**16 +\n",
    "                low_ip[2]*2**8 +\n",
    "                low_ip[3]*2**0)\n",
    "\n",
    "print(low_ip_value)\n",
    "\n",
    "# 3232235776"
   ]
  },
  {
   "cell_type": "code",
   "execution_count": null,
   "metadata": {},
   "outputs": [],
   "source": [
    "# We can do the same thing to get the upper range of a network\n",
    "\n",
    "int_addr = '192.168.1.255'\n",
    "int_addr = int_addr.split('.')\n",
    "high_ip = [int(x) for x in int_addr]\n",
    "high_ip_value = (high_ip[0]*2**24 +\n",
    "                 high_ip[1]*2**16 +\n",
    "                 high_ip[2]*2**8 +\n",
    "                 high_ip[3]*2**0)\n",
    "\n",
    "print(high_ip_value)"
   ]
  },
  {
   "cell_type": "code",
   "execution_count": null,
   "metadata": {
    "collapsed": true
   },
   "outputs": [],
   "source": [
    "# And now we can get a generic IP and test to see if it is in that network\n",
    "\n",
    "int_addr = '192.168.1.10'\n",
    "\n",
    "int_addr = int_addr.split('.')\n",
    "\n",
    "addr = [int(x) for x in int_addr]\n",
    "\n",
    "addr_value = (addr[0]*2**24 +\n",
    "              addr[1]*2**16 +\n",
    "              addr[2]*2**8 +\n",
    "              addr[3]*2**0)"
   ]
  },
  {
   "cell_type": "code",
   "execution_count": null,
   "metadata": {},
   "outputs": [],
   "source": [
    "# And then we test if it's in the range of the network using the two IP values we made earlier\n",
    "\n",
    "if addr_value in range(low_ip_value, high_ip_value + 1):\n",
    "    print('Yes, the address is in our network')"
   ]
  },
  {
   "cell_type": "code",
   "execution_count": null,
   "metadata": {},
   "outputs": [],
   "source": [
    "# There are other ways to test this...\n",
    "# using greater than/less than\n",
    "\n",
    "if low_ip_value <= addr_value <= high_ip_value:\n",
    "    print('The address is in the list of addresses')"
   ]
  },
  {
   "cell_type": "code",
   "execution_count": null,
   "metadata": {},
   "outputs": [],
   "source": [
    "# There are other ways to test this...\n",
    "# but it gets complicated when you want start differentiating\n",
    "# between addresses and hosts, etc.\n",
    "\n",
    "if low_ip_value < addr_value < high_ip_value:\n",
    "    print('The address is in the list of hosts')\n",
    "    \n",
    "# There is a better way.    "
   ]
  },
  {
   "cell_type": "markdown",
   "metadata": {},
   "source": [
    "# IP Addresses using the ipaddress module"
   ]
  },
  {
   "cell_type": "code",
   "execution_count": null,
   "metadata": {
    "collapsed": true
   },
   "outputs": [],
   "source": [
    "# We start by importing\n",
    "\n",
    "import ipaddress as ip"
   ]
  },
  {
   "cell_type": "code",
   "execution_count": null,
   "metadata": {
    "collapsed": true
   },
   "outputs": [],
   "source": [
    "# To make an IP Address we simply use this function\n",
    "\n",
    "address = ip.ip_address('192.168.1.10')"
   ]
  },
  {
   "cell_type": "code",
   "execution_count": null,
   "metadata": {},
   "outputs": [],
   "source": [
    "# If we ask IPython to show us the object we get this output...\n",
    "\n",
    "# NOTE: the ipaddress module is aware of IPv4 and IPv6 style addressing\n",
    "\n",
    "address"
   ]
  },
  {
   "cell_type": "code",
   "execution_count": null,
   "metadata": {},
   "outputs": [],
   "source": [
    "# NOTE: In the background python stores the IP address as an integer under the\n",
    "# _ip attribute\n",
    "\n",
    "address._ip"
   ]
  },
  {
   "cell_type": "code",
   "execution_count": null,
   "metadata": {},
   "outputs": [],
   "source": [
    "# The IP address version is also stored as an attribute\n",
    "\n",
    "address.version"
   ]
  },
  {
   "cell_type": "code",
   "execution_count": null,
   "metadata": {},
   "outputs": [],
   "source": [
    "# To create an IP network we can use a similar function:\n",
    "# In displaying the result, we see that it is noted as an IPv4\n",
    "\n",
    "netw = ip.ip_network('192.168.1.0/24')\n",
    "netw"
   ]
  },
  {
   "cell_type": "code",
   "execution_count": null,
   "metadata": {},
   "outputs": [],
   "source": [
    "# NOTE: In the last case we used the lowest possible address for the network\n",
    "# (i.e. the network address)\n",
    "# \n",
    "# If we try it again but use an IP that isn't a network address\n",
    "# (i.e. because we have host bits set) then the function will error.\n",
    "\n",
    "netwFail = ip.ip_network('192.168.1.65/24')"
   ]
  },
  {
   "cell_type": "code",
   "execution_count": null,
   "metadata": {},
   "outputs": [],
   "source": [
    "# However we can have Python attempt to identify the lowest IP when making a network\n",
    "# by setting the strict keyword argument to False\n",
    "\n",
    "netw_doesnt_fail = ip.ip_network('192.168.1.54/24', strict=False)\n",
    "print(netw_doesnt_fail)\n",
    "\n",
    "another = ip.ip_network('211.0.42.129/30', strict=False)\n",
    "print(another)\n",
    "\n",
    "third = ip.ip_network('211.0.42.133/30', strict=False)\n",
    "print(third)\n",
    "\n"
   ]
  },
  {
   "cell_type": "code",
   "execution_count": null,
   "metadata": {},
   "outputs": [],
   "source": [
    "# This module also allows you to create objects that incorporate aspects of both\n",
    "# the IP address and the Network it is a part of.\n",
    "# These are called inteface objects.\n",
    "\n",
    "interface = ip.ip_interface('192.0.2.1/24')\n",
    "print(interface.network, interface.ip, sep='\\n')\n"
   ]
  },
  {
   "cell_type": "code",
   "execution_count": null,
   "metadata": {},
   "outputs": [],
   "source": [
    "# So far we've done IPv4 Addresses but we can just as easily do IPv6\n",
    "\n",
    "addr_6 = ip.ip_address('2001:db8::1')\n",
    "netw_6 = ip.ip_network('2001:db8::/96')\n",
    "inf_6 = ip.ip_interface('2001:db8::1/96')\n",
    "\n",
    "print(addr_6, netw_6, inf_6, sep='\\n')"
   ]
  },
  {
   "cell_type": "code",
   "execution_count": null,
   "metadata": {},
   "outputs": [],
   "source": [
    "# We saw we can interpret IPs via integers\n",
    "# So what happens when there's an ambiguity?\n",
    "\n",
    "amb_1 = ip.ip_address(1)\n",
    "amb_2 = ip.ip_address(5)\n",
    "amb_3 = ip.ip_address(123456789)\n",
    "\n",
    "print(amb_1, amb_2, amb_3, sep='\\n')"
   ]
  },
  {
   "cell_type": "code",
   "execution_count": null,
   "metadata": {},
   "outputs": [],
   "source": [
    "# But, what if we want specifically IPv4 or IPv6? There are specific functions we can\n",
    "# call that force an input to be one of those two\n",
    "\n",
    "ambv6_1 = ip.IPv6Address(1)\n",
    "ambv6_2 = ip.IPv6Address(123456789)\n",
    "ambv6_3 = ip.IPv6Address(123456789123456789123456789)\n",
    "\n",
    "ambv4_1 = ip.IPv4Address('192.168.1.10')\n",
    "\n",
    "ambv6_4 = ip.IPv6Address('::75b:cd15')\n",
    "\n",
    "print(ambv6_1, ambv6_2, ambv6_3, ambv4_1, ambv6_4, sep='\\n')"
   ]
  },
  {
   "cell_type": "code",
   "execution_count": null,
   "metadata": {},
   "outputs": [],
   "source": [
    "# So now that we have addresses, networks, and interfaces we can do some pretty cool things with them\n",
    "# Like test for inclusion\n",
    "\n",
    "address = ip.ip_address('192.168.1.10')\n",
    "network = ip.ip_network('192.168.1.0/24')\n",
    "if address in network:\n",
    "    print('It\\'s in there')                # Notice the escape character"
   ]
  },
  {
   "cell_type": "code",
   "execution_count": null,
   "metadata": {},
   "outputs": [],
   "source": [
    "# Test for attributes like whether it is a private IP\n",
    "\n",
    "address.is_private"
   ]
  },
  {
   "cell_type": "code",
   "execution_count": null,
   "metadata": {},
   "outputs": [],
   "source": [
    "# Test if an address is reserved for use as a loopback\n",
    "\n",
    "loopb = ip.ip_address('127.0.0.1')\n",
    "address = ip.ip_address('192.168.1.10')\n",
    "\n",
    "print(loopb.is_loopback, address.is_loopback, sep='\\n')"
   ]
  },
  {
   "cell_type": "code",
   "execution_count": null,
   "metadata": {},
   "outputs": [],
   "source": [
    "# Presuming you had an interface you can interogate it for specifics\n",
    "\n",
    "print(interface.ip,\n",
    "      interface.network,\n",
    "      interface.netmask,\n",
    "      interface.hostmask,\n",
    "      interface.with_netmask,\n",
    "      sep='\\n')"
   ]
  },
  {
   "cell_type": "code",
   "execution_count": null,
   "metadata": {},
   "outputs": [],
   "source": [
    "# If you want to count the number of addresses in a network objects\n",
    "\n",
    "netw.num_addresses"
   ]
  },
  {
   "cell_type": "code",
   "execution_count": null,
   "metadata": {},
   "outputs": [],
   "source": [
    "# Iterate through all addresses in a network (including network ID and broadcast ID)\n",
    "\n",
    "for addr in netw:\n",
    "    print(addr)\n",
    "    # Do something else here"
   ]
  },
  {
   "cell_type": "code",
   "execution_count": null,
   "metadata": {},
   "outputs": [],
   "source": [
    "# Or if we only want host IPs\n",
    "\n",
    "for addr in netw.hosts():\n",
    "    print(addr)"
   ]
  },
  {
   "cell_type": "code",
   "execution_count": null,
   "metadata": {},
   "outputs": [],
   "source": [
    "# Interestingly enough you can even index through networks for specific IPs\n",
    "# NOTE: Slicing does not work unfortunately\n",
    "\n",
    "print(netw[10],\n",
    "      netw[123],\n",
    "      netw[-1],\n",
    "      sep='\\n')"
   ]
  },
  {
   "cell_type": "code",
   "execution_count": null,
   "metadata": {},
   "outputs": [],
   "source": [
    "# If you want just the values associated with an address or network\n",
    "# You can convert items\n",
    "\n",
    "print(str(address),\n",
    "      str(netw),\n",
    "      int(address),\n",
    "      sep='\\n')"
   ]
  },
  {
   "cell_type": "code",
   "execution_count": null,
   "metadata": {
    "collapsed": true
   },
   "outputs": [],
   "source": []
  },
  {
   "cell_type": "code",
   "execution_count": null,
   "metadata": {
    "collapsed": true
   },
   "outputs": [],
   "source": []
  }
 ],
 "metadata": {
  "anaconda-cloud": {},
  "celltoolbar": "Slideshow",
  "kernelspec": {
   "display_name": "Python [default]",
   "language": "python",
   "name": "python3"
  },
  "language_info": {
   "codemirror_mode": {
    "name": "ipython",
    "version": 3
   },
   "file_extension": ".py",
   "mimetype": "text/x-python",
   "name": "python",
   "nbconvert_exporter": "python",
   "pygments_lexer": "ipython3",
   "version": "3.5.3"
  }
 },
 "nbformat": 4,
 "nbformat_minor": 2
}
