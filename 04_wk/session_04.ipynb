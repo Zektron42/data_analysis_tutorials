{
 "cells": [
  {
   "cell_type": "markdown",
   "metadata": {
    "slideshow": {
     "slide_type": "slide"
    }
   },
   "source": [
    "<h1>Welcome to the Dark Art of Coding:</h1>\n",
    "<h2>Introduction to Python</h2>\n",
    "Session 04\n",
    "\n",
    "sets, isinstance, reading/writing files\n",
    "\n",
    "<img src='../images/logos.3.600.wide.png' height='250' width='300' style=\"float:right\">"
   ]
  },
  {
   "cell_type": "markdown",
   "metadata": {
    "slideshow": {
     "slide_type": "slide"
    }
   },
   "source": [
    "# Agenda\n",
    "\n",
    "Review and Questions\n",
    "\n",
    "Objectives:\n",
    "\n",
    "<ul>\n",
    "    <li>Understand and use sets</li>\n",
    "    <li>Poor man debugging: `isinstance()`</li>\n",
    "    <li>Opening and closing files</li>\n",
    "    <li>Reading .txt files and basic .csv</li>\n",
    "</ul>\n",
    "\n",
    "In-class Practice"
   ]
  },
  {
   "cell_type": "markdown",
   "metadata": {},
   "source": [
    "<h1>Review and Questions?</h1>\n",
    "<ul>\n",
    "</ul>"
   ]
  },
  {
   "cell_type": "markdown",
   "metadata": {},
   "source": [
    "<h1>Sets</h1>\n",
    "\n",
    "\n",
    "<ul>\n",
    "    <li>All elements in a set are unique</li>\n",
    "    <li>Elements are un-ordered</li>\n",
    "    <li>Can do set comparisons very easily (union, intersection, etc)</li>\n",
    "</ul>\n",
    "\n"
   ]
  },
  {
   "cell_type": "code",
   "execution_count": null,
   "metadata": {},
   "outputs": [],
   "source": [
    "# Two main ways to make a set\n",
    "\n",
    "s = set([1, 2, 3])\n",
    "\n",
    "# OR\n",
    "\n",
    "s2 = {4, 5, 6}\n",
    "print(s)\n",
    "print(s2)"
   ]
  },
  {
   "cell_type": "markdown",
   "metadata": {},
   "source": [
    "# Curly braces...\n",
    "## mean dict, right?\n",
    "\n",
    "<strong>Dict:</strong> <code>{'key':'value', 'key2':123}</code><br>\n",
    "<strong>Set:</strong> <code>{'value', 'value2', 4321}\n",
    "\n",
    "Dict has key:value pairs while set has individual values"
   ]
  },
  {
   "cell_type": "code",
   "execution_count": null,
   "metadata": {},
   "outputs": [],
   "source": [
    "print(s)\n",
    "s.add(5)   # add a single item to the set: s\n",
    "print(s)"
   ]
  },
  {
   "cell_type": "code",
   "execution_count": null,
   "metadata": {},
   "outputs": [],
   "source": [
    "print(s2)\n",
    "s2.update([1, 9, 4])   # adding all of these items to our second set: s2\n",
    "print(s2)\n",
    "\n",
    "# NOTICE:\n",
    "# even though we are updating with an additional 4, Python only includes one of them.\n"
   ]
  },
  {
   "cell_type": "markdown",
   "metadata": {},
   "source": [
    "## `.add()`\n",
    "\n",
    "## `.update()`\n",
    "\n",
    "Why not `.append()` AND `.extend()`, like in lists?\n",
    "\n",
    "Lists have order, so append (i.e. to the end) makes sense\n",
    " \n",
    "Sets don't have order, so append is less meaningful than add\n",
    "\n",
    "**Mnemonic**: appendices are at the end of books.\n"
   ]
  },
  {
   "cell_type": "code",
   "execution_count": null,
   "metadata": {},
   "outputs": [],
   "source": [
    "print(s, s2)\n",
    "print(s.difference(s2))  # IN s but NOT IN s2\n",
    "print(s2.difference(s))  # IN s2 but NOT IN s"
   ]
  },
  {
   "cell_type": "code",
   "execution_count": null,
   "metadata": {},
   "outputs": [],
   "source": [
    "print(s, s2)\n",
    "print(s.intersection(s2))  # ONLY items found in both s and s2"
   ]
  },
  {
   "cell_type": "code",
   "execution_count": null,
   "metadata": {},
   "outputs": [],
   "source": [
    "print(s, s2)\n",
    "print(s.union(s2))   # ALL items in the combination of both s and s2"
   ]
  },
  {
   "cell_type": "code",
   "execution_count": null,
   "metadata": {},
   "outputs": [],
   "source": [
    "print(s, s2)\n",
    "print(s.symmetric_difference(s2))  # the combined set of unique items from both sets\n",
    "                                   # i.e. everything that is NOT found in both s and s2"
   ]
  },
  {
   "cell_type": "code",
   "execution_count": null,
   "metadata": {
    "collapsed": true
   },
   "outputs": [],
   "source": [
    "i = {0}  # single item set"
   ]
  },
  {
   "cell_type": "code",
   "execution_count": null,
   "metadata": {},
   "outputs": [],
   "source": [
    "print(i.isdisjoint(s))   # checking if two sets, i and s, have overlapping items: they don't\n",
    "print(s.isdisjoint(s2))  # s intersects with s2 so it returns False"
   ]
  },
  {
   "cell_type": "code",
   "execution_count": null,
   "metadata": {},
   "outputs": [],
   "source": [
    "v = {1, 2, 3}   # create a new set that contains only items that were in our first set\n",
    "print(s, v)\n",
    "v.issubset(s)   # checks to see if v is a subset (i.e. contains only items found in another set)\n",
    "                # similarly set.issuperset works the other way"
   ]
  },
  {
   "cell_type": "code",
   "execution_count": null,
   "metadata": {},
   "outputs": [],
   "source": [
    "f = frozenset([1, 2, 3])   # frozensets are like sets except they are immutable\n",
    "f"
   ]
  },
  {
   "cell_type": "markdown",
   "metadata": {},
   "source": [
    "# Experience Points!\n",
    "\n",
    "On the **IPython interpreter** do each of the following:\n",
    "\n",
    "Task | Sample Object(s)\n",
    ":---|---\n",
    "Create a set | Make it an empty set AND label it `setOne`\n",
    "Create a different set | Include only one object, your name AND label it `setTwo`\n",
    "Create another set | Include five objects, including duplicates AND label it `setThree`\n",
    "Create a frozenset | Include four objects, again, including duplicates AND label it `fset`"
   ]
  },
  {
   "cell_type": "markdown",
   "metadata": {},
   "source": [
    "# Deduplicating on the fly"
   ]
  },
  {
   "cell_type": "code",
   "execution_count": null,
   "metadata": {},
   "outputs": [],
   "source": [
    "uniques = set([1, 2, 3, 1, 1, 1, 1, 1, 1, 2, 2, 2, 2, 2, 2, 2, 3, 3, 3, 3, 3])\n",
    "print(uniques)"
   ]
  },
  {
   "cell_type": "code",
   "execution_count": null,
   "metadata": {},
   "outputs": [],
   "source": [
    "lots_of_dupes = [1, 2, 3, 4, 5] * 1000\n",
    "print(lots_of_dupes)\n"
   ]
  },
  {
   "cell_type": "code",
   "execution_count": null,
   "metadata": {},
   "outputs": [],
   "source": [
    "more_uniques = set()\n",
    "\n",
    "for number in lots_of_dupes:\n",
    "    if number % 2 == 0:\n",
    "        more_uniques.add(number)\n",
    "        \n",
    "print(more_uniques)"
   ]
  },
  {
   "cell_type": "markdown",
   "metadata": {},
   "source": [
    "# Poor man debugging:\n",
    "---"
   ]
  },
  {
   "cell_type": "code",
   "execution_count": null,
   "metadata": {},
   "outputs": [],
   "source": [
    "s = 'this is a string'\n",
    "l = ['this', 'is', 'a', 'list']\n",
    "\n",
    "# using type to determine what an object is...\n",
    "print(type(s))\n",
    "print(type(l))\n",
    "\n",
    "# type is sometimes problematic... if you need greater exactness:\n",
    "\n",
    "if isinstance(s, list):\n",
    "    print('you have a list')\n",
    "    \n",
    "elif isinstance(s, str):\n",
    "    print('you have a str')\n",
    "\n"
   ]
  },
  {
   "cell_type": "markdown",
   "metadata": {},
   "source": [
    "# Sorting out the good from the bad\n",
    "---"
   ]
  },
  {
   "cell_type": "code",
   "execution_count": null,
   "metadata": {},
   "outputs": [],
   "source": [
    "s = {5, 42, 7, 2, 3, 99, 8}\n",
    "\n",
    "result = sorted(s)                \n",
    "print(result)                # produces a LIST\n",
    "print(s)"
   ]
  },
  {
   "cell_type": "code",
   "execution_count": null,
   "metadata": {},
   "outputs": [],
   "source": [
    "result2 = sorted('python')\n",
    "result2"
   ]
  },
  {
   "cell_type": "code",
   "execution_count": null,
   "metadata": {},
   "outputs": [],
   "source": [
    "l = [8, 6, 4, 2, 1, 3, 5, 7]\n",
    "\n",
    "result3 = sorted(l)\n",
    "print(result3)\n",
    "print(l)"
   ]
  },
  {
   "cell_type": "code",
   "execution_count": null,
   "metadata": {},
   "outputs": [],
   "source": [
    "for num in sorted(l):\n",
    "    print(num)"
   ]
  },
  {
   "cell_type": "markdown",
   "metadata": {},
   "source": [
    "# File handling\n",
    "---"
   ]
  },
  {
   "cell_type": "code",
   "execution_count": null,
   "metadata": {},
   "outputs": [],
   "source": [
    "# Opening the file and assigning a filehandle\n",
    "\n",
    "fin = open('folder/carroll.txt')\n",
    "\n",
    "# Reading in the content\n",
    "\n",
    "text = fin.read()\n",
    "print(text)"
   ]
  },
  {
   "cell_type": "code",
   "execution_count": null,
   "metadata": {
    "collapsed": true,
    "slideshow": {
     "slide_type": "fragment"
    }
   },
   "outputs": [],
   "source": [
    "# Putting your toys away, when you are done with them.\n",
    "\n",
    "fin.close()"
   ]
  },
  {
   "cell_type": "code",
   "execution_count": null,
   "metadata": {
    "collapsed": true,
    "slideshow": {
     "slide_type": "slide"
    }
   },
   "outputs": [],
   "source": [
    "fout = open('folder/output.txt', 'w')      # NOTE the 'w' to open the file for writing purposes\n",
    "fout.write('''Batman:\n",
    "The Dark Knight\n",
    "Returns''')\n",
    "fout.close()\n",
    "\n",
    "# Navigate to the folder in your file explorer and confirm:\n",
    "#     * the file exists\n",
    "#     * the content is present"
   ]
  },
  {
   "cell_type": "markdown",
   "metadata": {},
   "source": [
    "# Experience Points!\n",
    "\n",
    "On the **IPython interpreter** do each of the following:\n",
    "\n",
    "Task | Sample Object(s)\n",
    ":---|---\n",
    "Open a file | folder/carroll.txt\n",
    "Read in the text | `.read()`\n",
    "Print the text | `print()`"
   ]
  },
  {
   "cell_type": "code",
   "execution_count": null,
   "metadata": {
    "slideshow": {
     "slide_type": "fragment"
    }
   },
   "outputs": [],
   "source": [
    "# it is not uncommon to chain functions together\n",
    "\n",
    "text = open('folder/carroll.txt').read()\n",
    "print(text)"
   ]
  },
  {
   "cell_type": "markdown",
   "metadata": {
    "slideshow": {
     "slide_type": "subslide"
    }
   },
   "source": [
    "# There are several primary means of reading in data:\n",
    "---\n"
   ]
  },
  {
   "cell_type": "markdown",
   "metadata": {
    "slideshow": {
     "slide_type": "subslide"
    }
   },
   "source": [
    "```\n",
    "* read()                     # reads the file in as a single string\n",
    "* readline()                 # reads in one line at a time\n",
    "* readlines()                # reads in all lines, as separate strings in a list \n",
    "* for line in <filehandle>:  # iterates over each line, one at a time```\n",
    "\n"
   ]
  },
  {
   "cell_type": "markdown",
   "metadata": {},
   "source": [
    "## `.readline()`"
   ]
  },
  {
   "cell_type": "code",
   "execution_count": null,
   "metadata": {},
   "outputs": [],
   "source": [
    "data = open('folder/log_file.csv')\n",
    "line = data.readline()\n",
    "\n",
    "\n",
    "print(line)\n",
    "print('placeholder')\n"
   ]
  },
  {
   "cell_type": "markdown",
   "metadata": {},
   "source": [
    "## `.readlines()`"
   ]
  },
  {
   "cell_type": "code",
   "execution_count": null,
   "metadata": {},
   "outputs": [],
   "source": [
    "data = open('folder/log_file.csv')\n",
    "list_of_lines = data.readlines()\n",
    "\n",
    "print(list_of_lines)\n"
   ]
  },
  {
   "cell_type": "markdown",
   "metadata": {},
   "source": [
    "## `for line in <filehandle>:`"
   ]
  },
  {
   "cell_type": "code",
   "execution_count": null,
   "metadata": {},
   "outputs": [],
   "source": [
    "data = open('folder/log_file.csv')\n",
    "for line in data:\n",
    "    print(line)"
   ]
  },
  {
   "cell_type": "markdown",
   "metadata": {},
   "source": [
    "# Experience Points!\n",
    "\n",
    "On the **IPython interpreter** do each of the following:\n",
    "\n",
    "Task | Sample Object(s)\n",
    ":---|---\n",
    "Open a file | folder/log_file_1000.csv\n",
    "Use a for loop to read in the text | `for line in <filehandle>`\n",
    "Print each line | `print()`"
   ]
  },
  {
   "cell_type": "code",
   "execution_count": null,
   "metadata": {
    "collapsed": true
   },
   "outputs": [],
   "source": [
    "# Let's look our previous file again...\n",
    "\n",
    "for line in data:\n",
    "    print(line)\n",
    "    \n",
    "# When executing this code, nothing happpened!    "
   ]
  },
  {
   "cell_type": "markdown",
   "metadata": {},
   "source": [
    "## do overs and more..."
   ]
  },
  {
   "cell_type": "code",
   "execution_count": null,
   "metadata": {},
   "outputs": [],
   "source": [
    "# Let's reread the file\n",
    "\n",
    "data = open('folder/log_file.csv')\n",
    "byte = data.read(1)\n",
    "print('First byte:', byte)\n",
    "\n",
    "twobytes = data.read(2)\n",
    "print('Two bytes: ', twobytes)\n",
    "\n",
    "fourbytes = data.read(4)\n",
    "print('Four bytes:', fourbytes)\n",
    "\n",
    "print('Remainder: ', data.readline())\n",
    "print('Readline:  ', data.readline())"
   ]
  },
  {
   "cell_type": "code",
   "execution_count": null,
   "metadata": {},
   "outputs": [],
   "source": [
    "# Let's rewind the file\n",
    "\n",
    "data.seek(0)\n",
    "\n",
    "# Read just one byte (the first byte in the file)\n",
    "byte = data.read(1)\n",
    "print('Back at beginning:', byte)\n",
    "\n",
    "# getting fancy\n",
    "print('Two bytes:'.ljust(18), data.read(2))"
   ]
  },
  {
   "cell_type": "code",
   "execution_count": null,
   "metadata": {},
   "outputs": [],
   "source": [
    "# But where are we?\n",
    "\n",
    "print(data.tell())\n",
    "\n",
    "data.read(3)\n",
    "\n",
    "print(data.tell())"
   ]
  },
  {
   "cell_type": "markdown",
   "metadata": {},
   "source": [
    "# Let's do some work!\n",
    "---"
   ]
  },
  {
   "cell_type": "code",
   "execution_count": null,
   "metadata": {},
   "outputs": [],
   "source": [
    "data = open('folder/log_file.csv')\n",
    "for line in data:\n",
    "    line = line.strip()            # remove those pesky new lines\n",
    "    print(line)\n",
    "    \n",
    " "
   ]
  },
  {
   "cell_type": "code",
   "execution_count": null,
   "metadata": {},
   "outputs": [],
   "source": [
    "data = open('folder/log_file.csv')\n",
    "for line in data:\n",
    "    line = line.strip()\n",
    "    fields = line.split(',')        # Separate each line into a LIST of STRs\n",
    "    print(fields)\n",
    "    \n"
   ]
  },
  {
   "cell_type": "code",
   "execution_count": null,
   "metadata": {},
   "outputs": [],
   "source": [
    "data = open('folder/log_file.csv')\n",
    "for line in data:\n",
    "    line = line.strip()\n",
    "    fields = line.split(',')        # Separate each line into a LIST of STRs\n",
    "    name = fields[0]\n",
    "    lat = fields[5]\n",
    "    long = fields[6]\n",
    "    print(name, lat, long)\n",
    "    \n"
   ]
  },
  {
   "cell_type": "code",
   "execution_count": null,
   "metadata": {},
   "outputs": [],
   "source": [
    "data = open('folder/log_file.csv')\n",
    "for line in data:\n",
    "    line = line.strip()\n",
    "    fields = line.split(',')        # Separate each line into a LIST of STRs\n",
    "    name = fields[0]\n",
    "    lat = fields[5]\n",
    "    long = fields[6]\n",
    "    print(name + ' was seen @:', lat, long)\n",
    "    \n"
   ]
  },
  {
   "cell_type": "markdown",
   "metadata": {
    "collapsed": true
   },
   "source": [
    "# OK, so maybe real work\n",
    "---\n",
    "\n"
   ]
  },
  {
   "cell_type": "code",
   "execution_count": null,
   "metadata": {},
   "outputs": [],
   "source": [
    "data = open('folder/log_file.csv')\n",
    "\n",
    "# Create an empty list to hold data\n",
    "names = []\n",
    "\n",
    "for line in data:\n",
    "    line = line.strip()\n",
    "    fields = line.split(',')        # Separate each line into a LIST of STRs\n",
    "    name = fields[0]\n",
    "    names.append(name)\n",
    "    \n",
    "print(names)"
   ]
  },
  {
   "cell_type": "markdown",
   "metadata": {
    "collapsed": true
   },
   "source": [
    "# Writing to files\n",
    "---"
   ]
  },
  {
   "cell_type": "code",
   "execution_count": null,
   "metadata": {
    "collapsed": true
   },
   "outputs": [],
   "source": [
    "fout = open('folder/buffer_test.txt', 'w')"
   ]
  },
  {
   "cell_type": "code",
   "execution_count": null,
   "metadata": {},
   "outputs": [],
   "source": [
    "for number in range(20000000):\n",
    "    number = str(number)\n",
    "    fout.write(number)\n",
    "    \n",
    "print('done')    "
   ]
  },
  {
   "cell_type": "code",
   "execution_count": null,
   "metadata": {
    "collapsed": true
   },
   "outputs": [],
   "source": [
    "fout.flush()"
   ]
  },
  {
   "cell_type": "code",
   "execution_count": null,
   "metadata": {
    "collapsed": true
   },
   "outputs": [],
   "source": [
    "fout.close()"
   ]
  },
  {
   "cell_type": "code",
   "execution_count": null,
   "metadata": {
    "collapsed": true
   },
   "outputs": [],
   "source": [
    "data = open('folder/log_file.csv')\n",
    "fout = open('folder/names_emails.txt', 'w')\n",
    "\n",
    "for line in data:\n",
    "    line = line.strip()\n",
    "    fields = line.split(',')        # Separate each line into a LIST of STRs\n",
    "    name = fields[0]\n",
    "    email = fields[1]\n",
    "    \n",
    "    output_text = name + ':' + email + '\\n'\n",
    "    \n",
    "    fout.write(output_text)\n",
    "    \n",
    "fout.close()    \n"
   ]
  },
  {
   "cell_type": "code",
   "execution_count": null,
   "metadata": {},
   "outputs": [],
   "source": [
    "data = open('folder/log_file.csv')\n",
    "fout = open('folder/names_uids.txt', 'w')\n",
    "\n",
    "for line in data:\n",
    "    line = line.strip()\n",
    "    fields = line.split(',')        # Separate each line into a LIST of STRs\n",
    "    name = fields[0]\n",
    "    email = fields[1].split('@')\n",
    "    uid = email[0]\n",
    "    \n",
    "    output_text = name + ':' + uid + '\\n'\n",
    "    print(uid)\n",
    "    fout.write(output_text)\n",
    "    \n",
    "fout.close()    \n"
   ]
  },
  {
   "cell_type": "code",
   "execution_count": null,
   "metadata": {
    "collapsed": true
   },
   "outputs": [],
   "source": [
    "data = open('folder/log_file.csv')\n",
    "fout = open('folder/names_uids_2.txt', 'w')\n",
    "\n",
    "outputs = set()\n",
    "\n",
    "for line in data:\n",
    "    fields = line.strip().split(',')    # chain methods\n",
    "    name = fields[0]\n",
    "    fname, lname = name.split()         # split name field on space\n",
    "    uid = fields[1].split('@')[0]       # extract the indexed item immediately\n",
    "    uid = uid.upper()                   # convert to uppercase\n",
    "    output_text = uid + ':' + fname + ':' + lname + '\\n'\n",
    "    fout.write(output_text)\n",
    "    \n",
    "fout.close()    \n"
   ]
  },
  {
   "cell_type": "code",
   "execution_count": null,
   "metadata": {
    "collapsed": true
   },
   "outputs": [],
   "source": [
    "data = open('folder/log_file.csv')\n",
    "fout = open('folder/names_uids_3.txt', 'w')\n",
    "\n",
    "outputs = set()\n",
    "\n",
    "for line in data:\n",
    "    fields = line.strip().split(',')    # chain methods\n",
    "    name = fields[0]\n",
    "    fname, lname = name.split()         # split name field on space\n",
    "    uid = fields[1].split('@')[0]       # extract the indexed item immediately\n",
    "    uid = uid.upper()                   # convert to uppercase\n",
    "    output_text = uid + ':' + fname + ':' + lname + '\\n'\n",
    "    outputs.add(output_text)    \n",
    "    \n",
    "for item in sorted(outputs):\n",
    "    fout.write(item)\n",
    "    \n",
    "fout.close()    \n"
   ]
  },
  {
   "cell_type": "code",
   "execution_count": null,
   "metadata": {
    "collapsed": true
   },
   "outputs": [],
   "source": []
  }
 ],
 "metadata": {
  "anaconda-cloud": {},
  "celltoolbar": "Slideshow",
  "kernelspec": {
   "display_name": "Python [default]",
   "language": "python",
   "name": "python3"
  },
  "language_info": {
   "codemirror_mode": {
    "name": "ipython",
    "version": 3
   },
   "file_extension": ".py",
   "mimetype": "text/x-python",
   "name": "python",
   "nbconvert_exporter": "python",
   "pygments_lexer": "ipython3",
   "version": "3.5.3"
  }
 },
 "nbformat": 4,
 "nbformat_minor": 1
}
