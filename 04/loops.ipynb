{
 "cells": [
  {
   "cell_type": "markdown",
   "metadata": {},
   "source": [
    "<h1>Welcome to the Dark Art of Coding:</h1>\n",
    "<h2>Introduction to Python</h2>\n",
    "Loops\n",
    "\n",
    "<img src='../images/logos.3.600.wide.png' height='250' width='300' style=\"float:right\">"
   ]
  },
  {
   "cell_type": "markdown",
   "metadata": {},
   "source": [
    "<h1>While loops</h1>\n",
    "<ul>\n",
    "<li><code>while</code> keyword</li>\n",
    "<li>Test condition</li>\n",
    "<li>Colon</li>\n",
    "<li>Code block</li>\n",
    "</ul>"
   ]
  },
  {
   "cell_type": "code",
   "execution_count": null,
   "metadata": {
    "collapsed": true
   },
   "outputs": [],
   "source": [
    "ipaddresses = 5\n",
    "while ipaddresses < 13:\n",
    "    print('Scanning!')\n",
    "    ipaddresses = ipaddresses + 1       # there is a 'simpler' way to write this..."
   ]
  },
  {
   "cell_type": "code",
   "execution_count": null,
   "metadata": {
    "collapsed": true
   },
   "outputs": [],
   "source": [
    "response = ''\n",
    "while response != 'quit':\n",
    "    print('What would you like to do?')\n",
    "    response = input()\n",
    "print('You have quit')"
   ]
  },
  {
   "cell_type": "code",
   "execution_count": null,
   "metadata": {
    "collapsed": true
   },
   "outputs": [],
   "source": [
    "## The break keyword\n",
    "\n",
    "while True:\n",
    "    print('What would you like to do?')\n",
    "    response = input()\n",
    "    if response == 'quit':\n",
    "        break\n",
    "print('You have quit')"
   ]
  },
  {
   "cell_type": "code",
   "execution_count": null,
   "metadata": {
    "collapsed": true
   },
   "outputs": [],
   "source": [
    "age = 44\n",
    "while age:\n",
    "    print('bob')\n",
    "    age = int(input('what is the age '))\n",
    "    print(type(age))\n",
    "print('you quit')"
   ]
  },
  {
   "cell_type": "markdown",
   "metadata": {},
   "source": [
    "<h1>Endless while loops (don't do this!)</h1>\n",
    "<img src='newWhile.png'>"
   ]
  },
  {
   "cell_type": "markdown",
   "metadata": {},
   "source": [
    "<img src='newWhile2.png'>"
   ]
  },
  {
   "cell_type": "markdown",
   "metadata": {},
   "source": [
    "# CTRL+C\n",
    "\n",
    "# YMMV\n",
    "\n",
    "This generally works. In Jupyter Notebooks, you may need to:\n",
    "\n",
    "Kernel >>> Restart\n",
    "\n"
   ]
  },
  {
   "cell_type": "markdown",
   "metadata": {},
   "source": [
    "<h1>Range function</h1>\n",
    "<ol>\n",
    "<li><code>range(3)         -> 0, 1, 2</code></li>\n",
    "<li><code>range(5, 8)      -> 5, 6, 7</code></li>\n",
    "<li><code>range(2, 11, 2)  -> 2, 4, 6, 8, 10</code></li>\n",
    "<li><code>range(10, 1, -2) -> 10, 8, 6, 4, 2</code></li>\n",
    "</ol>\n",
    "\n",
    "NOTE: range produces a range object. NOT a list."
   ]
  },
  {
   "cell_type": "markdown",
   "metadata": {},
   "source": [
    "<h1>For loops</h1>\n",
    "<ul>\n",
    "<li><code>for</code> keyword</li>\n",
    "<li>Place holder variable</li>\n",
    "<li><code>in</code> keyword</li>\n",
    "<li>Iterable</li>\n",
    "<li>Colon</li>\n",
    "<li>Code block</li>\n",
    "</ul>"
   ]
  },
  {
   "cell_type": "code",
   "execution_count": null,
   "metadata": {
    "collapsed": true
   },
   "outputs": [],
   "source": [
    "for number in range(3):\n",
    "    print(number)"
   ]
  },
  {
   "cell_type": "code",
   "execution_count": null,
   "metadata": {
    "collapsed": true
   },
   "outputs": [],
   "source": [
    "total = 0\n",
    "for number in range(5):\n",
    "    total = total + number                 # 0 + 1 + 2 + 3 + 4 --> 10\n",
    "\n",
    "print('I scanned ' + str(total) + ' log files')"
   ]
  },
  {
   "cell_type": "code",
   "execution_count": null,
   "metadata": {
    "collapsed": true
   },
   "outputs": [],
   "source": [
    "# from 13 up to, but not including 19\n",
    "\n",
    "for num in range(13, 19):\n",
    "    print(num)"
   ]
  },
  {
   "cell_type": "code",
   "execution_count": null,
   "metadata": {
    "collapsed": true
   },
   "outputs": [],
   "source": [
    "# from 13 up to, but not including 19, stepping by twos.\n",
    "\n",
    "for num in range(13, 19, 2):\n",
    "    print(num)"
   ]
  },
  {
   "cell_type": "code",
   "execution_count": null,
   "metadata": {
    "collapsed": true
   },
   "outputs": [],
   "source": [
    "# from 10 down to, but not including -1, stepping by negative twos.\n",
    "\n",
    "for num in range(10, -1, -2):        \n",
    "    print(num)"
   ]
  },
  {
   "cell_type": "code",
   "execution_count": null,
   "metadata": {
    "collapsed": true
   },
   "outputs": [],
   "source": [
    "for num in range(10):\n",
    "    if num == 5:\n",
    "        break\n",
    "    print(num)"
   ]
  },
  {
   "cell_type": "code",
   "execution_count": null,
   "metadata": {
    "collapsed": true
   },
   "outputs": [],
   "source": [
    "num_hosts = 20\n",
    "for hostID in range(10, num_hosts):\n",
    "    print(hostID)"
   ]
  },
  {
   "cell_type": "markdown",
   "metadata": {},
   "source": [
    "# Experience Points!\n",
    "\n",
    "In your **text editor** create a simple script called session02_forloops.py to do the following:\n",
    "\n",
    "Execute your script in the **IPython interpreter** using the command `run session02_forloops.py`.\n",
    "\n",
    "I suggest that as you add each feature to your script that you run it right away to test it incrementally. \n",
    "\n",
    "## Part 1\n",
    "\n",
    "1. Use `input()` to prompt for your name AND save it as `myname`\n",
    "1. Create a variable with zero as an integer AND save it with the label: `counter`\n",
    "1. Create a while loop that increments the counter by 1 AND prints your name during each cycle UNTIL the counter is equal to 10.\n",
    "\n",
    "## Part 2\n",
    "\n",
    "1. Use `input()` to prompt for your age and save it as `myage`\n",
    "1. Use `range()` in a for loop and `myage` to set the upperbound.\n",
    "1. `Print()` the output of range to count up to your age. \n"
   ]
  },
  {
   "cell_type": "code",
   "execution_count": null,
   "metadata": {
    "collapsed": true
   },
   "outputs": [],
   "source": []
  }
 ],
 "metadata": {
  "kernelspec": {
   "display_name": "Python 3",
   "language": "python",
   "name": "python3"
  },
  "language_info": {
   "codemirror_mode": {
    "name": "ipython",
    "version": 3
   },
   "file_extension": ".py",
   "mimetype": "text/x-python",
   "name": "python",
   "nbconvert_exporter": "python",
   "pygments_lexer": "ipython3",
   "version": "3.4.5"
  }
 },
 "nbformat": 4,
 "nbformat_minor": 2
}
