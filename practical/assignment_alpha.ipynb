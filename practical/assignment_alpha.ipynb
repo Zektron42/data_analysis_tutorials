{
 "cells": [
  {
   "cell_type": "markdown",
   "metadata": {},
   "source": [
    "# Welcome to the Dark Art of Coding:\n",
    "## Introduction to Python\n",
    "Assignment alpha\n",
    "\n",
    "<img src='../images/dark_art_logo.600px.png' width='300' style=\"float:right\">"
   ]
  },
  {
   "cell_type": "markdown",
   "metadata": {},
   "source": [
    "# Prerequisites\n",
    "---"
   ]
  },
  {
   "cell_type": "markdown",
   "metadata": {},
   "source": [
    "These tasks should be doable with a reasonable understanding of the following skills/knowledge:\n",
    "    \n",
    "* opening and reading files\n",
    "* lists\n",
    "* strings"
   ]
  },
  {
   "cell_type": "markdown",
   "metadata": {},
   "source": [
    "# abundant `a` words\n",
    "---"
   ]
  },
  {
   "cell_type": "markdown",
   "metadata": {},
   "source": [
    "1. Open the file `1138090f.fic`\n",
    "1. Identify all the words that have two letter `a` characters but no `e` characters\n",
    "    * **Valid matches:**\n",
    "        * tangram\n",
    "        * vulcanization\n",
    "    * **NOT valid** (includes ee's):\n",
    "        * sharable\n",
    "        * wearable\n",
    "\n",
    "1. `Print()` each of those words to the screen, one per line\n",
    "1. `Print()` the total number of words that meet this criteria"
   ]
  },
  {
   "cell_type": "code",
   "execution_count": null,
   "metadata": {
    "collapsed": true
   },
   "outputs": [],
   "source": []
  }
 ],
 "metadata": {
  "kernelspec": {
   "display_name": "Python 3",
   "language": "python",
   "name": "python3"
  },
  "language_info": {
   "codemirror_mode": {
    "name": "ipython",
    "version": 3
   },
   "file_extension": ".py",
   "mimetype": "text/x-python",
   "name": "python",
   "nbconvert_exporter": "python",
   "pygments_lexer": "ipython3",
   "version": "3.6.1"
  }
 },
 "nbformat": 4,
 "nbformat_minor": 2
}
