{
 "cells": [
  {
   "cell_type": "markdown",
   "metadata": {
    "collapsed": true
   },
   "source": [
    "<h1>Welcome to the Dark Art of Coding:</h1>\n",
    "<h2>Introduction to Python</h2>\n",
    "Session 06\n",
    "\n",
    "Excellent Excel\n",
    "\n",
    "<img src='../images/logos.3.600.wide.png' height='250' width='300' style=\"float:right\">\n"
   ]
  },
  {
   "cell_type": "markdown",
   "metadata": {},
   "source": [
    "<h1>Agenda</h1>\n",
    "\n",
    "<strong>Review and Questions?</strong>\n",
    "\n",
    "<strong>Objectives:</strong>\n",
    "\n",
    "* Read from Excel spreadsheets\n",
    "* Write to Excel spreadsheets\n",
    "\n",
    "<strong>In-class Practice</strong>"
   ]
  },
  {
   "cell_type": "markdown",
   "metadata": {},
   "source": [
    "<h1>Review and Questions?</h1>\n",
    "\n",
    "* Any Questions for me?\n",
    "* What is a dialect in the csv module?\n",
    "* Name three characteristics you can set in a dialect OR when reading or writing CSVs?\n",
    "* Name one reason why it is important to understand your data\n",
    "\n"
   ]
  },
  {
   "cell_type": "markdown",
   "metadata": {},
   "source": [
    "# Openpyxl\n",
    "* Handles the most recent version of excel\n",
    "* Has read and write in the same module\n",
    "  * Other libraries exist if you are using a file from an older version of Excel\n",
    "  * Other libraries may break up that functionality into separate modules"
   ]
  },
  {
   "cell_type": "code",
   "execution_count": null,
   "metadata": {},
   "outputs": [],
   "source": [
    "import openpyxl\n",
    "wb = openpyxl.load_workbook('avengers.xlsx')\n",
    "wb.get_sheet_names()"
   ]
  },
  {
   "cell_type": "code",
   "execution_count": null,
   "metadata": {
    "collapsed": true
   },
   "outputs": [],
   "source": [
    "# let's look at workbooks\n",
    "# using tab completion\n",
    "\n"
   ]
  },
  {
   "cell_type": "code",
   "execution_count": null,
   "metadata": {},
   "outputs": [],
   "source": [
    "# If we know the names of the sheets we can grab one by calling on it\n",
    "\n",
    "sheet = wb.get_sheet_by_name('avengers')\n",
    "sheet"
   ]
  },
  {
   "cell_type": "code",
   "execution_count": null,
   "metadata": {
    "collapsed": true
   },
   "outputs": [],
   "source": [
    "# let's look at sheets\n",
    "# using tab completion\n",
    "\n"
   ]
  },
  {
   "cell_type": "code",
   "execution_count": null,
   "metadata": {},
   "outputs": [],
   "source": [
    "# Let's take a little look at what we have using\n",
    "# poor man debugging\n",
    "\n",
    "print(type(sheet))\n",
    "print(sheet.title)"
   ]
  },
  {
   "cell_type": "code",
   "execution_count": null,
   "metadata": {},
   "outputs": [],
   "source": [
    "# By default there's an 'active' sheet. And if we want a way to refer to that we do this\n",
    "\n",
    "act_sheet = wb.get_active_sheet()\n",
    "print(act_sheet)"
   ]
  },
  {
   "cell_type": "code",
   "execution_count": null,
   "metadata": {},
   "outputs": [],
   "source": [
    "# If we want to get a specific cell from a sheet we have this is how we'd do it\n",
    "\n",
    "sheet = wb.get_sheet_by_name('avengers')\n",
    "sheet['A1'].value"
   ]
  },
  {
   "cell_type": "code",
   "execution_count": null,
   "metadata": {},
   "outputs": [],
   "source": [
    "# We can actually assign a specific cell to a variable\n",
    "# and then reference the attributes and behaviors of that item.\n",
    "\n",
    "myCell = sheet['B1']\n",
    "myCell.value"
   ]
  },
  {
   "cell_type": "code",
   "execution_count": null,
   "metadata": {
    "collapsed": true
   },
   "outputs": [],
   "source": [
    "# let's look at sheets\n",
    "# using tab completion\n",
    "\n"
   ]
  },
  {
   "cell_type": "code",
   "execution_count": null,
   "metadata": {},
   "outputs": [],
   "source": [
    "# Some of the attributes we can refer to from a cell\n",
    "\n",
    "fmIP = sheet['C1']\n",
    "\n",
    "print('Row:\\t', fmIP.row)\n",
    "print('Col:\\t', fmIP.column)\n",
    "print('Val:\\t', fmIP.value)\n",
    "print('Coord:\\t', fmIP.coordinate)\n",
    "\n",
    "\n",
    "# NOTE about non-backwards compatibility changes\n",
    "# the last item used to be fmIP.get_coordinates()\n",
    "#     the maintainers of the library dropped the function in favor of \n",
    "#     simply referencing the coordinate as an attribute (no '()')\n",
    "#\n",
    "# This sometimes happens and means that tutorials, lessons like this,\n",
    "# instructions online might get out of date.\n",
    "#\n",
    "# This is where your investigation tools:\n",
    "# obj.<tab complete>\n",
    "# obj.method?\n",
    "\n",
    "# Come in handy.\n"
   ]
  },
  {
   "cell_type": "code",
   "execution_count": null,
   "metadata": {
    "scrolled": true
   },
   "outputs": [],
   "source": [
    "# We can grab a cell by using integer-based row and column numbers\n",
    "\n",
    "logs = wb.get_sheet_by_name('logdates')\n",
    "logs.cell(row=1, column=1).value\n",
    "\n",
    "# NOTE:\n",
    "# this blew my mind...\n",
    "# it read it in as a Python datetime object...\n",
    "# We will talk about datetime objects in another session\n",
    "# Just know: this gives you considerable power "
   ]
  },
  {
   "cell_type": "code",
   "execution_count": null,
   "metadata": {},
   "outputs": [],
   "source": [
    "# We can use this to iterate through certain parts easily\n",
    "\n",
    "for row in range(1, 10):\n",
    "    print('Cell', row, ':', sheet.cell(row=row, column=1).value)\n",
    "    \n",
    "# NOTE: we are missing the last row in the spreadsheet\n",
    "#     0) range() is doing exactly what we ask for\n",
    "#     1) but openpyxl diverges from standard Python practice of\n",
    "#        starting numbering from 0 >> this keeps it in line with\n",
    "#        Excel referencing the first row as Row 1 "
   ]
  },
  {
   "cell_type": "code",
   "execution_count": null,
   "metadata": {},
   "outputs": [],
   "source": [
    "# We can use this to iterate through certain parts easily\n",
    "\n",
    "for row in range(1, 11):\n",
    "    print('Cell', row, ':', sheet.cell(row=row, column=1).value)\n",
    "    \n"
   ]
  },
  {
   "cell_type": "markdown",
   "metadata": {},
   "source": [
    "# Experience Points"
   ]
  },
  {
   "cell_type": "markdown",
   "metadata": {},
   "source": [
    "## Problem 0\n",
    "\n",
    "1. Read in the Excel workbook `avengers.xlsx` and label it `wb`\n",
    "1. Print a list of all the sheets\n",
    "1. Get the sheet called 'avengers' and label it `mySheet`\n",
    "1. Read and print the data stored in cell `D4` and stored in cell `A4`\n",
    "1. Read and print the data stored in column `F` of all rows\n",
    "1. Read and print the data stored in column `F` and `G` of all rows"
   ]
  },
  {
   "cell_type": "code",
   "execution_count": null,
   "metadata": {
    "collapsed": true
   },
   "outputs": [],
   "source": [
    "# let's look at logs\n",
    "# using tab completion\n",
    "\n"
   ]
  },
  {
   "cell_type": "code",
   "execution_count": null,
   "metadata": {},
   "outputs": [],
   "source": [
    "# If we want to figure out how much data is actually in our spreadsheet we can use the .get_highest_*() methods\n",
    "\n",
    "print(logs.max_column)\n",
    "print(logs.max_row)\n",
    "\n",
    "\n",
    "# Another instance of a non-backwards compatible change within the past\n",
    "#     two years?\n",
    "# print(logs.get_highest_row())\n",
    "# print(logs.get_highest_column())"
   ]
  },
  {
   "cell_type": "code",
   "execution_count": null,
   "metadata": {},
   "outputs": [],
   "source": [
    "# To get a specific column you can use .iter_cols()\n",
    "\n",
    "for col in sheet.iter_cols(1, 1):\n",
    "    print(col)"
   ]
  },
  {
   "cell_type": "code",
   "execution_count": null,
   "metadata": {},
   "outputs": [],
   "source": [
    "# To iterate over a column, for loops work fine\n",
    "# Here, let's gather all the names into a list\n",
    "\n",
    "names = []\n",
    "\n",
    "for col in sheet.iter_cols(1, 1):\n",
    "    for cell in col:\n",
    "        \n",
    "        names.append(cell.value)\n",
    "        \n",
    "print(names)"
   ]
  },
  {
   "cell_type": "markdown",
   "metadata": {},
   "source": [
    "# Experience Points\n",
    "---"
   ]
  },
  {
   "cell_type": "markdown",
   "metadata": {},
   "source": [
    "## Problem 1\n",
    "\n",
    "1. Read in the Excel workbook `avengers.xlsx` and label it `wb`\n",
    "1. Print a list of all the sheets\n",
    "1. Get the sheet called 'avengers' and label it `mySheet`\n",
    "1. Read and print the data stored in cell `D4` and stored in cell `A4`\n",
    "1. Read and print the data stored in column `F` and `G` of all rows"
   ]
  },
  {
   "cell_type": "code",
   "execution_count": null,
   "metadata": {},
   "outputs": [],
   "source": [
    "## Problem 2\n",
    "\n",
    "# Modify the following code so that it deduplicates\n",
    "# the names automagically\n",
    "# Hint: what datatype holds only unique values?\n",
    "\n",
    "# NOTE: you must have successfully completed problem 1 to do this\n",
    "\n",
    "dedupe_names = []\n",
    "\n",
    "for col in mySheet.iter_cols(1, 1):\n",
    "    for cell in col:\n",
    "        dedupe_names.append(cell.value)\n",
    "        \n",
    "print(dedupe_names)"
   ]
  },
  {
   "cell_type": "code",
   "execution_count": null,
   "metadata": {},
   "outputs": [],
   "source": [
    "## Problem 3\n",
    "\n",
    "# Modify the following code:\n",
    "# 0) add a function that can be called that splits the cell value into\n",
    "#    two parts: first name and last name\n",
    "#    return only the first name\n",
    "# 1) collect the first names into a container with no duplicates\n",
    "# \n",
    "# NOTE: you must have successfully completed problem 1 to do this\n",
    "\n",
    "dedupe_fnames = []\n",
    "\n",
    "for col in mySheet.iter_cols(1, 1):\n",
    "    for cell in col:\n",
    "        dedupe_fnames.append(cell.value)\n",
    "        \n",
    "print(dedupe_fnames)"
   ]
  },
  {
   "cell_type": "markdown",
   "metadata": {},
   "source": [
    "# Ranges of cells\n",
    "---"
   ]
  },
  {
   "cell_type": "code",
   "execution_count": null,
   "metadata": {},
   "outputs": [],
   "source": [
    "# We can also grab ranges of cells\n",
    "# These ranges can cross boundaries of Row AND Column to make\n",
    "# rectangular selections\n",
    "\n",
    "\n",
    "for row in sheet['A1':'D10']:\n",
    "    for cell in row:\n",
    "        print(cell.coordinate, cell.value)\n",
    "    print('\\n ---- Extracting a new Row ---- \\n')"
   ]
  },
  {
   "cell_type": "markdown",
   "metadata": {},
   "source": [
    "# Creating Spreadsheets"
   ]
  },
  {
   "cell_type": "code",
   "execution_count": null,
   "metadata": {},
   "outputs": [],
   "source": [
    "# Let's try making a spreadsheet now\n",
    "\n",
    "wb = openpyxl.Workbook()\n",
    "wb.get_sheet_names()\n",
    "\n",
    "# By default, only one sheet is present"
   ]
  },
  {
   "cell_type": "code",
   "execution_count": null,
   "metadata": {},
   "outputs": [],
   "source": [
    "# We can grab the active sheet and title\n",
    "\n",
    "sheet = wb.get_active_sheet()\n",
    "print(sheet.title)"
   ]
  },
  {
   "cell_type": "code",
   "execution_count": null,
   "metadata": {},
   "outputs": [],
   "source": [
    "# We can even rename the sheet if we want to\n",
    "\n",
    "sheet.title = 'heroes'\n",
    "wb.get_sheet_names()"
   ]
  },
  {
   "cell_type": "code",
   "execution_count": null,
   "metadata": {
    "collapsed": true
   },
   "outputs": [],
   "source": [
    "# When we want to save\n",
    "\n",
    "wb.save('heroes.xlsx')"
   ]
  },
  {
   "cell_type": "code",
   "execution_count": null,
   "metadata": {},
   "outputs": [],
   "source": [
    "# We can make sheets on the fly as we need them\n",
    "\n",
    "wb.create_sheet(index=1,title='heroines')\n",
    "wb.create_sheet(index=1,title='to_delete')\n",
    "wb.get_sheet_names()\n",
    "\n",
    "# IF a sheet name already is in use, it will\n",
    "# automatically add the sheet, but will add an incremental suffix:\n",
    "# i.e. heroines >>> heroines1\n"
   ]
  },
  {
   "cell_type": "code",
   "execution_count": null,
   "metadata": {},
   "outputs": [],
   "source": [
    "# Or remove them if we don't need them anymore\n",
    "\n",
    "wb.remove_sheet(wb.get_sheet_by_name('to_delete'))\n",
    "\n",
    "wb.get_sheet_names()"
   ]
  },
  {
   "cell_type": "code",
   "execution_count": null,
   "metadata": {},
   "outputs": [],
   "source": [
    "# We can easily assign values to cells that we want\n",
    "\n",
    "sheet['A1'] = 'first name'\n",
    "sheet['A1'].value"
   ]
  },
  {
   "cell_type": "markdown",
   "metadata": {},
   "source": [
    "# Dig deep: `list.pop()` method"
   ]
  },
  {
   "cell_type": "code",
   "execution_count": null,
   "metadata": {},
   "outputs": [],
   "source": [
    "# Interlude:\n",
    "\n",
    "myList = ['a', 'b', 'c', 'd']\n",
    "\n",
    "print(myList)\n",
    "print(myList.pop(), myList)\n",
    "print(myList.pop(), myList)\n",
    "print(myList.pop(), myList)\n",
    "print(myList.pop(), myList)\n",
    "\n",
    "# IndexError if the list is empty\n",
    "\n",
    "print(myList.pop(), myList)\n",
    "\n",
    "\n"
   ]
  },
  {
   "cell_type": "code",
   "execution_count": null,
   "metadata": {},
   "outputs": [],
   "source": [
    "# Interlude:\n",
    "\n",
    "# Popping via index value gives you the value at that index in the list\n",
    "\n",
    "myList2 = ['a', 'b', 'c', 'd']\n",
    "\n",
    "print(myList2)\n",
    "print(myList2.pop(0), myList)\n",
    "print(myList2.pop(0), myList)\n",
    "print(myList2.pop(0), myList)\n",
    "print(myList2.pop(0), myList)\n",
    "\n",
    "\n",
    "\n"
   ]
  },
  {
   "cell_type": "markdown",
   "metadata": {},
   "source": [
    "# Back to writing to Excel "
   ]
  },
  {
   "cell_type": "code",
   "execution_count": null,
   "metadata": {
    "collapsed": true
   },
   "outputs": [],
   "source": [
    "# Using index assignment we can programmatically fill in cell values\n",
    "\n",
    "names = ['Jessica', 'Jameson', 'Ashton', 'Brock', 'Miss T.', 'P. Kachu', 'M. E. Outh']\n",
    "\n",
    "for row_number in range(2, 9):\n",
    "    sheet.cell(row=row_number, column=1).value = names.pop(0)\n",
    "\n",
    "wb.save('heroes.xlsx')"
   ]
  },
  {
   "cell_type": "code",
   "execution_count": null,
   "metadata": {},
   "outputs": [],
   "source": [
    "# We can even change font and style of cells using openpyxl\n",
    "# Let's go back to our earlier avengers.xlsx file.\n",
    "\n",
    "import openpyxl\n",
    "wb = openpyxl.load_workbook('avengers.xlsx')\n",
    "wb.get_sheet_names()"
   ]
  },
  {
   "cell_type": "code",
   "execution_count": null,
   "metadata": {
    "collapsed": true
   },
   "outputs": [],
   "source": [
    "# If we want to make excel formulas we can also do that\n",
    "# We feed in a string that matches the exact Excel formula we would type in...\n",
    "\n",
    "logs = wb.get_sheet_by_name('logdates')\n",
    "\n",
    "logs['A11'].value = 'Sum:'\n",
    "logs['A12'].value = 'Average:'\n",
    "\n",
    "logs['B11'] = '=SUM(B1:B10)'\n",
    "logs['B12'] = '=AVERAGE(B1:B10)'\n",
    "\n",
    "wb.save('avengers_formula.xlsx')"
   ]
  },
  {
   "cell_type": "markdown",
   "metadata": {},
   "source": [
    "# Experience Points\n",
    "---"
   ]
  },
  {
   "cell_type": "markdown",
   "metadata": {
    "collapsed": true
   },
   "source": [
    "## Problem A\n",
    "\n",
    "1. Create a function that when given an email address can extract the UID (i.e. if given `ballen@jleague.org`, will return `ballen`)\n",
    "1. Open the file `avengers.xlsx` using openpyxl AND label it with a suitable filehandle\n",
    "1. Use the `openpyxl` module to read the data from the file (don't forget to import the module)\n",
    "1. Read the column that contains email addresses and call your function to return the UID\n",
    "1. Print the UID"
   ]
  },
  {
   "cell_type": "markdown",
   "metadata": {
    "collapsed": true
   },
   "source": [
    "## Problem B\n",
    "\n",
    "1. Create a function that when given two text values (lat and long) returns two values: \n",
    "   1. Convert each text value to a float\n",
    "   1. Use the round() function to round the float to two decimal places\n",
    "1. Open the file `avengers.xlsx` using openpyxl AND label it with a suitable filehandle\n",
    "1. For each row, call your function AND give it the lat and long values\n",
    "1. Print the date and the lat and long."
   ]
  },
  {
   "cell_type": "markdown",
   "metadata": {},
   "source": [
    "## Problem C\n",
    "\n",
    "Redo both the problems above, but instead of printing to screen, write the results to a new spreadsheet."
   ]
  },
  {
   "cell_type": "code",
   "execution_count": null,
   "metadata": {
    "collapsed": true
   },
   "outputs": [],
   "source": []
  },
  {
   "cell_type": "code",
   "execution_count": null,
   "metadata": {
    "collapsed": true
   },
   "outputs": [],
   "source": []
  },
  {
   "cell_type": "code",
   "execution_count": null,
   "metadata": {
    "collapsed": true
   },
   "outputs": [],
   "source": [
    "# Backups...\n",
    "\n",
    "# NOTE to self:\n",
    "# This needs to be investigated.\n",
    "# getting an error upon opening Excel, it does not like the \n",
    "# formatting and will offer to repair the file."
   ]
  },
  {
   "cell_type": "code",
   "execution_count": null,
   "metadata": {
    "collapsed": true
   },
   "outputs": [],
   "source": [
    "# We can even change font and style of cells using openpyxl\n",
    "from openpyxl.styles import Font\n",
    "\n",
    "logs = wb.get_sheet_by_name('logdates')\n",
    "\n",
    "ft = Font(name='Times', bold=True)\n",
    "\n",
    "cell = sheet['A2']\n",
    "cell.font = ft\n",
    "# for row in sheet['A1':'A10']:\n",
    "#    print(row)\n",
    "#    cell = row[0]\n",
    "#    cell.font = ft\n",
    "wb.save('avengers_font_formulas.xlsx')"
   ]
  },
  {
   "cell_type": "code",
   "execution_count": null,
   "metadata": {
    "collapsed": true
   },
   "outputs": [],
   "source": []
  }
 ],
 "metadata": {
  "anaconda-cloud": {},
  "celltoolbar": "Slideshow",
  "kernelspec": {
   "display_name": "Python [default]",
   "language": "python",
   "name": "python3"
  },
  "language_info": {
   "codemirror_mode": {
    "name": "ipython",
    "version": 3
   },
   "file_extension": ".py",
   "mimetype": "text/x-python",
   "name": "python",
   "nbconvert_exporter": "python",
   "pygments_lexer": "ipython3",
   "version": "3.5.3"
  }
 },
 "nbformat": 4,
 "nbformat_minor": 2
}
