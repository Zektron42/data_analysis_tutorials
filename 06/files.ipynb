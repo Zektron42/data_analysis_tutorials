{
 "cells": [
  {
   "cell_type": "markdown",
   "metadata": {
    "slideshow": {
     "slide_type": "slide"
    }
   },
   "source": [
    "# Welcome to the Dark Art of Coding:\n",
    "## Introduction to Python\n",
    "Reading and writing to files\n",
    "\n",
    "<img src='../images/dark_art_logo.600px.png' width='300' style=\"float:right\">"
   ]
  },
  {
   "cell_type": "markdown",
   "metadata": {},
   "source": [
    "# Objectives\n",
    "\n",
    "* Opening and closing files\n",
    "* Reading .txt files and basic .csv files\n"
   ]
  },
  {
   "cell_type": "markdown",
   "metadata": {},
   "source": [
    "# File handling\n",
    "---"
   ]
  },
  {
   "cell_type": "code",
   "execution_count": null,
   "metadata": {
    "collapsed": false
   },
   "outputs": [],
   "source": [
    "# Opening the file and assigning a filehandle\n",
    "\n",
    "fin = open('folder/carroll.txt')"
   ]
  },
  {
   "cell_type": "markdown",
   "metadata": {},
   "source": [
    "# File handles\n",
    "These are what python uses to refer to files and how to read/write to them. They hold a lot of data including\n",
    "\n",
    "* File data\n",
    "* A 'cursor' or 'pointer' used to read from\n",
    "* How large the file is\n",
    "* Where the file is"
   ]
  },
  {
   "cell_type": "code",
   "execution_count": null,
   "metadata": {
    "collapsed": false
   },
   "outputs": [],
   "source": [
    "# Reading in the content\n",
    "\n",
    "text = fin.read()\n",
    "print(text)"
   ]
  },
  {
   "cell_type": "code",
   "execution_count": null,
   "metadata": {
    "collapsed": true,
    "slideshow": {
     "slide_type": "fragment"
    }
   },
   "outputs": [],
   "source": [
    "# Putting your toys away, when you are done with them.\n",
    "\n",
    "fin.close()"
   ]
  },
  {
   "cell_type": "code",
   "execution_count": null,
   "metadata": {
    "collapsed": true,
    "slideshow": {
     "slide_type": "slide"
    }
   },
   "outputs": [],
   "source": [
    "fout = open('folder/output.txt', 'w')      # NOTE the 'w' to open the file for writing purposes\n",
    "fout.write('''Batman:\n",
    "The Dark Knight\n",
    "Returns''')\n",
    "fout.close()\n",
    "\n",
    "# Navigate to the folder in your file explorer and confirm:\n",
    "#     * the file exists\n",
    "#     * the content is present"
   ]
  },
  {
   "cell_type": "markdown",
   "metadata": {},
   "source": [
    "# Experience Points!\n",
    "\n",
    "On the **IPython interpreter** do each of the following:\n",
    "\n",
    "Task | Sample Object(s)\n",
    ":---|---\n",
    "Open a file | folder/carroll.txt\n",
    "Read in the text | `.read()`\n",
    "Print the text | `print()`\n",
    "\n",
    "<img src='../images/green_sticky.300px.png' width='200' style='float:left'>"
   ]
  },
  {
   "cell_type": "code",
   "execution_count": null,
   "metadata": {
    "collapsed": false,
    "slideshow": {
     "slide_type": "fragment"
    }
   },
   "outputs": [],
   "source": [
    "# it is not uncommon to chain functions together\n",
    "\n",
    "text = open('folder/carroll.txt').read()\n",
    "print(text)"
   ]
  },
  {
   "cell_type": "code",
   "execution_count": null,
   "metadata": {
    "collapsed": false
   },
   "outputs": [],
   "source": [
    "# What happens when we open a file that doesn't exist?\n",
    "\n",
    "file = open('notHere.txt')"
   ]
  },
  {
   "cell_type": "code",
   "execution_count": null,
   "metadata": {
    "collapsed": true
   },
   "outputs": [],
   "source": [
    "# We can use try/except to do things we think might bring up errors without stopping the program\n",
    "\n",
    "try:\n",
    "    file = open('nothere.txt')\n",
    "except:\n",
    "    print('FILE NOT FOUND')"
   ]
  },
  {
   "cell_type": "markdown",
   "metadata": {
    "slideshow": {
     "slide_type": "subslide"
    }
   },
   "source": [
    "# There are several primary means of reading in data:\n",
    "---\n",
    "* `read() `                    # reads the file in as a single string\n",
    "* `readline()`                 # reads in one line at a time\n",
    "* `readlines()`                # reads in all lines, as separate strings in a list \n",
    "* `for line in <filehandle>:`  # iterates over each line, one at a time```"
   ]
  },
  {
   "cell_type": "markdown",
   "metadata": {},
   "source": [
    "## `.readline()`"
   ]
  },
  {
   "cell_type": "code",
   "execution_count": null,
   "metadata": {
    "collapsed": false
   },
   "outputs": [],
   "source": [
    "data = open('folder/log_file.csv')\n",
    "line = data.readline()\n",
    "\n",
    "\n",
    "print(line)\n",
    "print('placeholder')\n"
   ]
  },
  {
   "cell_type": "markdown",
   "metadata": {},
   "source": [
    "## `.readlines()`"
   ]
  },
  {
   "cell_type": "code",
   "execution_count": null,
   "metadata": {
    "collapsed": false
   },
   "outputs": [],
   "source": [
    "data = open('folder/log_file.csv')\n",
    "list_of_lines = data.readlines()\n",
    "\n",
    "print(list_of_lines)\n"
   ]
  },
  {
   "cell_type": "markdown",
   "metadata": {},
   "source": [
    "## `for line in <filehandle>:`"
   ]
  },
  {
   "cell_type": "code",
   "execution_count": null,
   "metadata": {
    "collapsed": false
   },
   "outputs": [],
   "source": [
    "data = open('folder/log_file.csv')\n",
    "for line in data:\n",
    "    print(line)"
   ]
  },
  {
   "cell_type": "markdown",
   "metadata": {},
   "source": [
    "# Experience Points!\n",
    "\n",
    "On the **IPython interpreter** do each of the following:\n",
    "\n",
    "Task | Sample Object(s)\n",
    ":---|---\n",
    "Open a file | folder/log_file_1000.csv\n",
    "Use a for loop to read in the text | `for line in <filehandle>`\n",
    "Print each line | `print()`\n",
    "\n",
    "<img src='../images/green_sticky.300px.png' width='200' style='float:left'>"
   ]
  },
  {
   "cell_type": "markdown",
   "metadata": {},
   "source": [
    "# NOTE to self:\n",
    "lie >>> change the true number of lines in the file\n",
    "questions: \n",
    "* how many unique users\n",
    "* how many unique ips\n",
    "* how many lines\n"
   ]
  },
  {
   "cell_type": "code",
   "execution_count": null,
   "metadata": {
    "collapsed": true
   },
   "outputs": [],
   "source": [
    "# Let's look our previous file again...\n",
    "\n",
    "for line in data:\n",
    "    print(line)\n",
    "    \n",
    "# When executing this code, nothing happpened!    "
   ]
  },
  {
   "cell_type": "markdown",
   "metadata": {},
   "source": [
    "## do overs and more..."
   ]
  },
  {
   "cell_type": "code",
   "execution_count": null,
   "metadata": {
    "collapsed": false
   },
   "outputs": [],
   "source": [
    "# Let's reread the file\n",
    "\n",
    "data = open('folder/log_file.csv')\n",
    "byte = data.read(1)\n",
    "print('First byte:', byte)\n",
    "\n",
    "twobytes = data.read(2)\n",
    "print('Two bytes: ', twobytes)\n",
    "\n",
    "fourbytes = data.read(4)\n",
    "print('Four bytes:', fourbytes)\n",
    "\n",
    "print('Remainder: ', data.readline())\n",
    "print('Readline:  ', data.readline())"
   ]
  },
  {
   "cell_type": "code",
   "execution_count": null,
   "metadata": {
    "collapsed": false
   },
   "outputs": [],
   "source": [
    "# Let's rewind the file\n",
    "\n",
    "data.seek(0)\n",
    "\n",
    "# Read just one byte (the first byte in the file)\n",
    "byte = data.read(1)\n",
    "print('Back at beginning:', byte)\n",
    "\n",
    "# getting fancy\n",
    "print('Two bytes:'.rjust(18), data.read(2))"
   ]
  },
  {
   "cell_type": "code",
   "execution_count": null,
   "metadata": {
    "collapsed": false
   },
   "outputs": [],
   "source": [
    "# But where are we?\n",
    "\n",
    "print(data.tell())\n",
    "\n",
    "data.read(3)\n",
    "\n",
    "print(data.tell())"
   ]
  },
  {
   "cell_type": "markdown",
   "metadata": {},
   "source": [
    "# Let's do some work!\n",
    "---"
   ]
  },
  {
   "cell_type": "code",
   "execution_count": null,
   "metadata": {
    "collapsed": false
   },
   "outputs": [],
   "source": [
    "data = open('folder/names.txt')\n",
    "\n",
    "lineNum = 0\n",
    "\n",
    "for line in data:\n",
    "    lineNum += 1\n",
    "    if line.startswith('J'):\n",
    "        print(lineNum, line)"
   ]
  },
  {
   "cell_type": "markdown",
   "metadata": {},
   "source": [
    "# newline characters\n",
    "\n",
    "Files typically have more than one line\n",
    "\n",
    "There's a special character used to indicate a newline in python: `'\\n'`\n",
    "\n",
    "This character can be tricky. It shows up at the end of every line when we read in data both line by line as well as all at once\n",
    "\n",
    "The easiest way to get rid of this is the with the `.strip()` method"
   ]
  },
  {
   "cell_type": "code",
   "execution_count": null,
   "metadata": {
    "collapsed": true
   },
   "outputs": [],
   "source": [
    "print('my string of text\\n'.strip())"
   ]
  },
  {
   "cell_type": "code",
   "execution_count": null,
   "metadata": {
    "collapsed": false
   },
   "outputs": [],
   "source": [
    "data = open('folder/names.txt')\n",
    "\n",
    "lineNum = 0\n",
    "\n",
    "for line in data:\n",
    "    lineNum += 1\n",
    "    if line.startswith('J'):\n",
    "        line = line.strip() # Let's get rid of that pesky newline\n",
    "        print(lineNum, line)"
   ]
  },
  {
   "cell_type": "markdown",
   "metadata": {
    "collapsed": true
   },
   "source": [
    "# OK, so maybe real work\n",
    "---\n",
    "\n"
   ]
  },
  {
   "cell_type": "code",
   "execution_count": null,
   "metadata": {
    "collapsed": false
   },
   "outputs": [],
   "source": [
    "data = open('folder/nums.txt')\n",
    "\n",
    "for line in data:\n",
    "    line = line.strip()\n",
    "    num = int(line)\n",
    "    print(num ** 2)"
   ]
  },
  {
   "cell_type": "markdown",
   "metadata": {
    "collapsed": true
   },
   "source": [
    "# Writing to files\n",
    "---"
   ]
  },
  {
   "cell_type": "code",
   "execution_count": null,
   "metadata": {
    "collapsed": true
   },
   "outputs": [],
   "source": [
    "fout = open('folder/buffer.txt', 'w')"
   ]
  },
  {
   "cell_type": "code",
   "execution_count": null,
   "metadata": {
    "collapsed": false
   },
   "outputs": [],
   "source": [
    "for number in range(20000000):\n",
    "    number = str(number)\n",
    "    fout.write(number)\n",
    "    \n",
    "print('done')    "
   ]
  },
  {
   "cell_type": "code",
   "execution_count": null,
   "metadata": {
    "collapsed": true
   },
   "outputs": [],
   "source": [
    "fout.flush()"
   ]
  },
  {
   "cell_type": "code",
   "execution_count": null,
   "metadata": {
    "collapsed": true
   },
   "outputs": [],
   "source": [
    "fout.close()"
   ]
  },
  {
   "cell_type": "markdown",
   "metadata": {
    "collapsed": true
   },
   "source": [
    "# Experience Points!\n",
    "\n",
    "In a **File** write code that does the following\n",
    "\n",
    "1. Opens a file\n",
    "1. Puts you into a `while` loop\n",
    "1. Asks for `input()`\n",
    "1. If the input is `'exit'` breaks the loop\n",
    "1. Otherwise writes your input to the file\n",
    "1. Once the loop is finished closes the file\n",
    "\n",
    "<img src='../images/green_sticky.300px.png' width='200' style='float:left'>"
   ]
  },
  {
   "cell_type": "code",
   "execution_count": null,
   "metadata": {
    "collapsed": true
   },
   "outputs": [],
   "source": []
  }
 ],
 "metadata": {
  "anaconda-cloud": {},
  "kernelspec": {
   "display_name": "Python 3",
   "language": "python",
   "name": "python3"
  },
  "language_info": {
   "codemirror_mode": {
    "name": "ipython",
    "version": 3
   },
   "file_extension": ".py",
   "mimetype": "text/x-python",
   "name": "python",
   "nbconvert_exporter": "python",
   "pygments_lexer": "ipython3",
   "version": "3.4.5"
  }
 },
 "nbformat": 4,
 "nbformat_minor": 1
}
