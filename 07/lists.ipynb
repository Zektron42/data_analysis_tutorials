{
 "cells": [
  {
   "cell_type": "markdown",
   "metadata": {
    "slideshow": {
     "slide_type": "slide"
    }
   },
   "source": [
    "<h1>Dark Art of Coding presents:</h1>\n",
    "<h2>Introduction to Lists and Tuples</h2>\n",
    "\n",
    "<img src='logos.3.600.wide.png' height='250' width='300' style=\"float:right\">"
   ]
  },
  {
   "cell_type": "markdown",
   "metadata": {
    "slideshow": {
     "slide_type": "slide"
    }
   },
   "source": [
    "<h1>Today's Objectives:</h1>\n",
    "<ul>\n",
    "    <li><strong>Explain what a Python list and tuple are</strong></li>\n",
    "    <li><strong>Demonstrate how to use list indexes to reference specific items in a Python list or tuple</strong></li>\n",
    "    <li><strong>Show the methods associated with lists and tuples</strong></li>\n",
    "    <li><strong>Call a list method, such as append() or extend()</strong></li>\n",
    "</ul>"
   ]
  },
  {
   "cell_type": "markdown",
   "metadata": {
    "slideshow": {
     "slide_type": "slide"
    }
   },
   "source": [
    "<h1>What is a list?</h1>"
   ]
  },
  {
   "cell_type": "code",
   "execution_count": 2,
   "metadata": {
    "slideshow": {
     "slide_type": "slide"
    }
   },
   "outputs": [
    {
     "name": "stdout",
     "output_type": "stream",
     "text": [
      "['São Paulo', 'Paris', 'London', 'San Fransokyo']\n"
     ]
    }
   ],
   "source": [
    "cities = ['São Paulo', 'Paris', 'London', 'San Fransokyo']\n",
    "#           ^            ^            ^         ^\n",
    "#           0            1            2         3\n",
    "\n",
    "print(cities)\n",
    "\n",
    "# each item is indexed, starting at zero"
   ]
  },
  {
   "cell_type": "code",
   "execution_count": 10,
   "metadata": {
    "slideshow": {
     "slide_type": "fragment"
    }
   },
   "outputs": [
    {
     "name": "stdout",
     "output_type": "stream",
     "text": [
      "São Paulo\n",
      "Paris\n",
      "London\n",
      "San Fransokyo\n"
     ]
    }
   ],
   "source": [
    "print(cities[0])\n",
    "print(cities[1])\n",
    "print(cities[2])\n",
    "print(cities[3])"
   ]
  },
  {
   "cell_type": "code",
   "execution_count": 11,
   "metadata": {
    "slideshow": {
     "slide_type": "fragment"
    }
   },
   "outputs": [
    {
     "name": "stdout",
     "output_type": "stream",
     "text": [
      "You traveled to London and San Fransokyo\n"
     ]
    }
   ],
   "source": [
    "print('You traveled to ' + cities[2] + ' and ' + cities[3])"
   ]
  },
  {
   "cell_type": "code",
   "execution_count": 12,
   "metadata": {
    "slideshow": {
     "slide_type": "slide"
    }
   },
   "outputs": [
    {
     "ename": "TypeError",
     "evalue": "list indices must be integers or slices, not float",
     "output_type": "error",
     "traceback": [
      "\u001b[0;31m---------------------------------------------------------------------------\u001b[0m",
      "\u001b[0;31mTypeError\u001b[0m                                 Traceback (most recent call last)",
      "\u001b[0;32m<ipython-input-12-e0509163d387>\u001b[0m in \u001b[0;36m<module>\u001b[0;34m()\u001b[0m\n\u001b[0;32m----> 1\u001b[0;31m \u001b[0mcities\u001b[0m\u001b[0;34m[\u001b[0m\u001b[0;36m1.0\u001b[0m\u001b[0;34m]\u001b[0m\u001b[0;34m\u001b[0m\u001b[0m\n\u001b[0m",
      "\u001b[0;31mTypeError\u001b[0m: list indices must be integers or slices, not float"
     ]
    }
   ],
   "source": [
    "cities[1.0]"
   ]
  },
  {
   "cell_type": "code",
   "execution_count": 13,
   "metadata": {
    "slideshow": {
     "slide_type": "fragment"
    }
   },
   "outputs": [
    {
     "ename": "IndexError",
     "evalue": "list index out of range",
     "output_type": "error",
     "traceback": [
      "\u001b[0;31m---------------------------------------------------------------------------\u001b[0m",
      "\u001b[0;31mIndexError\u001b[0m                                Traceback (most recent call last)",
      "\u001b[0;32m<ipython-input-13-e4527f7c203c>\u001b[0m in \u001b[0;36m<module>\u001b[0;34m()\u001b[0m\n\u001b[0;32m----> 1\u001b[0;31m \u001b[0mcities\u001b[0m\u001b[0;34m[\u001b[0m\u001b[0;36m42\u001b[0m\u001b[0;34m]\u001b[0m\u001b[0;34m\u001b[0m\u001b[0m\n\u001b[0m",
      "\u001b[0;31mIndexError\u001b[0m: list index out of range"
     ]
    }
   ],
   "source": [
    "cities[42]"
   ]
  },
  {
   "cell_type": "code",
   "execution_count": 14,
   "metadata": {
    "collapsed": true,
    "slideshow": {
     "slide_type": "subslide"
    }
   },
   "outputs": [],
   "source": [
    "# heterogenous elements are ok...\n",
    "\n",
    "randomStuff = ['name', 7, 'food']\n",
    "\n",
    "# but homogeneous element types are the norm\n",
    "# see tuples..."
   ]
  },
  {
   "cell_type": "markdown",
   "metadata": {
    "slideshow": {
     "slide_type": "slide"
    }
   },
   "source": [
    "<pre>items = ['Sword', 'Health Potion', 'Armor', 'Shield']<br>\n",
    "            ^            ^            ^         ^\n",
    "<font color='gray'>            0            1            2         3</font>\n",
    "           -4           -3           -2        -1\n",
    "<br>\n",
    "print(items)\n",
    "<br>\n",
    "['Sword', 'Health Potion', 'Armor', 'Shield']\n",
    "</pre>"
   ]
  },
  {
   "cell_type": "code",
   "execution_count": 15,
   "metadata": {
    "slideshow": {
     "slide_type": "fragment"
    }
   },
   "outputs": [
    {
     "name": "stdout",
     "output_type": "stream",
     "text": [
      "['Sword', 'Health Potion', 'Armor', 'Shield']\n",
      "\n",
      "Shield\n",
      "Armor\n",
      "Health Potion\n"
     ]
    }
   ],
   "source": [
    "items = ['Sword', 'Health Potion', 'Armor', 'Shield']\n",
    "print(items)\n",
    "print()\n",
    "print(items[-1])\n",
    "print(items[-2])\n",
    "print(items[-3])"
   ]
  },
  {
   "cell_type": "code",
   "execution_count": 16,
   "metadata": {
    "collapsed": true,
    "slideshow": {
     "slide_type": "slide"
    }
   },
   "outputs": [],
   "source": [
    "# Nested lists are fine\n",
    "\n",
    "Character = [['Name', 'Class'], \n",
    "             ['Strength', 'Vitality', 'Dexterity'],\n",
    "             ['Sword', 'Armor', 'Health Potion']]"
   ]
  },
  {
   "cell_type": "code",
   "execution_count": 17,
   "metadata": {
    "slideshow": {
     "slide_type": "fragment"
    }
   },
   "outputs": [
    {
     "data": {
      "text/plain": [
       "'Dexterity'"
      ]
     },
     "execution_count": 17,
     "metadata": {},
     "output_type": "execute_result"
    }
   ],
   "source": [
    "# Accessing elements from sublists is also accomplished \n",
    "# via indexing\n",
    "\n",
    "Character[1][2]"
   ]
  },
  {
   "cell_type": "code",
   "execution_count": 18,
   "metadata": {
    "slideshow": {
     "slide_type": "fragment"
    }
   },
   "outputs": [
    {
     "data": {
      "text/plain": [
       "'Class'"
      ]
     },
     "execution_count": 18,
     "metadata": {},
     "output_type": "execute_result"
    }
   ],
   "source": [
    "Character[0][1]"
   ]
  },
  {
   "cell_type": "code",
   "execution_count": 22,
   "metadata": {
    "slideshow": {
     "slide_type": "slide"
    }
   },
   "outputs": [
    {
     "name": "stdout",
     "output_type": "stream",
     "text": [
      "['Sword', 'Health Potion', 'Armor', 'Shield']\n",
      "\n",
      "sliced from 0 upto but not including 3:\n",
      "['Sword', 'Health Potion', 'Armor']\n"
     ]
    }
   ],
   "source": [
    "# Want more items from a list?\n",
    "# use slices...\n",
    "\n",
    "print(items)\n",
    "print()\n",
    "print('sliced from 0 upto but not including 3:')\n",
    "print(items[0:3])"
   ]
  },
  {
   "cell_type": "code",
   "execution_count": 23,
   "metadata": {
    "slideshow": {
     "slide_type": "fragment"
    }
   },
   "outputs": [
    {
     "name": "stdout",
     "output_type": "stream",
     "text": [
      "sliced from 1 upto but not including 4:\n",
      "['Health Potion', 'Armor', 'Shield']\n"
     ]
    }
   ],
   "source": [
    "print('sliced from 1 upto but not including 4:')\n",
    "print(items[1:4])"
   ]
  },
  {
   "cell_type": "code",
   "execution_count": 9,
   "metadata": {
    "slideshow": {
     "slide_type": "fragment"
    }
   },
   "outputs": [
    {
     "name": "stdout",
     "output_type": "stream",
     "text": [
      "sliced from 0 upto but not including -1:\n",
      "['Sword', 'Health Potion', 'Armor']\n"
     ]
    }
   ],
   "source": [
    "print('sliced from 0 upto but not including -1:')\n",
    "print(items[0:-1])"
   ]
  },
  {
   "cell_type": "code",
   "execution_count": 24,
   "metadata": {
    "slideshow": {
     "slide_type": "fragment"
    }
   },
   "outputs": [
    {
     "name": "stdout",
     "output_type": "stream",
     "text": [
      "sliced from 0 upto but not including 4:\n",
      "['Sword', 'Health Potion', 'Armor', 'Shield']\n"
     ]
    }
   ],
   "source": [
    "# shortcut\n",
    "\n",
    "print('sliced from 0 upto but not including 4:')\n",
    "print(items[:4])"
   ]
  },
  {
   "cell_type": "code",
   "execution_count": 11,
   "metadata": {
    "collapsed": true,
    "slideshow": {
     "slide_type": "fragment"
    }
   },
   "outputs": [],
   "source": [
    "# this syntax is often used to make a copy of a list\n",
    "\n",
    "item_copy = items[:]    "
   ]
  },
  {
   "cell_type": "code",
   "execution_count": 2,
   "metadata": {},
   "outputs": [
    {
     "data": {
      "text/plain": [
       "['Sword', 'Armor']"
      ]
     },
     "execution_count": 2,
     "metadata": {},
     "output_type": "execute_result"
    }
   ],
   "source": [
    "items = ['Sword', 'Health Potion', 'Armor', 'Shield']\n",
    "items[::2]\n",
    "    "
   ]
  },
  {
   "cell_type": "code",
   "execution_count": 12,
   "metadata": {
    "slideshow": {
     "slide_type": "slide"
    }
   },
   "outputs": [
    {
     "data": {
      "text/plain": [
       "4"
      ]
     },
     "execution_count": 12,
     "metadata": {},
     "output_type": "execute_result"
    }
   ],
   "source": [
    "len(items)"
   ]
  },
  {
   "cell_type": "code",
   "execution_count": 25,
   "metadata": {
    "slideshow": {
     "slide_type": "slide"
    }
   },
   "outputs": [
    {
     "name": "stdout",
     "output_type": "stream",
     "text": [
      "['Sword', 'Health Potion', 'Armor', 'Shield']\n",
      "['Sword', 'Health Potion', 'Plate Armor', 'Shield']\n"
     ]
    }
   ],
   "source": [
    "print(items)\n",
    "items[2] = 'Plate Armor'\n",
    "print(items)"
   ]
  },
  {
   "cell_type": "code",
   "execution_count": 26,
   "metadata": {
    "slideshow": {
     "slide_type": "fragment"
    }
   },
   "outputs": [
    {
     "ename": "IndexError",
     "evalue": "list assignment index out of range",
     "output_type": "error",
     "traceback": [
      "\u001b[0;31m---------------------------------------------------------------------------\u001b[0m",
      "\u001b[0;31mIndexError\u001b[0m                                Traceback (most recent call last)",
      "\u001b[0;32m<ipython-input-26-12640529617c>\u001b[0m in \u001b[0;36m<module>\u001b[0;34m()\u001b[0m\n\u001b[0;32m----> 1\u001b[0;31m \u001b[0mitems\u001b[0m\u001b[0;34m[\u001b[0m\u001b[0;36m5\u001b[0m\u001b[0;34m]\u001b[0m \u001b[0;34m=\u001b[0m \u001b[0;34m'food'\u001b[0m\u001b[0;34m\u001b[0m\u001b[0m\n\u001b[0m\u001b[1;32m      2\u001b[0m \u001b[0mprint\u001b[0m\u001b[0;34m(\u001b[0m\u001b[0mitems\u001b[0m\u001b[0;34m)\u001b[0m\u001b[0;34m\u001b[0m\u001b[0m\n",
      "\u001b[0;31mIndexError\u001b[0m: list assignment index out of range"
     ]
    }
   ],
   "source": [
    "items[5] = 'food'\n",
    "print(items)"
   ]
  },
  {
   "cell_type": "code",
   "execution_count": 28,
   "metadata": {
    "slideshow": {
     "slide_type": "slide"
    }
   },
   "outputs": [
    {
     "data": {
      "text/plain": [
       "[1, 2, 3, 'Z', 'Y', 'X']"
      ]
     },
     "execution_count": 28,
     "metadata": {},
     "output_type": "execute_result"
    }
   ],
   "source": [
    "# concatenating two lists...\n",
    "\n",
    "[1, 2, 3] + ['Z', 'Y', 'X']"
   ]
  },
  {
   "cell_type": "code",
   "execution_count": 29,
   "metadata": {
    "slideshow": {
     "slide_type": "fragment"
    }
   },
   "outputs": [
    {
     "data": {
      "text/plain": [
       "[1, 2, 3, 1, 2, 3, 1, 2, 3, 1, 2, 3]"
      ]
     },
     "execution_count": 29,
     "metadata": {},
     "output_type": "execute_result"
    }
   ],
   "source": [
    "# repetitively concatenating\n",
    "\n",
    "[1, 2, 3] * 4"
   ]
  },
  {
   "cell_type": "code",
   "execution_count": 30,
   "metadata": {
    "slideshow": {
     "slide_type": "slide"
    }
   },
   "outputs": [
    {
     "name": "stdout",
     "output_type": "stream",
     "text": [
      "10\n",
      "20\n",
      "30\n",
      "40\n"
     ]
    }
   ],
   "source": [
    "# iterating over a list\n",
    "\n",
    "for number in [10, 20, 30, 40]:\n",
    "    print(number)"
   ]
  },
  {
   "cell_type": "code",
   "execution_count": 32,
   "metadata": {
    "slideshow": {
     "slide_type": "slide"
    }
   },
   "outputs": [
    {
     "data": {
      "text/plain": [
       "False"
      ]
     },
     "execution_count": 32,
     "metadata": {},
     "output_type": "execute_result"
    }
   ],
   "source": [
    "# Testing for inclusion\n",
    "\n",
    "'sword' in items"
   ]
  },
  {
   "cell_type": "code",
   "execution_count": 33,
   "metadata": {
    "slideshow": {
     "slide_type": "fragment"
    }
   },
   "outputs": [
    {
     "data": {
      "text/plain": [
       "True"
      ]
     },
     "execution_count": 33,
     "metadata": {},
     "output_type": "execute_result"
    }
   ],
   "source": [
    "'spear' not in items"
   ]
  },
  {
   "cell_type": "code",
   "execution_count": 20,
   "metadata": {
    "slideshow": {
     "slide_type": "subslide"
    }
   },
   "outputs": [
    {
     "name": "stdout",
     "output_type": "stream",
     "text": [
      "What is your favorite food? pizza\n",
      "You like pizza?\n",
      "Me too!\n"
     ]
    }
   ],
   "source": [
    "foods = ['pizza', 'cereal', 'ice cream']\n",
    "foodCheck = input('What is your favorite food? ')\n",
    "if foodCheck in foods:\n",
    "    print('You like ' + foodCheck + '?')\n",
    "    print('Me too!')\n",
    "else:\n",
    "    print('Ew gross!')"
   ]
  },
  {
   "cell_type": "code",
   "execution_count": 35,
   "metadata": {
    "scrolled": true,
    "slideshow": {
     "slide_type": "fragment"
    }
   },
   "outputs": [
    {
     "name": "stdout",
     "output_type": "stream",
     "text": [
      "['Sword', 'Health Potion', 'Plate Armor', 'Shield']\n",
      "\n",
      "['Sword', 'Plate Armor', 'Shield']\n"
     ]
    }
   ],
   "source": [
    "print(items)\n",
    "print()\n",
    "del items[1]\n",
    "print(items)"
   ]
  },
  {
   "cell_type": "code",
   "execution_count": 36,
   "metadata": {
    "scrolled": true,
    "slideshow": {
     "slide_type": "fragment"
    }
   },
   "outputs": [
    {
     "ename": "NameError",
     "evalue": "name 'items' is not defined",
     "output_type": "error",
     "traceback": [
      "\u001b[0;31m---------------------------------------------------------------------------\u001b[0m",
      "\u001b[0;31mNameError\u001b[0m                                 Traceback (most recent call last)",
      "\u001b[0;32m<ipython-input-36-785ec6daa81c>\u001b[0m in \u001b[0;36m<module>\u001b[0;34m()\u001b[0m\n\u001b[1;32m      1\u001b[0m \u001b[0;32mdel\u001b[0m \u001b[0mitems\u001b[0m\u001b[0;34m\u001b[0m\u001b[0m\n\u001b[0;32m----> 2\u001b[0;31m \u001b[0mprint\u001b[0m\u001b[0;34m(\u001b[0m\u001b[0mitems\u001b[0m\u001b[0;34m)\u001b[0m\u001b[0;34m\u001b[0m\u001b[0m\n\u001b[0m",
      "\u001b[0;31mNameError\u001b[0m: name 'items' is not defined"
     ]
    }
   ],
   "source": [
    "del items\n",
    "print(items)"
   ]
  },
  {
   "cell_type": "code",
   "execution_count": 24,
   "metadata": {
    "slideshow": {
     "slide_type": "slide"
    }
   },
   "outputs": [
    {
     "name": "stdout",
     "output_type": "stream",
     "text": [
      "Weapon: sword\t Indexed as 0\n",
      "Weapon: axe\t Indexed as 1\n",
      "Weapon: bow\t Indexed as 2\n",
      "Weapon: dagger\t Indexed as 3\n"
     ]
    }
   ],
   "source": [
    "weapons = ['sword', 'axe', 'bow', 'dagger']\n",
    "for index in range(len(weapons)):\n",
    "    print('Weapon: ' + weapons[index] + '\\t Indexed as ' + str(index))"
   ]
  },
  {
   "cell_type": "code",
   "execution_count": 25,
   "metadata": {
    "slideshow": {
     "slide_type": "slide"
    }
   },
   "outputs": [
    {
     "name": "stdout",
     "output_type": "stream",
     "text": [
      "Arthur England\n"
     ]
    }
   ],
   "source": [
    "# extracting and naming particular fields\n",
    "# is doable\n",
    "\n",
    "hero = ['Arthur', 'sword', 'England', 'chain armor']\n",
    "name = hero[0]\n",
    "weapon = hero[1]\n",
    "country = hero[2]\n",
    "armor = hero[3]\n",
    "\n",
    "\n",
    "print(name, country)"
   ]
  },
  {
   "cell_type": "code",
   "execution_count": 27,
   "metadata": {
    "slideshow": {
     "slide_type": "fragment"
    }
   },
   "outputs": [
    {
     "name": "stdout",
     "output_type": "stream",
     "text": [
      "sword chain armor\n"
     ]
    }
   ],
   "source": [
    "# doing it all in one fell swoop is \n",
    "# often better\n",
    "\n",
    "hero = ['Arthur', 'sword', 'England', 'chain armor']\n",
    "name, weapon, country, armor = hero               # list/tuple unpacking \n",
    "\n",
    "print(weapon, armor)"
   ]
  },
  {
   "cell_type": "code",
   "execution_count": 27,
   "metadata": {
    "slideshow": {
     "slide_type": "fragment"
    }
   },
   "outputs": [
    {
     "name": "stdout",
     "output_type": "stream",
     "text": [
      "sword chain armor\n"
     ]
    }
   ],
   "source": [
    "hero = ['Arthur']\n",
    "hero *= 4\n",
    "print(hero)"
   ]
  },
  {
   "cell_type": "markdown",
   "metadata": {
    "slideshow": {
     "slide_type": "slide"
    }
   },
   "source": [
    "<h2>Methods!</h2>"
   ]
  },
  {
   "cell_type": "code",
   "execution_count": 32,
   "metadata": {
    "slideshow": {
     "slide_type": "slide"
    }
   },
   "outputs": [
    {
     "name": "stdout",
     "output_type": "stream",
     "text": [
      "['sword', 'shield', 'health potion', 'armor', 'boots']\n"
     ]
    },
    {
     "data": {
      "text/plain": [
       "1"
      ]
     },
     "execution_count": 32,
     "metadata": {},
     "output_type": "execute_result"
    }
   ],
   "source": [
    "items = ['sword', 'shield', 'health potion', 'armor', 'boots']\n",
    "print(items)\n",
    "\n",
    "items.index('shield')"
   ]
  },
  {
   "cell_type": "markdown",
   "metadata": {
    "slideshow": {
     "slide_type": "slide"
    }
   },
   "source": [
    "<pre>\n",
    "items.append()\n",
    "items.clear()\n",
    "items.copy()\n",
    "items.count()\n",
    "items.extend()\n",
    "items.index()\n",
    "items.insert()\n",
    "items.pop()\n",
    "items.remove()\n",
    "items.reverse()\n",
    "items.sort()\n",
    "</pre>"
   ]
  },
  {
   "cell_type": "code",
   "execution_count": 3,
   "metadata": {
    "collapsed": true
   },
   "outputs": [],
   "source": [
    "items = ['sword', 'shield', 'health potion', 'armor', 'boots']\n"
   ]
  },
  {
   "cell_type": "code",
   "execution_count": 4,
   "metadata": {
    "collapsed": true
   },
   "outputs": [],
   "source": [
    "items.count?"
   ]
  },
  {
   "cell_type": "code",
   "execution_count": 35,
   "metadata": {
    "slideshow": {
     "slide_type": "slide"
    }
   },
   "outputs": [
    {
     "name": "stdout",
     "output_type": "stream",
     "text": [
      "Help on built-in function append:\n",
      "\n",
      "append(...) method of builtins.list instance\n",
      "    L.append(object) -> None -- append object to end\n",
      "\n"
     ]
    }
   ],
   "source": [
    "help(items.append)\n",
    "\n",
    "\n",
    "# Helpful hints...\n",
    "# 'L' stands for your variable name\n",
    "# '->' shows what this function returns as a return value\n",
    "# everything after the '--' is the help documentation\n"
   ]
  },
  {
   "cell_type": "code",
   "execution_count": 36,
   "metadata": {
    "slideshow": {
     "slide_type": "slide"
    }
   },
   "outputs": [
    {
     "name": "stdout",
     "output_type": "stream",
     "text": [
      "['sword', 'shield', 'health potion', 'armor', 'boots', 'armor']\n"
     ]
    }
   ],
   "source": [
    "items.append('armor')\n",
    "print(items)"
   ]
  },
  {
   "cell_type": "code",
   "execution_count": 37,
   "metadata": {
    "slideshow": {
     "slide_type": "slide"
    }
   },
   "outputs": [
    {
     "name": "stdout",
     "output_type": "stream",
     "text": [
      "['sword', 'shield', 'health potion', 'armor', 'boots', 'armor', ['food', 'map']]\n"
     ]
    }
   ],
   "source": [
    "items.append(['food', 'map'])\n",
    "print(items)"
   ]
  },
  {
   "cell_type": "code",
   "execution_count": 38,
   "metadata": {
    "slideshow": {
     "slide_type": "fragment"
    }
   },
   "outputs": [
    {
     "name": "stdout",
     "output_type": "stream",
     "text": [
      "['sword', 'shield', 'health potion', 'armor', 'boots', 'armor']\n"
     ]
    }
   ],
   "source": [
    "del items[6]\n",
    "print(items)"
   ]
  },
  {
   "cell_type": "code",
   "execution_count": 39,
   "metadata": {
    "scrolled": true,
    "slideshow": {
     "slide_type": "fragment"
    }
   },
   "outputs": [
    {
     "name": "stdout",
     "output_type": "stream",
     "text": [
      "['sword', 'shield', 'health potion', 'armor', 'boots', 'armor', 'food', 'map']\n"
     ]
    }
   ],
   "source": [
    "items.extend(['food', 'map'])\n",
    "print(items)"
   ]
  },
  {
   "cell_type": "code",
   "execution_count": 40,
   "metadata": {
    "slideshow": {
     "slide_type": "slide"
    }
   },
   "outputs": [
    {
     "name": "stdout",
     "output_type": "stream",
     "text": [
      "Help on built-in function sort:\n",
      "\n",
      "sort(...) method of builtins.list instance\n",
      "    L.sort(key=None, reverse=False) -> None -- stable sort *IN PLACE*\n",
      "\n"
     ]
    }
   ],
   "source": [
    "help(items.sort)"
   ]
  },
  {
   "cell_type": "code",
   "execution_count": 41,
   "metadata": {
    "slideshow": {
     "slide_type": "fragment"
    }
   },
   "outputs": [
    {
     "name": "stdout",
     "output_type": "stream",
     "text": [
      "['armor', 'armor', 'boots', 'food', 'health potion', 'map', 'shield', 'sword']\n"
     ]
    }
   ],
   "source": [
    "items.sort()\n",
    "print(items)\n",
    "\n",
    "# note: this sorts in ascii-betical order"
   ]
  },
  {
   "cell_type": "markdown",
   "metadata": {
    "slideshow": {
     "slide_type": "subslide"
    }
   },
   "source": [
    "ID:|Char:|ID:|Char:|ID:|Char:|ID:|Char\n",
    "---|-----|---|-----|---|-----|---|-----\n",
    "033| !   |048| 0   |065| A   |097| a\n",
    "034| \"   |049| 1   |066| B   |098| b\n",
    "036| $   |050| 2   |067| C   |099| c\n",
    "039| '   |051| 3   |068| D   |100| d\n",
    "040| (   |052| 4   |069| E   |101| e\n",
    "041| )   |053| 5   |---| ... |---| ...\n",
    "043| +   |054| 6   |087| W   |119| w\n",
    "044| ,   |055| 7   |088| X   |120| x\n",
    "045| -   |056| 8   |089| Y   |121| y\n",
    "046| .   |057| 9   |090| Z   |122| z"
   ]
  },
  {
   "cell_type": "code",
   "execution_count": 42,
   "metadata": {
    "slideshow": {
     "slide_type": "subslide"
    }
   },
   "outputs": [
    {
     "name": "stdout",
     "output_type": "stream",
     "text": [
      "['C', 'E', 'a', 'b', 'd']\n"
     ]
    }
   ],
   "source": [
    "junk = ['a', 'b', 'C', 'd', 'E']\n",
    "junk.sort()\n",
    "print(junk)"
   ]
  },
  {
   "cell_type": "code",
   "execution_count": 43,
   "metadata": {
    "slideshow": {
     "slide_type": "fragment"
    }
   },
   "outputs": [
    {
     "name": "stdout",
     "output_type": "stream",
     "text": [
      "['a', 'b', 'C', 'd', 'E']\n"
     ]
    }
   ],
   "source": [
    "junk = ['a', 'b', 'C', 'd', 'E']\n",
    "junk.sort(key=str.lower)\n",
    "print(junk)"
   ]
  }
 ],
 "metadata": {
  "anaconda-cloud": {},
  "celltoolbar": "Slideshow",
  "kernelspec": {
   "display_name": "Python 3",
   "language": "python",
   "name": "python3"
  },
  "language_info": {
   "codemirror_mode": {
    "name": "ipython",
    "version": 3
   },
   "file_extension": ".py",
   "mimetype": "text/x-python",
   "name": "python",
   "nbconvert_exporter": "python",
   "pygments_lexer": "ipython3",
   "version": "3.6.1"
  }
 },
 "nbformat": 4,
 "nbformat_minor": 1
}
