{
 "cells": [
  {
   "cell_type": "markdown",
   "metadata": {
    "slideshow": {
     "slide_type": "slide"
    }
   },
   "source": [
    "# Welcome to the Dark Art of Coding:\n",
    "## Introduction to Python\n",
    "Lists\n",
    "\n",
    "<img src='../images/dark_art_logo.600px.png' width='300' style=\"float:right\">"
   ]
  },
  {
   "cell_type": "markdown",
   "metadata": {},
   "source": [
    "# Objectives\n",
    "---"
   ]
  },
  {
   "cell_type": "markdown",
   "metadata": {},
   "source": [
    "In this session, students should expect to:\n",
    "\n",
    "* Understand what a Python list is\n",
    "* Use indexing and slicing in lists to extract specific items\n",
    "* Learn which methods are associated with lists\n",
    "* Use representative list methods, such as .append() and .extend()"
   ]
  },
  {
   "cell_type": "markdown",
   "metadata": {
    "slideshow": {
     "slide_type": "-"
    }
   },
   "source": [
    "# What is a list?\n",
    "---"
   ]
  },
  {
   "cell_type": "markdown",
   "metadata": {},
   "source": [
    "* Lists are a collection of objects\n",
    "* Lists may contain any number of objects OR may be empty\n",
    "* They do not need to be defined or initialized beforehand\n",
    "* They may contain any Python object, including other lists\n",
    "* Lists may be assigned a label OR they may be used as constants\n",
    "* Lists may be changed (i.e. they are mutable)"
   ]
  },
  {
   "cell_type": "code",
   "execution_count": 32,
   "metadata": {
    "slideshow": {
     "slide_type": "-"
    }
   },
   "outputs": [
    {
     "name": "stdout",
     "output_type": "stream",
     "text": [
      "['São Paulo', 'Paris', 'London', 'San Fransokyo']\n"
     ]
    }
   ],
   "source": [
    "cities = ['São Paulo', 'Paris', 'London', 'San Fransokyo']\n",
    "print(cities)\n"
   ]
  },
  {
   "cell_type": "markdown",
   "metadata": {},
   "source": [
    "# Indexing and slicing\n",
    "---"
   ]
  },
  {
   "cell_type": "code",
   "execution_count": 33,
   "metadata": {
    "collapsed": true,
    "slideshow": {
     "slide_type": "-"
    }
   },
   "outputs": [],
   "source": [
    "# Much like strings, lists are indexed, starting at 0.\n",
    "\n",
    "cities = ['São Paulo', 'Paris', 'London', 'San Fransokyo']\n",
    "#             ^           ^        ^         ^\n",
    "#             0           1        2         3\n"
   ]
  },
  {
   "cell_type": "code",
   "execution_count": 34,
   "metadata": {
    "collapsed": true,
    "slideshow": {
     "slide_type": "-"
    }
   },
   "outputs": [],
   "source": [
    "# Again, like strings, lists are reverse indexed, starting at -1.\n",
    "\n",
    "cities = ['São Paulo', 'Paris', 'London', 'San Fransokyo']\n",
    "#             ^           ^        ^         ^\n",
    "#             0           1        2         3\n",
    "#            -4          -3       -2        -1"
   ]
  },
  {
   "cell_type": "code",
   "execution_count": 35,
   "metadata": {
    "slideshow": {
     "slide_type": "-"
    }
   },
   "outputs": [
    {
     "name": "stdout",
     "output_type": "stream",
     "text": [
      "São Paulo\n",
      "Paris\n",
      "London\n",
      "San Fransokyo\n"
     ]
    }
   ],
   "source": [
    "# Referencing the name of the list and the index will return the\n",
    "#     value at that index\n",
    "\n",
    "print(cities[0])\n",
    "print(cities[1])\n",
    "print(cities[2])\n",
    "print(cities[-1])"
   ]
  },
  {
   "cell_type": "code",
   "execution_count": 36,
   "metadata": {
    "slideshow": {
     "slide_type": "-"
    }
   },
   "outputs": [
    {
     "name": "stdout",
     "output_type": "stream",
     "text": [
      "You traveled to London and San Fransokyo\n"
     ]
    }
   ],
   "source": [
    "# Indexing can be used directly within other Python statements/functions\n",
    "#     ... provided the extracted value is appropriate for \n",
    "#     the statement or function\n",
    "#     Here, each value in the list is a string, so they can be concatenated\n",
    "#     to other strings.     \n",
    "\n",
    "print('You traveled to ' + cities[2] + ' and ' + cities[-1])"
   ]
  },
  {
   "cell_type": "code",
   "execution_count": 37,
   "metadata": {
    "slideshow": {
     "slide_type": "-"
    }
   },
   "outputs": [
    {
     "ename": "TypeError",
     "evalue": "list indices must be integers or slices, not float",
     "output_type": "error",
     "traceback": [
      "\u001b[0;31m--------------------------------------------------------------------\u001b[0m",
      "\u001b[0;31mTypeError\u001b[0m                          Traceback (most recent call last)",
      "\u001b[0;32m<ipython-input-37-7bb14b64a508>\u001b[0m in \u001b[0;36m<module>\u001b[0;34m()\u001b[0m\n\u001b[1;32m      1\u001b[0m \u001b[0;31m# Indexing requires integers\u001b[0m\u001b[0;34m\u001b[0m\u001b[0;34m\u001b[0m\u001b[0m\n\u001b[1;32m      2\u001b[0m \u001b[0;34m\u001b[0m\u001b[0m\n\u001b[0;32m----> 3\u001b[0;31m \u001b[0mcities\u001b[0m\u001b[0;34m[\u001b[0m\u001b[0;36m1.0\u001b[0m\u001b[0;34m]\u001b[0m\u001b[0;34m\u001b[0m\u001b[0m\n\u001b[0m",
      "\u001b[0;31mTypeError\u001b[0m: list indices must be integers or slices, not float"
     ]
    }
   ],
   "source": [
    "# Indexing requires integers\n",
    "\n",
    "cities[1.0]"
   ]
  },
  {
   "cell_type": "code",
   "execution_count": 38,
   "metadata": {
    "slideshow": {
     "slide_type": "-"
    }
   },
   "outputs": [
    {
     "ename": "IndexError",
     "evalue": "list index out of range",
     "output_type": "error",
     "traceback": [
      "\u001b[0;31m--------------------------------------------------------------------\u001b[0m",
      "\u001b[0;31mIndexError\u001b[0m                         Traceback (most recent call last)",
      "\u001b[0;32m<ipython-input-38-23f4ec67724c>\u001b[0m in \u001b[0;36m<module>\u001b[0;34m()\u001b[0m\n\u001b[1;32m      2\u001b[0m \u001b[0;31m# the list, Python returns an IndexError.\u001b[0m\u001b[0;34m\u001b[0m\u001b[0;34m\u001b[0m\u001b[0m\n\u001b[1;32m      3\u001b[0m \u001b[0;34m\u001b[0m\u001b[0m\n\u001b[0;32m----> 4\u001b[0;31m \u001b[0mcities\u001b[0m\u001b[0;34m[\u001b[0m\u001b[0;36m42\u001b[0m\u001b[0;34m]\u001b[0m\u001b[0;34m\u001b[0m\u001b[0m\n\u001b[0m",
      "\u001b[0;31mIndexError\u001b[0m: list index out of range"
     ]
    }
   ],
   "source": [
    "# Like strings, if our index exceeds the number of elements in \n",
    "# the list, Python returns an IndexError.\n",
    "\n",
    "cities[42]"
   ]
  },
  {
   "cell_type": "code",
   "execution_count": 39,
   "metadata": {
    "collapsed": true,
    "slideshow": {
     "slide_type": "-"
    }
   },
   "outputs": [],
   "source": [
    "# Lists can contain any Python object and unlike many languages, \n",
    "#     you can mix or match items (i.e. heterogenous elements are ok!)\n",
    "# NOTE: despite this, homogeneous elements are the norm...\n",
    "\n",
    "randomStuff = ['name', 7, 'food']\n",
    "\n",
    "# As noted above, homogeneous element types are the norm\n",
    "# see tuples if you want to store heterogeneous records ..."
   ]
  },
  {
   "cell_type": "code",
   "execution_count": 40,
   "metadata": {
    "collapsed": true,
    "slideshow": {
     "slide_type": "-"
    }
   },
   "outputs": [],
   "source": [
    "# Nested lists are fine\n",
    "\n",
    "microbe = [['bacteria', 'archaea', 'fungi', 'protists'], \n",
    "           ['single-celled', 'multicellular'],\n",
    "           ['0.3 μm', '0.6 μm', '1.5 μm', '4 μm', '60 μm', '500 μm']]"
   ]
  },
  {
   "cell_type": "code",
   "execution_count": 41,
   "metadata": {
    "slideshow": {
     "slide_type": "-"
    }
   },
   "outputs": [
    {
     "data": {
      "text/plain": [
       "'multicellular'"
      ]
     },
     "execution_count": 41,
     "metadata": {},
     "output_type": "execute_result"
    }
   ],
   "source": [
    "# Accessing elements from sublists is also accomplished \n",
    "# via indexing\n",
    "\n",
    "microbe[1][1]"
   ]
  },
  {
   "cell_type": "code",
   "execution_count": 42,
   "metadata": {
    "slideshow": {
     "slide_type": "-"
    }
   },
   "outputs": [
    {
     "data": {
      "text/plain": [
       "'fungi'"
      ]
     },
     "execution_count": 42,
     "metadata": {},
     "output_type": "execute_result"
    }
   ],
   "source": [
    "microbe[0][2]"
   ]
  },
  {
   "cell_type": "code",
   "execution_count": 43,
   "metadata": {
    "slideshow": {
     "slide_type": "-"
    }
   },
   "outputs": [
    {
     "name": "stdout",
     "output_type": "stream",
     "text": [
      "The original list:\n",
      "['São Paulo', 'Paris', 'London', 'San Fransokyo']\n",
      "------------------------------------------------------------\n",
      "Sliced from 0 up to but NOT including 3:\n",
      "['São Paulo', 'Paris', 'London']\n"
     ]
    }
   ],
   "source": [
    "# Want more items from a list?\n",
    "# use slices...\n",
    "\n",
    "print('The original list:', cities, sep='\\n')\n",
    "print('-' * 60)\n",
    "print('Sliced from 0 up to but NOT including 3:')\n",
    "print(cities[0:3])"
   ]
  },
  {
   "cell_type": "code",
   "execution_count": 45,
   "metadata": {
    "scrolled": true,
    "slideshow": {
     "slide_type": "-"
    }
   },
   "outputs": [
    {
     "name": "stdout",
     "output_type": "stream",
     "text": [
      "Sliced from 0 up to but NOT including 9000:\n",
      "['São Paulo', 'Paris', 'London', 'San Fransokyo']\n"
     ]
    }
   ],
   "source": [
    "# Slice behavior when given a value out of bounds is slightly different\n",
    "#     than index behavior.\n",
    "#     Anything out of bounds is allowed... Python simply returns\n",
    "#     the values up to the limit...\n",
    "\n",
    "print('Sliced from 0 up to but NOT including 9000:')\n",
    "print(cities[0:9000])"
   ]
  },
  {
   "cell_type": "code",
   "execution_count": 46,
   "metadata": {
    "slideshow": {
     "slide_type": "-"
    }
   },
   "outputs": [
    {
     "name": "stdout",
     "output_type": "stream",
     "text": [
      "Sliced from 0 up to but NOT including -1:\n",
      "['São Paulo', 'Paris', 'London']\n"
     ]
    }
   ],
   "source": [
    "# Mixing and matching positive and negative indexes is acceptable\n",
    "\n",
    "print('Sliced from 0 up to but NOT including -1:')\n",
    "print(cities[0:-1])"
   ]
  },
  {
   "cell_type": "code",
   "execution_count": 48,
   "metadata": {
    "slideshow": {
     "slide_type": "-"
    }
   },
   "outputs": [
    {
     "name": "stdout",
     "output_type": "stream",
     "text": [
      "Sliced from 0 up to but NOT including 4:\n",
      "['São Paulo', 'Paris', 'London', 'San Fransokyo']\n"
     ]
    }
   ],
   "source": [
    "# The same shortcut used in string indexing applies to list indexing\n",
    "#     You can skip the starting index OR the ending index OR both.\n",
    "\n",
    "print('Sliced from 0 up to but NOT including 4:')\n",
    "print(cities[:4])"
   ]
  },
  {
   "cell_type": "code",
   "execution_count": 49,
   "metadata": {
    "slideshow": {
     "slide_type": "-"
    }
   },
   "outputs": [
    {
     "name": "stdout",
     "output_type": "stream",
     "text": [
      "['São Paulo', 'Paris', 'London', 'San Fransokyo']\n"
     ]
    }
   ],
   "source": [
    "# this syntax is often used to make a copy of a list\n",
    "\n",
    "cities_copy = cities[:]   \n",
    "print(cities_copy)"
   ]
  },
  {
   "cell_type": "code",
   "execution_count": 50,
   "metadata": {},
   "outputs": [
    {
     "data": {
      "text/plain": [
       "['São Paulo', 'London']"
      ]
     },
     "execution_count": 50,
     "metadata": {},
     "output_type": "execute_result"
    }
   ],
   "source": [
    "# Like strings and ranges, we can use increment values in slices\n",
    "# ['São Paulo', 'Paris', 'London', 'San Fransokyo']\n",
    "\n",
    "cities[::2]\n",
    "    "
   ]
  },
  {
   "cell_type": "code",
   "execution_count": 58,
   "metadata": {
    "slideshow": {
     "slide_type": "-"
    }
   },
   "outputs": [
    {
     "name": "stdout",
     "output_type": "stream",
     "text": [
      "['São Paulo', 'Paris', 'London', 'San Fransokyo']\n",
      "['São Paulo', 'Paris', 'Seoul', 'San Fransokyo']\n"
     ]
    }
   ],
   "source": [
    "# Lists are mutable: we can change them when desired.\n",
    "#     Here we re-assign the index at 2 to a new value stored in memory\n",
    "#     In this case, changing 'London' to 'Seoul'\n",
    "\n",
    "print(cities)\n",
    "cities[2] = 'Seoul'\n",
    "print(cities)"
   ]
  },
  {
   "cell_type": "code",
   "execution_count": 60,
   "metadata": {
    "scrolled": true,
    "slideshow": {
     "slide_type": "-"
    }
   },
   "outputs": [
    {
     "ename": "IndexError",
     "evalue": "list assignment index out of range",
     "output_type": "error",
     "traceback": [
      "\u001b[0;31m--------------------------------------------------------------------\u001b[0m",
      "\u001b[0;31mIndexError\u001b[0m                         Traceback (most recent call last)",
      "\u001b[0;32m<ipython-input-60-4cba46b5149b>\u001b[0m in \u001b[0;36m<module>\u001b[0;34m()\u001b[0m\n\u001b[1;32m      1\u001b[0m \u001b[0;31m# Assignment to a list index out of bounds will fail.\u001b[0m\u001b[0;34m\u001b[0m\u001b[0;34m\u001b[0m\u001b[0m\n\u001b[1;32m      2\u001b[0m \u001b[0;34m\u001b[0m\u001b[0m\n\u001b[0;32m----> 3\u001b[0;31m \u001b[0mcities\u001b[0m\u001b[0;34m[\u001b[0m\u001b[0;36m100\u001b[0m\u001b[0;34m]\u001b[0m \u001b[0;34m=\u001b[0m \u001b[0;34m'food'\u001b[0m\u001b[0;34m\u001b[0m\u001b[0m\n\u001b[0m\u001b[1;32m      4\u001b[0m \u001b[0mprint\u001b[0m\u001b[0;34m(\u001b[0m\u001b[0mcities\u001b[0m\u001b[0;34m)\u001b[0m\u001b[0;34m\u001b[0m\u001b[0m\n",
      "\u001b[0;31mIndexError\u001b[0m: list assignment index out of range"
     ]
    }
   ],
   "source": [
    "# Assignment to a list index out of bounds will fail.\n",
    "\n",
    "cities[100] = 'food'\n",
    "print(cities)"
   ]
  },
  {
   "cell_type": "markdown",
   "metadata": {},
   "source": [
    "# Experience Points!\n",
    "---"
   ]
  },
  {
   "cell_type": "code",
   "execution_count": null,
   "metadata": {
    "collapsed": true
   },
   "outputs": [],
   "source": [
    "On the **IPython interpreter** do each of the following:\n",
    "\n",
    "Task | Sample Object(s)\n",
    ":---|:---\n",
    "Compare two items using `and` | 'Bruce', 0\n",
    "Compare two items using `or` | '', 42\n",
    "Use the `not` operator to make an object False | 'Selina' \n",
    "Compare two numbers using comparison operators | `>, <, >=, !=, ==`\n",
    "Create a more complex/nested comparison using parenthesis and Boolean operators| `('kara' _ 'clark') _ (0 _ 0.0)`"
   ]
  },
  {
   "cell_type": "markdown",
   "metadata": {},
   "source": [
    "When you complete this exercise, please put your green post-it on your monitor. \n",
    "\n",
    "If you want to continue on at your own-pace, please feel free to do so.\n",
    "\n",
    "<img src='../images/green_sticky.300px.png' width='200' style='float:left'>"
   ]
  },
  {
   "cell_type": "markdown",
   "metadata": {},
   "source": [
    "# Miscellaneousness\n",
    "---"
   ]
  },
  {
   "cell_type": "code",
   "execution_count": 57,
   "metadata": {
    "slideshow": {
     "slide_type": "-"
    }
   },
   "outputs": [
    {
     "data": {
      "text/plain": [
       "4"
      ]
     },
     "execution_count": 57,
     "metadata": {},
     "output_type": "execute_result"
    }
   ],
   "source": [
    "# To determine the length of a list, we use the builtin function:\n",
    "#     len()\n",
    "\n",
    "len(cities)"
   ]
  },
  {
   "cell_type": "code",
   "execution_count": 124,
   "metadata": {
    "slideshow": {
     "slide_type": "-"
    }
   },
   "outputs": [
    {
     "data": {
      "text/plain": [
       "list"
      ]
     },
     "execution_count": 124,
     "metadata": {},
     "output_type": "execute_result"
    }
   ],
   "source": [
    "# To confirm that you have a list, we use the builtin function:\n",
    "#     type()\n",
    "\n",
    "type(cities)"
   ]
  },
  {
   "cell_type": "code",
   "execution_count": 61,
   "metadata": {
    "slideshow": {
     "slide_type": "-"
    }
   },
   "outputs": [
    {
     "data": {
      "text/plain": [
       "[1, 2, 3, 'Z', 'Y', 'X']"
      ]
     },
     "execution_count": 61,
     "metadata": {},
     "output_type": "execute_result"
    }
   ],
   "source": [
    "# Lists can be concatenated using a plus operator...\n",
    "\n",
    "[1, 2, 3] + ['Z', 'Y', 'X']"
   ]
  },
  {
   "cell_type": "code",
   "execution_count": 62,
   "metadata": {
    "slideshow": {
     "slide_type": "-"
    }
   },
   "outputs": [
    {
     "data": {
      "text/plain": [
       "[1, 2, 3, 1, 2, 3, 1, 2, 3, 1, 2, 3]"
      ]
     },
     "execution_count": 62,
     "metadata": {},
     "output_type": "execute_result"
    }
   ],
   "source": [
    "# Lists can be repetitively concatenated using a \n",
    "#     multiplication operator\n",
    "\n",
    "[1, 2, 3] * 4"
   ]
  },
  {
   "cell_type": "code",
   "execution_count": 63,
   "metadata": {
    "collapsed": true
   },
   "outputs": [],
   "source": [
    "# Lists may be empty\n",
    "\n",
    "empty = []"
   ]
  },
  {
   "cell_type": "code",
   "execution_count": 64,
   "metadata": {
    "slideshow": {
     "slide_type": "-"
    }
   },
   "outputs": [
    {
     "name": "stdout",
     "output_type": "stream",
     "text": [
      "10\n",
      "20\n",
      "30\n",
      "40\n"
     ]
    }
   ],
   "source": [
    "# Lists can be iterated over, using the for loop construct\n",
    "# In this case, this list is considered a list literal OR a constant:\n",
    "#     there is no label to reference the list.\n",
    "\n",
    "for number in [10, 20, 30, 40]:\n",
    "    print(number)"
   ]
  },
  {
   "cell_type": "code",
   "execution_count": 66,
   "metadata": {
    "slideshow": {
     "slide_type": "-"
    }
   },
   "outputs": [
    {
     "data": {
      "text/plain": [
       "True"
      ]
     },
     "execution_count": 66,
     "metadata": {},
     "output_type": "execute_result"
    }
   ],
   "source": [
    "# It is trivial to test for inclusion, using the\n",
    "#     in operator\n",
    "\n",
    "'San Fransokyo' in cities"
   ]
  },
  {
   "cell_type": "code",
   "execution_count": 70,
   "metadata": {
    "slideshow": {
     "slide_type": "-"
    }
   },
   "outputs": [
    {
     "data": {
      "text/plain": [
       "True"
      ]
     },
     "execution_count": 70,
     "metadata": {},
     "output_type": "execute_result"
    }
   ],
   "source": [
    "# And for exclusion, using the not operator\n",
    "\n",
    "'Shanghai' not in cities"
   ]
  },
  {
   "cell_type": "code",
   "execution_count": 71,
   "metadata": {
    "slideshow": {
     "slide_type": "-"
    }
   },
   "outputs": [
    {
     "name": "stdout",
     "output_type": "stream",
     "text": [
      "What is your favorite food? sushi\n",
      "You like sushi?\n",
      "Me too!\n"
     ]
    }
   ],
   "source": [
    "# Here is an example of such a test...\n",
    "\n",
    "fav_food = input('What is your favorite food? ')\n",
    "\n",
    "if fav_food in ['pizza', 'cereal', 'ice cream', 'sushi']:\n",
    "    print('You like ' + fav_food + '?')\n",
    "    print('Me too!')\n",
    "else:\n",
    "    print('Well, I suppose that is probably tasty as well!')"
   ]
  },
  {
   "cell_type": "markdown",
   "metadata": {},
   "source": [
    "# Experience Points!\n",
    "---"
   ]
  },
  {
   "cell_type": "code",
   "execution_count": null,
   "metadata": {
    "collapsed": true
   },
   "outputs": [],
   "source": [
    "On the **IPython interpreter** do each of the following:\n",
    "\n",
    "Task | Sample Object(s)\n",
    ":---|:---\n",
    "Compare two items using `and` | 'Bruce', 0\n",
    "Compare two items using `or` | '', 42\n",
    "Use the `not` operator to make an object False | 'Selina' \n",
    "Compare two numbers using comparison operators | `>, <, >=, !=, ==`\n",
    "Create a more complex/nested comparison using parenthesis and Boolean operators| `('kara' _ 'clark') _ (0 _ 0.0)`"
   ]
  },
  {
   "cell_type": "markdown",
   "metadata": {},
   "source": [
    "When you complete this exercise, please put your green post-it on your monitor. \n",
    "\n",
    "If you want to continue on at your own-pace, please feel free to do so.\n",
    "\n",
    "<img src='../images/green_sticky.300px.png' width='200' style='float:left'>"
   ]
  },
  {
   "cell_type": "code",
   "execution_count": null,
   "metadata": {
    "collapsed": true
   },
   "outputs": [],
   "source": []
  },
  {
   "cell_type": "markdown",
   "metadata": {},
   "source": [
    "# Deleting details\n",
    "---"
   ]
  },
  {
   "cell_type": "code",
   "execution_count": 73,
   "metadata": {
    "scrolled": true,
    "slideshow": {
     "slide_type": "-"
    }
   },
   "outputs": [
    {
     "name": "stdout",
     "output_type": "stream",
     "text": [
      "['São Paulo', 'Paris', 'Seoul', 'San Fransokyo']\n",
      "------------------------------------------------------------\n",
      "['São Paulo', 'Seoul', 'San Fransokyo']\n"
     ]
    }
   ],
   "source": [
    "# It is possible to delete specific list items using del:\n",
    "\n",
    "print(cities)\n",
    "print('-' * 60)\n",
    "\n",
    "\n",
    "del cities[1]\n",
    "print(cities)"
   ]
  },
  {
   "cell_type": "code",
   "execution_count": null,
   "metadata": {
    "scrolled": true,
    "slideshow": {
     "slide_type": "-"
    }
   },
   "outputs": [],
   "source": [
    "# We can even delete entire lists using del\n",
    "\n",
    "del cities\n",
    "print(cities)"
   ]
  },
  {
   "cell_type": "markdown",
   "metadata": {},
   "source": [
    "# Enumerating items in a list\n",
    "---"
   ]
  },
  {
   "cell_type": "code",
   "execution_count": 75,
   "metadata": {
    "slideshow": {
     "slide_type": "slide"
    }
   },
   "outputs": [
    {
     "name": "stdout",
     "output_type": "stream",
     "text": [
      "Weapon: sword\t Indexed as 0\n",
      "Weapon: axe\t Indexed as 1\n",
      "Weapon: bow\t Indexed as 2\n",
      "Weapon: dagger\t Indexed as 3\n",
      "------------------------------------------------------------\n",
      "WEAPON: sword\t INDEXED as 0\n",
      "WEAPON: axe\t INDEXED as 1\n",
      "WEAPON: bow\t INDEXED as 2\n",
      "WEAPON: dagger\t INDEXED as 3\n"
     ]
    }
   ],
   "source": [
    "# When cycling through a list, sometimes you want to \n",
    "#     know the index for an element...\n",
    "#     this is possible using a somewhat convoluted range(len()) \n",
    "#     construct, but\n",
    "\n",
    "#     there is a built-in function enumerate()\n",
    "#     that does this better: \n",
    "\n",
    "weapons = ['sword', 'axe', 'bow', 'dagger']\n",
    "\n",
    "for index in range(len(weapons)):\n",
    "    print('Weapon: ' + weapons[index] + '\\t Indexed as ' + str(index))\n",
    "    \n",
    "print('-' * 60)    \n",
    "    \n",
    "for index, weapon in enumerate(weapons):\n",
    "    print('WEAPON: ' + weapon + '\\t INDEXED as ' + str(index))\n",
    "    "
   ]
  },
  {
   "cell_type": "markdown",
   "metadata": {},
   "source": [
    "# Extracting values\n",
    "---"
   ]
  },
  {
   "cell_type": "code",
   "execution_count": 77,
   "metadata": {
    "slideshow": {
     "slide_type": "slide"
    }
   },
   "outputs": [
    {
     "name": "stdout",
     "output_type": "stream",
     "text": [
      "Arthur in England\n"
     ]
    }
   ],
   "source": [
    "# extracting and naming particular fields\n",
    "# is often used to make code more readable and maintainable\n",
    "\n",
    "hero = ['Arthur', 'sword', 'England', 'chainmail armor']\n",
    "\n",
    "name = hero[0]\n",
    "weapon = hero[1]\n",
    "country = hero[2]\n",
    "armor = hero[3]\n",
    "\n",
    "print(name, 'in', country)"
   ]
  },
  {
   "cell_type": "code",
   "execution_count": 81,
   "metadata": {
    "slideshow": {
     "slide_type": "fragment"
    }
   },
   "outputs": [
    {
     "name": "stdout",
     "output_type": "stream",
     "text": [
      "sword and chainmail armor\n"
     ]
    }
   ],
   "source": [
    "# If the list is short enough, UNPACKING it all in one fell swoop is \n",
    "# often better:\n",
    "\n",
    "hero = ['Arthur', 'sword', 'England', 'chainmail armor']\n",
    "\n",
    "name, weapon, country, armor = hero        # list/tuple unpacking \n",
    "\n",
    "print(weapon, 'and', armor)\n",
    "\n",
    "\n",
    "# This is often called tuple or list unpacking\n",
    "#     or unpacking, for short"
   ]
  },
  {
   "cell_type": "code",
   "execution_count": 82,
   "metadata": {
    "slideshow": {
     "slide_type": "fragment"
    }
   },
   "outputs": [
    {
     "name": "stdout",
     "output_type": "stream",
     "text": [
      "['Diana', 'Diana', 'Diana', 'Diana']\n"
     ]
    }
   ],
   "source": [
    "# Augmented assignment also works...\n",
    "\n",
    "heroine = ['Diana']\n",
    "heroine *= 4\n",
    "print(heroine)"
   ]
  },
  {
   "cell_type": "markdown",
   "metadata": {},
   "source": [
    "# Experience Points!\n",
    "---"
   ]
  },
  {
   "cell_type": "code",
   "execution_count": null,
   "metadata": {
    "collapsed": true
   },
   "outputs": [],
   "source": [
    "On the **IPython interpreter** do each of the following:\n",
    "\n",
    "Task | Sample Object(s)\n",
    ":---|:---\n",
    "Compare two items using `and` | 'Bruce', 0\n",
    "Compare two items using `or` | '', 42\n",
    "Use the `not` operator to make an object False | 'Selina' \n",
    "Compare two numbers using comparison operators | `>, <, >=, !=, ==`\n",
    "Create a more complex/nested comparison using parenthesis and Boolean operators| `('kara' _ 'clark') _ (0 _ 0.0)`"
   ]
  },
  {
   "cell_type": "markdown",
   "metadata": {},
   "source": [
    "When you complete this exercise, please put your green post-it on your monitor. \n",
    "\n",
    "If you want to continue on at your own-pace, please feel free to do so.\n",
    "\n",
    "<img src='../images/green_sticky.300px.png' width='200' style='float:left'>"
   ]
  },
  {
   "cell_type": "code",
   "execution_count": null,
   "metadata": {
    "collapsed": true
   },
   "outputs": [],
   "source": []
  },
  {
   "cell_type": "markdown",
   "metadata": {
    "slideshow": {
     "slide_type": "slide"
    }
   },
   "source": [
    "<h2>Methods!</h2>"
   ]
  },
  {
   "cell_type": "code",
   "execution_count": 86,
   "metadata": {
    "slideshow": {
     "slide_type": "slide"
    }
   },
   "outputs": [
    {
     "data": {
      "text/plain": [
       "1"
      ]
     },
     "execution_count": 86,
     "metadata": {},
     "output_type": "execute_result"
    }
   ],
   "source": [
    "# Methods are the real workhorse for lists and give you \n",
    "#     great power.\n",
    "\n",
    "# If you need to find out the index for an object, you can use the\n",
    "#     .index() function\n",
    "\n",
    "items = ['sword', 'shield', 'health potion', 'armor', 'boots']\n",
    "\n",
    "items.index('shield')"
   ]
  },
  {
   "cell_type": "markdown",
   "metadata": {
    "slideshow": {
     "slide_type": "slide"
    }
   },
   "source": [
    "## lists have 11 methods...\n",
    "\n",
    "```python\n",
    "items.append()\n",
    "items.clear()\n",
    "items.copy()\n",
    "items.count()\n",
    "items.extend()\n",
    "items.index()\n",
    "items.insert()\n",
    "items.pop()\n",
    "items.remove()\n",
    "items.reverse()\n",
    "items.sort()\n",
    "```\n",
    "\n",
    "We will look at several, but will leave examination of the remainder as an exercise for the student"
   ]
  },
  {
   "cell_type": "markdown",
   "metadata": {
    "slideshow": {
     "slide_type": "slide"
    }
   },
   "source": [
    "```python\n",
    "help(items.append)\n",
    "\n",
    "L.append(object) -> None -- append object to end\n",
    "```\n",
    "\n",
    "Helpful hints...\n",
    "\n",
    "```\n",
    "* 'L' stands for your variable name\n",
    "* '->' shows what this function returns as a return value\n",
    "* everything after the '--' is the help documentation\n",
    "```"
   ]
  },
  {
   "cell_type": "code",
   "execution_count": 105,
   "metadata": {
    "collapsed": true
   },
   "outputs": [],
   "source": [
    "# What does it mean that this method returns None?\n",
    "\n",
    "# It results in two things:\n",
    "#     * the list gets changed in place \n",
    "#     * you don't get a copy back of the new, improved list\n",
    "\n",
    "# This leads to confusion regularly... we will talk about that later..."
   ]
  },
  {
   "cell_type": "code",
   "execution_count": 109,
   "metadata": {
    "collapsed": true
   },
   "outputs": [],
   "source": [
    "items = ['sword', 'shield', 'health potion', 'armor', 'boots']\n"
   ]
  },
  {
   "cell_type": "code",
   "execution_count": 110,
   "metadata": {
    "slideshow": {
     "slide_type": "slide"
    }
   },
   "outputs": [
    {
     "name": "stdout",
     "output_type": "stream",
     "text": [
      "['sword', 'shield', 'health potion', 'armor', 'boots', 'armor']\n"
     ]
    }
   ],
   "source": [
    "# Append places an object at the end of the list.\n",
    "\n",
    "items.append('armor')\n",
    "print(items)"
   ]
  },
  {
   "cell_type": "code",
   "execution_count": 111,
   "metadata": {
    "slideshow": {
     "slide_type": "slide"
    }
   },
   "outputs": [
    {
     "name": "stdout",
     "output_type": "stream",
     "text": [
      "['sword', 'shield', 'health potion', 'armor', 'boots', 'armor', ['food', 'map']]\n"
     ]
    }
   ],
   "source": [
    "# .append() is atomic: any object is appended as is, versus as individual \n",
    "#     elements.\n",
    "\n",
    "items.append(['food', 'map'])\n",
    "print(items)"
   ]
  },
  {
   "cell_type": "code",
   "execution_count": 112,
   "metadata": {
    "slideshow": {
     "slide_type": "fragment"
    }
   },
   "outputs": [
    {
     "name": "stdout",
     "output_type": "stream",
     "text": [
      "['sword', 'shield', 'health potion', 'armor', 'boots', 'armor']\n"
     ]
    }
   ],
   "source": [
    "# Let's delete that nested list.\n",
    "\n",
    "del items[6]\n",
    "print(items)"
   ]
  },
  {
   "cell_type": "code",
   "execution_count": 113,
   "metadata": {
    "scrolled": true,
    "slideshow": {
     "slide_type": "fragment"
    }
   },
   "outputs": [
    {
     "name": "stdout",
     "output_type": "stream",
     "text": [
      "['sword', 'shield', 'health potion', 'armor', 'boots', 'armor', 'food', 'map']\n"
     ]
    }
   ],
   "source": [
    "# .extend(), on the other hand, essentially appends the elements \n",
    "#     of the object, one by one to the end of the list\n",
    "\n",
    "items.extend(['food', 'map'])\n",
    "print(items)"
   ]
  },
  {
   "cell_type": "code",
   "execution_count": 116,
   "metadata": {
    "slideshow": {
     "slide_type": "slide"
    }
   },
   "outputs": [],
   "source": [
    "# let's look at the sort() method:\n",
    "\n",
    "items.sort?"
   ]
  },
  {
   "cell_type": "code",
   "execution_count": 117,
   "metadata": {
    "slideshow": {
     "slide_type": "fragment"
    }
   },
   "outputs": [
    {
     "name": "stdout",
     "output_type": "stream",
     "text": [
      "['armor', 'armor', 'boots', 'food', 'health potion', 'map', 'shield', 'sword']\n"
     ]
    }
   ],
   "source": [
    "# If we call the .sort() method, the item gets changed in memory\n",
    "\n",
    "items.sort()\n",
    "print(items)\n",
    "\n",
    "# note: this sorts in ascii-betical (or lexigraphical) order"
   ]
  },
  {
   "cell_type": "markdown",
   "metadata": {
    "slideshow": {
     "slide_type": "subslide"
    }
   },
   "source": [
    "ID:|Char:|ID:|Char:|ID:|Char:|ID:|Char\n",
    "---|-----|---|-----|---|-----|---|-----\n",
    "033| !   |048| 0   |065| A   |097| a\n",
    "034| \"   |049| 1   |066| B   |098| b\n",
    "036| $   |050| 2   |067| C   |099| c\n",
    "039| '   |051| 3   |068| D   |100| d\n",
    "040| (   |052| 4   |069| E   |101| e\n",
    "041| )   |053| 5   |---| ... |---| ...\n",
    "043| +   |054| 6   |087| W   |119| w\n",
    "044| ,   |055| 7   |088| X   |120| x\n",
    "045| -   |056| 8   |089| Y   |121| y\n",
    "046| .   |057| 9   |090| Z   |122| z"
   ]
  },
  {
   "cell_type": "code",
   "execution_count": 118,
   "metadata": {
    "slideshow": {
     "slide_type": "subslide"
    }
   },
   "outputs": [
    {
     "name": "stdout",
     "output_type": "stream",
     "text": [
      "['C', 'E', 'a', 'b', 'd']\n"
     ]
    }
   ],
   "source": [
    "junk = ['a', 'b', 'C', 'd', 'E']\n",
    "junk.sort()\n",
    "print(junk)"
   ]
  },
  {
   "cell_type": "code",
   "execution_count": 123,
   "metadata": {
    "slideshow": {
     "slide_type": "fragment"
    }
   },
   "outputs": [
    {
     "name": "stdout",
     "output_type": "stream",
     "text": [
      "g\n",
      "------------------------------------------------------------\n",
      "['b', 'C', 'd', 'E', 'Z']\n"
     ]
    }
   ],
   "source": [
    "# Sort algorithms can be modified using a sorting key\n",
    "#     key functions should:\n",
    "#         * take in one value as an argument\n",
    "#         * return one value\n",
    "#     you do not include the parens\n",
    "#     the return values are USED to assign a sort order\n",
    "\n",
    "print(str.lower('G'))\n",
    "print('-' * 60)\n",
    "\n",
    "junk = ['Z', 'b', 'C', 'd', 'E']\n",
    "junk.sort(key=str.lower)\n",
    "print(junk)"
   ]
  },
  {
   "cell_type": "markdown",
   "metadata": {},
   "source": [
    "# Experience Points!\n",
    "---"
   ]
  },
  {
   "cell_type": "code",
   "execution_count": null,
   "metadata": {
    "collapsed": true
   },
   "outputs": [],
   "source": [
    "On the **IPython interpreter** do each of the following:\n",
    "\n",
    "Task | Sample Object(s)\n",
    ":---|:---\n",
    "Compare two items using `and` | 'Bruce', 0\n",
    "Compare two items using `or` | '', 42\n",
    "Use the `not` operator to make an object False | 'Selina' \n",
    "Compare two numbers using comparison operators | `>, <, >=, !=, ==`\n",
    "Create a more complex/nested comparison using parenthesis and Boolean operators| `('kara' _ 'clark') _ (0 _ 0.0)`"
   ]
  },
  {
   "cell_type": "markdown",
   "metadata": {},
   "source": [
    "When you complete this exercise, please put your green post-it on your monitor. \n",
    "\n",
    "If you want to continue on at your own-pace, please feel free to do so.\n",
    "\n",
    "<img src='../images/green_sticky.300px.png' width='200' style='float:left'>"
   ]
  },
  {
   "cell_type": "code",
   "execution_count": null,
   "metadata": {
    "collapsed": true
   },
   "outputs": [],
   "source": []
  }
 ],
 "metadata": {
  "anaconda-cloud": {},
  "celltoolbar": "Slideshow",
  "kernelspec": {
   "display_name": "Python 3",
   "language": "python",
   "name": "python3"
  },
  "language_info": {
   "codemirror_mode": {
    "name": "ipython",
    "version": 3
   },
   "file_extension": ".py",
   "mimetype": "text/x-python",
   "name": "python",
   "nbconvert_exporter": "python",
   "pygments_lexer": "ipython3",
   "version": "3.6.1"
  }
 },
 "nbformat": 4,
 "nbformat_minor": 1
}
