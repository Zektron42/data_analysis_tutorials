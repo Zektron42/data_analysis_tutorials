{
 "cells": [
  {
   "cell_type": "markdown",
   "metadata": {
    "slideshow": {
     "slide_type": "slide"
    }
   },
   "source": [
    "<h1>Welcome to the Dark Art of Coding:</h1>\n",
    "<h2>Introduction to Python</h2>\n",
    "Session 01: Intro to the class\n",
    "\n",
    "<img src='../images/dark_art_logo.600px.png' height='250' width='300' style=\"float:right\">"
   ]
  },
  {
   "cell_type": "markdown",
   "metadata": {
    "slideshow": {
     "slide_type": "slide"
    }
   },
   "source": [
    "<h1>Your instructor:</h1>\n",
    "<h2>Chalmer Lowe</h2>\n"
   ]
  },
  {
   "cell_type": "markdown",
   "metadata": {
    "slideshow": {
     "slide_type": "slide"
    }
   },
   "source": [
    "<h1>Agenda</h1>\n",
    "<ul>\n",
    "<li><strong>Class structure</strong></li>\n",
    "<li><strong>Why Python?</strong></li>\n",
    "<li><strong>How to learn programming</strong></li>\n",
    "<li><strong>Details on my favorite book</strong></li>\n",
    "<li><strong>Today's objectives</strong></li>\n",
    "<li><strong>Demos and hands-on</strong></li>\n",
    "<li><strong>In-class skill drills</strong></li>\n",
    "<li><strong>Q & A</strong></li>\n",
    "</ul>"
   ]
  },
  {
   "cell_type": "markdown",
   "metadata": {
    "slideshow": {
     "slide_type": "subslide"
    }
   },
   "source": [
    "<h1>Class structure and reasons for it</h1>\n",
    "<ul>\n",
    "<li>Pair programming</li>\n",
    "<li>Lectures and demos</li>\n",
    "<li>In-class coding/mentoring</li>\n",
    "<li>\"Help Me\" post-its</li>\n",
    "</ul>"
   ]
  },
  {
   "cell_type": "markdown",
   "metadata": {
    "slideshow": {
     "slide_type": "subslide"
    }
   },
   "source": [
    "<h1>Why Python?</h1>\n",
    "\n",
    "A brief history...\n"
   ]
  },
  {
   "cell_type": "markdown",
   "metadata": {
    "slideshow": {
     "slide_type": "subslide"
    }
   },
   "source": [
    "<img src='python_users.png'>"
   ]
  },
  {
   "cell_type": "markdown",
   "metadata": {
    "slideshow": {
     "slide_type": "subslide"
    }
   },
   "source": [
    "<h1>What is it used for?</h1>\n",
    "<ul>\n",
    "<li>System administration</li>\n",
    "<li>Web development</li>\n",
    "<li>App development</li>\n",
    "<li>Computer-generated graphics</li>\n",
    "<li>Data science</li>\n",
    "<li>Data visualization</li>\n",
    "<li>and more</li>\n",
    "</ul>"
   ]
  },
  {
   "cell_type": "markdown",
   "metadata": {
    "slideshow": {
     "slide_type": "subslide"
    }
   },
   "source": [
    "<h1>Pros and Cons</h1> \n",
    "<ul>\n",
    "<li>Benefits</li>\n",
    "<li>Disadvantages</li>\n",
    "</ul>"
   ]
  },
  {
   "cell_type": "markdown",
   "metadata": {
    "slideshow": {
     "slide_type": "slide"
    }
   },
   "source": [
    "<h1>How to learn</h1>\n",
    "<img src='changing_stuff.jpg' width='350'>\n"
   ]
  },
  {
   "cell_type": "markdown",
   "metadata": {
    "slideshow": {
     "slide_type": "subslide"
    }
   },
   "source": [
    "<h1>How to learn, part 2</h1>\n",
    "<ul>\n",
    "<li>Projects</li>\n",
    "<ul>\n",
    "  <li>Find something that you are so passionate about, that you can't wait to get back to writing code!</li>\n",
    "  <li>Website, app, script, DIY project, etc</li>\n",
    "</ul>\n",
    "<li>Puzzles</li>\n",
    "<ul>\n",
    "<li>https://darkartofcoding.com/learning-resources/learning-resources-puzzles/ >>> **https://goo.gl/A6kbMC**</li>\n",
    "<li>Games, competitions, etc</li>\n",
    "</ul>\n",
    "<li>A learning resource (book, classes, videos, etc)</li>\n",
    "<li>Documentation/help files</li>\n",
    "<li>**Write code!**</li>\n",
    "</ul>"
   ]
  },
  {
   "cell_type": "markdown",
   "metadata": {
    "collapsed": true,
    "slideshow": {
     "slide_type": "subslide"
    }
   },
   "source": [
    "<h1>Watch out for this!</h1>\n",
    "<img src='anxiety-boredom-3.png' width='400'>"
   ]
  },
  {
   "cell_type": "markdown",
   "metadata": {
    "collapsed": true,
    "slideshow": {
     "slide_type": "subslide"
    }
   },
   "source": [
    "<h1>And this!</h1>\n",
    "Do not give up."
   ]
  },
  {
   "cell_type": "markdown",
   "metadata": {
    "slideshow": {
     "slide_type": "slide"
    }
   },
   "source": [
    "<h1>My favorite book!</h1>\n",
    "\n",
    "<ul>\n",
    "    <li><a href='http://www.amazon.com/Automate-Boring-Stuff-Python-Programming-ebook/dp/B00WJ049VU/ref=dp_kinw_strp_1'>Automate the Boring Stuff with Python</a></li>\n",
    "    <li>You can learn more about many of the topics in this class from the book</li>\n",
    "        <ul>\n",
    "            <li>Chaps. 1-6 >>> the basics</li>\n",
    "            <li>Select Topics from Chaps. 7-18 >>> automating things</li>\n",
    "        </ul>\n",
    "    <li>Gotchas in the book...</li>\n",
    "</ul>"
   ]
  },
  {
   "cell_type": "markdown",
   "metadata": {
    "slideshow": {
     "slide_type": "slide"
    }
   },
   "source": [
    "<h1>Today's main objectives</h1>\n",
    "\n",
    "You will be able to:\n",
    "<ul>\n",
    "    <li>Explain the benefits of using Anaconda and IPython as your Python environment</li>\n",
    "    <li>Use IPython to execute code</li>\n",
    "    <li>Use a text editor to create scripts and IPython to execute the script</li>\n",
    "    <li>List several main operators and their order of precedence</li>\n",
    "    <li>List several key data types</li>\n",
    "    <li>List several builtin functions</li>\n",
    "    <li>Find help for yourself on how to use those functions</li>\n",
    "</ul>"
   ]
  },
  {
   "cell_type": "markdown",
   "metadata": {
    "collapsed": true,
    "slideshow": {
     "slide_type": "slide"
    }
   },
   "source": [
    "<h1>So, let's talk Python!</h1>\n",
    "Getting started..."
   ]
  },
  {
   "cell_type": "markdown",
   "metadata": {
    "slideshow": {
     "slide_type": "slide"
    }
   },
   "source": [
    "<img src='Anaconda_Logo.png' width='300'>\n",
    "### by Continuum Analytics\n",
    "\n",
    "* Includes Python and 100+ data analysis and science packages\n",
    "* Provides access to 620+ additional programming packages\n",
    "* Package manager >> conda\n",
    "* pandas, numpy, scipy, matplotlib, jupyter, ipython and more\n"
   ]
  },
  {
   "cell_type": "markdown",
   "metadata": {
    "slideshow": {
     "slide_type": "subslide"
    }
   },
   "source": [
    "<img src='IPy_header.png'>\n",
    "\n",
    "* Object introspection\n",
    "* History\n",
    "* Extensible tab completion\n",
    "* Extensible system of ‘magic’ commands\n",
    "* Access to the system shell\n",
    "* Integrated access to the pdb debugger and the Python profiler."
   ]
  },
  {
   "cell_type": "markdown",
   "metadata": {
    "slideshow": {
     "slide_type": "subslide"
    }
   },
   "source": [
    "<img src='jupyter.png' width='350'>\n",
    "\n",
    "* Incorporates IPython and all the benefits\n",
    "* Allows the incorporation of text, code, visualizations\n",
    "* Built to work seamlessly with data science libraries"
   ]
  },
  {
   "cell_type": "markdown",
   "metadata": {
    "slideshow": {
     "slide_type": "subslide"
    }
   },
   "source": [
    "# Python Development Environments\n",
    "\n",
    "## Our starting point\n",
    "\n",
    "* **IPython** on the command prompt & a text editor\n",
    "* **Jupyter** notebooks\n",
    "\n",
    "## Good in a pinch\n",
    "\n",
    "* Python on the command prompt & a text editor\n",
    "\n",
    "## Integrated Development Environments\n",
    "\n",
    "* PyCharm\n",
    "* Spyder\n",
    "* Wingware\n",
    "* Eclipse with PyDev\n",
    "* Microsoft Visual Studio\n"
   ]
  },
  {
   "cell_type": "markdown",
   "metadata": {
    "slideshow": {
     "slide_type": "subslide"
    }
   },
   "source": [
    "## Text editor and IPython Demos...\n",
    "\n",
    "\n"
   ]
  },
  {
   "cell_type": "markdown",
   "metadata": {},
   "source": [
    "## Jupyter Demo...\n",
    "\n",
    "In any folder with an `.ipynb` file, you can run the following command:\n",
    "\n",
    "`jupyter notebook`\n",
    "\n",
    "to provide access to notebooks like this one AND the session exercises...\n"
   ]
  }
 ],
 "metadata": {
  "anaconda-cloud": {},
  "celltoolbar": "Slideshow",
  "kernelspec": {
   "display_name": "Python [default]",
   "language": "python",
   "name": "python3"
  },
  "language_info": {
   "codemirror_mode": {
    "name": "ipython",
    "version": 3
   },
   "file_extension": ".py",
   "mimetype": "text/x-python",
   "name": "python",
   "nbconvert_exporter": "python",
   "pygments_lexer": "ipython3",
   "version": "3.5.3"
  }
 },
 "nbformat": 4,
 "nbformat_minor": 1
}
