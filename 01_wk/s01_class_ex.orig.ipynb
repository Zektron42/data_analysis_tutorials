{
 "cells": [
  {
   "cell_type": "markdown",
   "metadata": {},
   "source": [
    "<h1>Welcome to the Dark Art of Coding:</h1>\n",
    "<h2>Introduction to Python</h2>\n",
    "Session 01\n",
    "\n",
    "In-class exercises\n",
    "\n",
    "<img src='../images/logos.3.600.wide.png' height='250' width='300' style=\"float:right\">"
   ]
  },
  {
   "cell_type": "markdown",
   "metadata": {},
   "source": [
    "# Objectives\n",
    "---\n",
    "* Practice using operators\n",
    "* Practice using basic data types\n",
    "  * Integers\n",
    "  * Floating point numbers\n",
    "  * Strings\n",
    "* Practice using variables\n",
    "* Practice using builtin functions\n",
    "  * `print()`\n",
    "  * `help()`\n",
    "  * `input()`\n",
    "  * `len()`\n",
    "  * `str()`\n",
    "  * `int()`\n",
    "  * `float()`\n"
   ]
  },
  {
   "cell_type": "markdown",
   "metadata": {},
   "source": [
    "# Operators\n",
    "---"
   ]
  },
  {
   "cell_type": "markdown",
   "metadata": {},
   "source": [
    "## Complete the following exercises:\n",
    "\n",
    "On the **IPython interpreter** use each of the operators below to create calculations using the numbers provided. \n",
    "\n",
    "||Operator| Operands |\n",
    "|:--:|:--:|:--:|\n",
    "|1.| \\** | 3 and 5 |\n",
    "|2.|\\* | 2 and 3  | \n",
    "|3.| / |  6 and 3 |\n",
    "|4.| \\+ | 8 and 2 | \n",
    "|5.| \\- | 9 and 4 |\n",
    "\n",
    "**BONUS**: Try to combine operators and operands to create more complicated calculations, using parenthesis "
   ]
  },
  {
   "cell_type": "markdown",
   "metadata": {},
   "source": [
    "<img src='../images/green_sticky.300px.png' width='200' style='float:left'>"
   ]
  },
  {
   "cell_type": "markdown",
   "metadata": {},
   "source": [
    "# Basic data types\n",
    "---"
   ]
  },
  {
   "cell_type": "markdown",
   "metadata": {},
   "source": [
    "## Complete the following exercises:\n",
    "\n",
    "On the **IPython interpreter** create the following data types:\n",
    "\n",
    "Data type | Values\n",
    "----|----\n",
    "integers | `-10, 0, and 42`\n",
    "floating point numbers | `-10.0, 0.1, 42.0, and 3.7`\n",
    "strings | `'x', 'aloha', and 'Dark art of coding'`"
   ]
  },
  {
   "cell_type": "markdown",
   "metadata": {},
   "source": [
    "<img src='../images/green_sticky.300px.png' width='200' style='float:left'>"
   ]
  },
  {
   "cell_type": "markdown",
   "metadata": {},
   "source": [
    "# Variables\n",
    "---"
   ]
  },
  {
   "cell_type": "markdown",
   "metadata": {},
   "source": [
    "## Complete the following exercises:\n",
    "\n",
    "On the **IPython interpreter** create a series of variables as listed below (feel free to swap out alternate values as you desire):\n",
    "\n",
    "\n",
    "Variable label | Variable value\n",
    "----------|----------\n",
    "age  | 42 \n",
    "tool | 'nikto' \n",
    "name | 'bruce wayne'\n",
    "alias | 'batman'\n",
    "os | 'OS X'\n",
    "pi | 3.14\n"
   ]
  },
  {
   "cell_type": "markdown",
   "metadata": {},
   "source": [
    "## Complete the following exercises:\n",
    "\n",
    "On the **IPython interpreter** complete the following exercises (feel free to swap out alternate values as you desire):\n",
    "\n",
    "\n",
    "Task | Operator | Operands \n",
    "----------|:----------:|-----\n",
    "concatenate  | + | 'diana' and 'prince'\n",
    "multiply | * | 'kara' and 10\n"
   ]
  },
  {
   "cell_type": "markdown",
   "metadata": {},
   "source": [
    "<img src='../images/green_sticky.300px.png' width='200' style='float:left'>"
   ]
  },
  {
   "cell_type": "markdown",
   "metadata": {},
   "source": [
    "# Builtin Functions\n",
    "---"
   ]
  },
  {
   "cell_type": "markdown",
   "metadata": {},
   "source": [
    "## Complete the following exercises:"
   ]
  },
  {
   "cell_type": "markdown",
   "metadata": {},
   "source": [
    "In your **text editor** create a simple script called `myscript.py` to do each of the following steps.\n",
    "\n",
    "Execute your script in the **IPython interpreter** using the command `run myscript.py`.\n",
    "\n",
    "I suggest that as you add each feature to your script that you run it right away to test it incrementally. \n",
    "\n",
    "1. `print()` your name \n",
    "\n",
    "1. `print()` a blank line\n",
    "\n",
    "1. Convert a numeric string (i.e. '13') to an integer AND save it with the label: `myinteger`.\n",
    "\n",
    "1. `print()` the variable `myinteger`.\n",
    "\n",
    "1. Use `input()` to prompt for your first name AND save it with the label: `fname`.\n",
    "\n",
    "1. Calculate the length of `fname` AND save it with the label: `length`.\n",
    "\n",
    "1. `print()` the variable `length`.\n",
    "\n",
    "1. Convert a negative number to a str AND save it with the label: `neg_number`.\n",
    "\n",
    "1. Convert a float to an integer AND save it with the label: `flt_number`.\n",
    "\n",
    "1. Test two strings, `wireshark` and `metasploit`, for equality AND save the result with the label: `comparison`.\n",
    "\n",
    "1. `print()` the variable `comparison`."
   ]
  },
  {
   "cell_type": "markdown",
   "metadata": {},
   "source": [
    "<img src='../images/green_sticky.300px.png' width='200' style='float:left'>"
   ]
  },
  {
   "cell_type": "code",
   "execution_count": null,
   "metadata": {},
   "outputs": [],
   "source": []
  }
 ],
 "metadata": {
  "anaconda-cloud": {},
  "kernelspec": {
   "display_name": "Python [conda env:misc]",
   "language": "python",
   "name": "conda-env-misc-py"
  },
  "language_info": {
   "codemirror_mode": {
    "name": "ipython",
    "version": 3
   },
   "file_extension": ".py",
   "mimetype": "text/x-python",
   "name": "python",
   "nbconvert_exporter": "python",
   "pygments_lexer": "ipython3",
   "version": "3.5.3"
  }
 },
 "nbformat": 4,
 "nbformat_minor": 1
}
