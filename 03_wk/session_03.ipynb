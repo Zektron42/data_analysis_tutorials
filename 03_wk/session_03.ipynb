{
 "cells": [
  {
   "cell_type": "markdown",
   "metadata": {
    "slideshow": {
     "slide_type": "slide"
    }
   },
   "source": [
    "<h1>Welcome to the Dark Art of Coding:</h1>\n",
    "<h2>Introduction to Python</h2>\n",
    "Session 03\n",
    "\n",
    "List, Dicts, Functions\n",
    "\n",
    "<img src='../images/logos.3.600.wide.png' height='250' width='300' style=\"float:right\">"
   ]
  },
  {
   "cell_type": "markdown",
   "metadata": {
    "slideshow": {
     "slide_type": "slide"
    }
   },
   "source": [
    "# Today's class\n",
    "\n",
    "**Review and Questions?**\n",
    "\n",
    "**Objectives:**\n",
    "\n",
    "  * **Create and use lists**\n",
    "  * **Create and use dictionaries**\n",
    "  * **Be able to write a function:**      \n",
    "    1. **That returns values**\n",
    "    1. **Uses arguments**\n",
    "    1. **Uses keyword arguments**\n",
    "    1. **Differentiate global and local scope**\n",
    "    \n",
    "**In-class Practice**"
   ]
  },
  {
   "cell_type": "markdown",
   "metadata": {
    "slideshow": {
     "slide_type": "subslide"
    }
   },
   "source": [
    "# Review and Questions?\n",
    "\n",
    "* What are the two Boolean values in Python?\n",
    "* What does the `!` in `!=` stand for?\n",
    "* `True and True` yields what result?\n",
    "* `False or True` yields what result?\n",
    "* `False and True` yields what result?\n",
    "* `False and False` yields what result?\n",
    "* `if` code blocks can also include what associated flow control keywords?\n",
    "* How do you import a function from a library?\n",
    "* What does the `time` module's `sleep()` function do?\n",
    "\n",
    "Questions?"
   ]
  },
  {
   "cell_type": "markdown",
   "metadata": {
    "slideshow": {
     "slide_type": "slide"
    }
   },
   "source": [
    "<h1>What is a list?</h1>"
   ]
  },
  {
   "cell_type": "code",
   "execution_count": 2,
   "metadata": {
    "slideshow": {
     "slide_type": "slide"
    }
   },
   "outputs": [
    {
     "name": "stdout",
     "output_type": "stream",
     "text": [
      "['linux', 'unix', 'windows', 'osx']\n"
     ]
    }
   ],
   "source": [
    "operating_systems = ['linux', 'unix', 'windows', 'osx']\n",
    "#                      ^        ^        ^        ^\n",
    "#                      0        1        2        3\n",
    "\n",
    "\n",
    "print(operating_systems)"
   ]
  },
  {
   "cell_type": "code",
   "execution_count": 3,
   "metadata": {
    "slideshow": {
     "slide_type": "fragment"
    }
   },
   "outputs": [
    {
     "name": "stdout",
     "output_type": "stream",
     "text": [
      "linux\n",
      "unix\n",
      "windows\n",
      "osx\n"
     ]
    }
   ],
   "source": [
    "# Displaying items from a list\n",
    "# use the index in brackets\n",
    "\n",
    "\n",
    "print(operating_systems[0])\n",
    "print(operating_systems[1])\n",
    "print(operating_systems[2])\n",
    "print(operating_systems[3])"
   ]
  },
  {
   "cell_type": "code",
   "execution_count": 8,
   "metadata": {},
   "outputs": [
    {
     "data": {
      "text/plain": [
       "'windows'"
      ]
     },
     "execution_count": 8,
     "metadata": {},
     "output_type": "execute_result"
    }
   ],
   "source": [
    "# Introspecting/evaluating via the interpreter\n",
    "# ... is different than print()ing\n",
    "\n",
    "operating_systems[2]"
   ]
  },
  {
   "cell_type": "code",
   "execution_count": 9,
   "metadata": {
    "slideshow": {
     "slide_type": "fragment"
    }
   },
   "outputs": [
    {
     "name": "stdout",
     "output_type": "stream",
     "text": [
      "You installed windows and osx\n"
     ]
    }
   ],
   "source": [
    "print('You installed ' + operating_systems[2] + ' and ' + operating_systems[3])\n",
    "\n",
    "# NOTE: there are better ways to format strings.\n",
    "# we will cover that on a different day\n",
    "# about four different ways, in fact"
   ]
  },
  {
   "cell_type": "code",
   "execution_count": 10,
   "metadata": {
    "slideshow": {
     "slide_type": "slide"
    }
   },
   "outputs": [
    {
     "ename": "TypeError",
     "evalue": "list indices must be integers or slices, not float",
     "output_type": "error",
     "traceback": [
      "\u001b[0;31m---------------------------------------------------------------------------\u001b[0m",
      "\u001b[0;31mTypeError\u001b[0m                                 Traceback (most recent call last)",
      "\u001b[0;32m<ipython-input-10-f08937a62dd2>\u001b[0m in \u001b[0;36m<module>\u001b[0;34m()\u001b[0m\n\u001b[0;32m----> 1\u001b[0;31m \u001b[0moperating_systems\u001b[0m\u001b[0;34m[\u001b[0m\u001b[0;36m1.0\u001b[0m\u001b[0;34m]\u001b[0m\u001b[0;34m\u001b[0m\u001b[0m\n\u001b[0m",
      "\u001b[0;31mTypeError\u001b[0m: list indices must be integers or slices, not float"
     ]
    }
   ],
   "source": [
    "operating_systems[1.0]\n",
    "\n",
    "# You need integers for indexes"
   ]
  },
  {
   "cell_type": "code",
   "execution_count": 121,
   "metadata": {
    "slideshow": {
     "slide_type": "fragment"
    }
   },
   "outputs": [
    {
     "ename": "IndexError",
     "evalue": "list index out of range",
     "output_type": "error",
     "traceback": [
      "\u001b[0;31m---------------------------------------------------------------------------\u001b[0m",
      "\u001b[0;31mIndexError\u001b[0m                                Traceback (most recent call last)",
      "\u001b[0;32m<ipython-input-121-a4ecbea9eb02>\u001b[0m in \u001b[0;36m<module>\u001b[0;34m()\u001b[0m\n\u001b[0;32m----> 1\u001b[0;31m \u001b[0moperating_systems\u001b[0m\u001b[0;34m[\u001b[0m\u001b[0;36m42\u001b[0m\u001b[0;34m]\u001b[0m\u001b[0;34m\u001b[0m\u001b[0m\n\u001b[0m",
      "\u001b[0;31mIndexError\u001b[0m: list index out of range"
     ]
    }
   ],
   "source": [
    "operating_systems[42]"
   ]
  },
  {
   "cell_type": "markdown",
   "metadata": {
    "collapsed": true,
    "slideshow": {
     "slide_type": "slide"
    }
   },
   "source": [
    "# Experience Points!\n",
    "\n",
    "On the **IPython interpreter** do each of the following:\n",
    "\n",
    "Task | Sample Object(s)\n",
    ":---|---\n",
    "Create a list | Make it an empty list AND label it `listOne`\n",
    "Create a different list | Include only one object, your name AND label it `listTwo`\n",
    "Create another list | Include five objects, including numbers and stringsAND label it `listThree`"
   ]
  },
  {
   "cell_type": "code",
   "execution_count": 11,
   "metadata": {
    "collapsed": true,
    "slideshow": {
     "slide_type": "subslide"
    }
   },
   "outputs": [],
   "source": [
    "listOne = []\n",
    "listTwo = ['chalmer']\n",
    "listThree = ['bruce', 42, 'wayne', 13, 'batman']"
   ]
  },
  {
   "cell_type": "markdown",
   "metadata": {
    "slideshow": {
     "slide_type": "slide"
    }
   },
   "source": [
    "<pre>operating_systems = ['linux', 'unix', 'windows', 'osx']<br>\n",
    "                        ^       ^        ^         ^\n",
    "<font color='gray'>                        0       1        2         3</font>\n",
    "                       -4      -3       -2        -1\n",
    "</pre>"
   ]
  },
  {
   "cell_type": "code",
   "execution_count": 12,
   "metadata": {
    "slideshow": {
     "slide_type": "fragment"
    }
   },
   "outputs": [
    {
     "name": "stdout",
     "output_type": "stream",
     "text": [
      "['linux', 'unix', 'windows', 'osx']\n",
      "\n",
      "osx\n",
      "windows\n",
      "unix\n"
     ]
    }
   ],
   "source": [
    "operating_systems = ['linux', 'unix', 'windows', 'osx']\n",
    "print(operating_systems)\n",
    "print()\n",
    "print(operating_systems[-1])\n",
    "print(operating_systems[-2])\n",
    "print(operating_systems[-3])"
   ]
  },
  {
   "cell_type": "code",
   "execution_count": 13,
   "metadata": {
    "collapsed": true,
    "slideshow": {
     "slide_type": "slide"
    }
   },
   "outputs": [],
   "source": [
    "# Lists may included nested objects, like more lists\n",
    "\n",
    "oses = [['linux', 'ubuntu'], ['osx', 'sierra', 'el capitan', 'yosemite'],\n",
    "             ['windows', 'server 2016', '3.1']]"
   ]
  },
  {
   "cell_type": "code",
   "execution_count": 16,
   "metadata": {
    "slideshow": {
     "slide_type": "fragment"
    }
   },
   "outputs": [
    {
     "data": {
      "text/plain": [
       "'el capitan'"
      ]
     },
     "execution_count": 16,
     "metadata": {},
     "output_type": "execute_result"
    }
   ],
   "source": [
    "# We can access data in nested lists by chaining our indexes\n",
    "\n",
    "oses[1]      # yields the oneth list ['osx', 'sierra', 'el capitan', 'yosemite']\n",
    "oses[1][2]   # yields the twoth item in that list"
   ]
  },
  {
   "cell_type": "code",
   "execution_count": 17,
   "metadata": {
    "slideshow": {
     "slide_type": "fragment"
    }
   },
   "outputs": [
    {
     "data": {
      "text/plain": [
       "'ubuntu'"
      ]
     },
     "execution_count": 17,
     "metadata": {},
     "output_type": "execute_result"
    }
   ],
   "source": [
    "oses[0][1]"
   ]
  },
  {
   "cell_type": "code",
   "execution_count": 18,
   "metadata": {
    "slideshow": {
     "slide_type": "slide"
    }
   },
   "outputs": [
    {
     "name": "stdout",
     "output_type": "stream",
     "text": [
      "sliced from 0 upto but not including 4:\n",
      "['linux', 'unix', 'windows', 'osx']\n"
     ]
    }
   ],
   "source": [
    "# Just like strings (str) we can slice lists to extract sequences of items.\n",
    "\n",
    "print('sliced from 0 upto but not including 4:')\n",
    "print(operating_systems[0:4])"
   ]
  },
  {
   "cell_type": "code",
   "execution_count": 19,
   "metadata": {
    "slideshow": {
     "slide_type": "fragment"
    }
   },
   "outputs": [
    {
     "name": "stdout",
     "output_type": "stream",
     "text": [
      "sliced from 1 upto but not including 3:\n",
      "['unix', 'windows']\n"
     ]
    }
   ],
   "source": [
    "print('sliced from 1 upto but not including 3:')\n",
    "print(operating_systems[1:3])"
   ]
  },
  {
   "cell_type": "code",
   "execution_count": 20,
   "metadata": {
    "slideshow": {
     "slide_type": "fragment"
    }
   },
   "outputs": [
    {
     "name": "stdout",
     "output_type": "stream",
     "text": [
      "sliced from 0 upto but not including -1:\n",
      "['linux', 'unix', 'windows']\n"
     ]
    }
   ],
   "source": [
    "print('sliced from 0 upto but not including -1:')\n",
    "print(operating_systems[0:-1])"
   ]
  },
  {
   "cell_type": "code",
   "execution_count": 21,
   "metadata": {
    "slideshow": {
     "slide_type": "fragment"
    }
   },
   "outputs": [
    {
     "name": "stdout",
     "output_type": "stream",
     "text": [
      "sliced from 0 upto but not including 4:\n",
      "['linux', 'unix', 'windows', 'osx']\n"
     ]
    }
   ],
   "source": [
    "# simpler syntax >>> no need to mention the 0, it is the default\n",
    "\n",
    "print('sliced from 0 upto but not including 4:')\n",
    "print(operating_systems[:4])"
   ]
  },
  {
   "cell_type": "code",
   "execution_count": 22,
   "metadata": {
    "collapsed": true,
    "slideshow": {
     "slide_type": "fragment"
    }
   },
   "outputs": [],
   "source": [
    "# simpler syntax >>> no need to mention the last element, it is also the default\n",
    "\n",
    "os_copy = operating_systems[:]    # this syntax is often used to make a copy of a list"
   ]
  },
  {
   "cell_type": "code",
   "execution_count": 23,
   "metadata": {
    "slideshow": {
     "slide_type": "slide"
    }
   },
   "outputs": [
    {
     "data": {
      "text/plain": [
       "4"
      ]
     },
     "execution_count": 23,
     "metadata": {},
     "output_type": "execute_result"
    }
   ],
   "source": [
    "len(os_copy)"
   ]
  },
  {
   "cell_type": "code",
   "execution_count": 26,
   "metadata": {
    "slideshow": {
     "slide_type": "slide"
    }
   },
   "outputs": [
    {
     "name": "stdout",
     "output_type": "stream",
     "text": [
      "['linux', 'unix', 'windows', 'osx']\n",
      "['linux', 'unix', 'android', 'osx']\n"
     ]
    }
   ],
   "source": [
    "# Assigning to an index in a list is straightforward\n",
    "\n",
    "print(os_copy)\n",
    "os_copy[2] = 'android'\n",
    "print(os_copy)"
   ]
  },
  {
   "cell_type": "code",
   "execution_count": 27,
   "metadata": {
    "slideshow": {
     "slide_type": "fragment"
    }
   },
   "outputs": [
    {
     "ename": "IndexError",
     "evalue": "list assignment index out of range",
     "output_type": "error",
     "traceback": [
      "\u001b[0;31m---------------------------------------------------------------------------\u001b[0m",
      "\u001b[0;31mIndexError\u001b[0m                                Traceback (most recent call last)",
      "\u001b[0;32m<ipython-input-27-4ccac66883f1>\u001b[0m in \u001b[0;36m<module>\u001b[0;34m()\u001b[0m\n\u001b[1;32m      1\u001b[0m \u001b[0;31m# There is no space set aside at index 5...\u001b[0m\u001b[0;34m\u001b[0m\u001b[0;34m\u001b[0m\u001b[0m\n\u001b[1;32m      2\u001b[0m \u001b[0;34m\u001b[0m\u001b[0m\n\u001b[0;32m----> 3\u001b[0;31m \u001b[0mos_copy\u001b[0m\u001b[0;34m[\u001b[0m\u001b[0;36m5\u001b[0m\u001b[0;34m]\u001b[0m \u001b[0;34m=\u001b[0m \u001b[0;34m'minix'\u001b[0m\u001b[0;34m\u001b[0m\u001b[0m\n\u001b[0m\u001b[1;32m      4\u001b[0m \u001b[0mprint\u001b[0m\u001b[0;34m(\u001b[0m\u001b[0mos_copy\u001b[0m\u001b[0;34m)\u001b[0m\u001b[0;34m\u001b[0m\u001b[0m\n\u001b[1;32m      5\u001b[0m \u001b[0;34m\u001b[0m\u001b[0m\n",
      "\u001b[0;31mIndexError\u001b[0m: list assignment index out of range"
     ]
    }
   ],
   "source": [
    "# There is no space set aside at index 5...\n",
    "\n",
    "os_copy[5] = 'minix'\n",
    "print(os_copy)\n",
    "\n",
    "# Don't worry, it is possible to grow lists... we will explore this later...\n"
   ]
  },
  {
   "cell_type": "code",
   "execution_count": 32,
   "metadata": {
    "slideshow": {
     "slide_type": "slide"
    }
   },
   "outputs": [
    {
     "data": {
      "text/plain": [
       "[1, 2, 3, 'Z', 'Y', 'X']"
      ]
     },
     "execution_count": 32,
     "metadata": {},
     "output_type": "execute_result"
    }
   ],
   "source": [
    "# lists can be concatenated together\n",
    "\n",
    "[1, 2, 3] + ['Z', 'Y', 'X']"
   ]
  },
  {
   "cell_type": "code",
   "execution_count": 33,
   "metadata": {
    "slideshow": {
     "slide_type": "fragment"
    }
   },
   "outputs": [
    {
     "data": {
      "text/plain": [
       "[1, 2, 3, 1, 2, 3, 1, 2, 3, 1, 2, 3]"
      ]
     },
     "execution_count": 33,
     "metadata": {},
     "output_type": "execute_result"
    }
   ],
   "source": [
    "# lists can be 'multiplied' by an integer\n",
    "\n",
    "[1, 2, 3] * 4"
   ]
  },
  {
   "cell_type": "code",
   "execution_count": 34,
   "metadata": {
    "slideshow": {
     "slide_type": "slide"
    }
   },
   "outputs": [
    {
     "name": "stdout",
     "output_type": "stream",
     "text": [
      "10\n",
      "20\n",
      "30\n",
      "40\n"
     ]
    }
   ],
   "source": [
    "# Much like strings, iteration over the elements in a list\n",
    "# is possible with a for loop.\n",
    "\n",
    "for number in [10, 20, 30, 40]:\n",
    "    print(number)"
   ]
  },
  {
   "cell_type": "code",
   "execution_count": 35,
   "metadata": {},
   "outputs": [
    {
     "name": "stdout",
     "output_type": "stream",
     "text": [
      "['linux', 'ubuntu']\n",
      "['osx', 'sierra', 'el capitan', 'yosemite']\n",
      "['windows', 'server 2016', '3.1']\n"
     ]
    }
   ],
   "source": [
    "for os in oses:\n",
    "    print(os)"
   ]
  },
  {
   "cell_type": "code",
   "execution_count": 37,
   "metadata": {},
   "outputs": [
    {
     "name": "stdout",
     "output_type": "stream",
     "text": [
      "ubuntu\n",
      "sierra\n",
      "server 2016\n"
     ]
    }
   ],
   "source": [
    "# Need a particular field from a list? \n",
    "\n",
    "for os in oses:\n",
    "    print(os[1])"
   ]
  },
  {
   "cell_type": "code",
   "execution_count": 38,
   "metadata": {
    "slideshow": {
     "slide_type": "slide"
    }
   },
   "outputs": [
    {
     "data": {
      "text/plain": [
       "False"
      ]
     },
     "execution_count": 38,
     "metadata": {},
     "output_type": "execute_result"
    }
   ],
   "source": [
    "'freebsd' in os_copy"
   ]
  },
  {
   "cell_type": "code",
   "execution_count": 39,
   "metadata": {
    "slideshow": {
     "slide_type": "fragment"
    }
   },
   "outputs": [
    {
     "data": {
      "text/plain": [
       "False"
      ]
     },
     "execution_count": 39,
     "metadata": {},
     "output_type": "execute_result"
    }
   ],
   "source": [
    "'linux' not in os_copy"
   ]
  },
  {
   "cell_type": "code",
   "execution_count": 40,
   "metadata": {},
   "outputs": [
    {
     "name": "stdout",
     "output_type": "stream",
     "text": [
      "unix\n"
     ]
    }
   ],
   "source": [
    "if 'unix' in os_copy:\n",
    "    print('unix')\n",
    "else:\n",
    "    print('os not found')"
   ]
  },
  {
   "cell_type": "markdown",
   "metadata": {
    "collapsed": true,
    "slideshow": {
     "slide_type": "slide"
    }
   },
   "source": [
    "# Experience Points!\n",
    "\n",
    "In your **text editor** create a simple script called sess03_01.py to do the following:\n",
    "\n",
    "Execute your script in the **IPython interpreter** using the command `run sess03_01.py`.\n",
    "\n",
    "1. Create a list labeled `myfoods`, include four of your favorite foods\n",
    "1. Ask the user to `input()` their favorite food AND label the response `userfood`\n",
    "1. Use an `if` statement to see if `userfood` is in the list\n",
    "1. IF yes, `print()` \"`userfood` is in the list\", using **string concatenation** to print `userfood` and the phrase \" is in the list\"\n",
    "1. Otherwise, `print()` \"`userfood` is not in the list\", again, using **string concatenation** to generate the output string."
   ]
  },
  {
   "cell_type": "code",
   "execution_count": 41,
   "metadata": {
    "slideshow": {
     "slide_type": "subslide"
    }
   },
   "outputs": [
    {
     "name": "stdout",
     "output_type": "stream",
     "text": [
      "What is your favorite food? sushi\n",
      "You like sushi?\n",
      "Me too!\n"
     ]
    }
   ],
   "source": [
    "myfoods = ['pizza', 'sushi', 'cereal', 'ice cream']\n",
    "userfood = input('What is your favorite food? ')\n",
    "if userfood in myfoods:\n",
    "    print('You like ' + userfood + '?')\n",
    "    print('Me too!')\n",
    "else:\n",
    "    print('Ew gross!')"
   ]
  },
  {
   "cell_type": "code",
   "execution_count": 42,
   "metadata": {
    "slideshow": {
     "slide_type": "slide"
    }
   },
   "outputs": [
    {
     "name": "stdout",
     "output_type": "stream",
     "text": [
      "['linux', 'unix', 'android', 'osx']\n"
     ]
    }
   ],
   "source": [
    "print(os_copy)"
   ]
  },
  {
   "cell_type": "code",
   "execution_count": 43,
   "metadata": {
    "slideshow": {
     "slide_type": "fragment"
    }
   },
   "outputs": [
    {
     "name": "stdout",
     "output_type": "stream",
     "text": [
      "['linux', 'android', 'osx']\n"
     ]
    }
   ],
   "source": [
    "del os_copy[1]\n",
    "print(os_copy)"
   ]
  },
  {
   "cell_type": "code",
   "execution_count": 44,
   "metadata": {
    "slideshow": {
     "slide_type": "fragment"
    }
   },
   "outputs": [
    {
     "ename": "NameError",
     "evalue": "name 'os_copy' is not defined",
     "output_type": "error",
     "traceback": [
      "\u001b[0;31m---------------------------------------------------------------------------\u001b[0m",
      "\u001b[0;31mNameError\u001b[0m                                 Traceback (most recent call last)",
      "\u001b[0;32m<ipython-input-44-d390d682b71f>\u001b[0m in \u001b[0;36m<module>\u001b[0;34m()\u001b[0m\n\u001b[1;32m      1\u001b[0m \u001b[0;32mdel\u001b[0m \u001b[0mos_copy\u001b[0m\u001b[0;34m\u001b[0m\u001b[0m\n\u001b[0;32m----> 2\u001b[0;31m \u001b[0mprint\u001b[0m\u001b[0;34m(\u001b[0m\u001b[0mos_copy\u001b[0m\u001b[0;34m)\u001b[0m\u001b[0;34m\u001b[0m\u001b[0m\n\u001b[0m",
      "\u001b[0;31mNameError\u001b[0m: name 'os_copy' is not defined"
     ]
    }
   ],
   "source": [
    "del os_copy\n",
    "print(os_copy)"
   ]
  },
  {
   "cell_type": "code",
   "execution_count": 45,
   "metadata": {
    "slideshow": {
     "slide_type": "slide"
    }
   },
   "outputs": [
    {
     "name": "stdout",
     "output_type": "stream",
     "text": [
      "Batman lived in Gotham\n"
     ]
    }
   ],
   "source": [
    "# Referencing elements in a list:\n",
    "# fast and dirty\n",
    "\n",
    "hero = ['Batman', 'batarang', 'Gotham', 'kevlar']\n",
    "\n",
    "print(hero[0], 'lived in', hero[2])"
   ]
  },
  {
   "cell_type": "code",
   "execution_count": 46,
   "metadata": {
    "slideshow": {
     "slide_type": "slide"
    }
   },
   "outputs": [
    {
     "name": "stdout",
     "output_type": "stream",
     "text": [
      "Batman wore kevlar\n"
     ]
    }
   ],
   "source": [
    "# Referencing elements in a list:\n",
    "# much cleaner, lots of typing\n",
    "\n",
    "hero = ['Batman', 'batarang', 'Gotham', 'kevlar']\n",
    "name = hero[0]\n",
    "weapon = hero[1]\n",
    "country = hero[2]\n",
    "armor = hero[3]\n",
    "\n",
    "print(name, 'wore', armor)"
   ]
  },
  {
   "cell_type": "code",
   "execution_count": 47,
   "metadata": {
    "slideshow": {
     "slide_type": "fragment"
    }
   },
   "outputs": [
    {
     "name": "stdout",
     "output_type": "stream",
     "text": [
      "Batman was armed with a batarang\n"
     ]
    }
   ],
   "source": [
    "# Referencing elements in a list:\n",
    "# tuple unpacking >>> don't let the name fool you usable for any sequence\n",
    "# very fast, reasonably clean\n",
    "\n",
    "hero = ['Batman', 'batarang', 'Gotham', 'kevlar']\n",
    "name, weapon, country, armor = hero               # list/tuple unpacking \n",
    "\n",
    "print(name, \"was armed with a\", weapon)"
   ]
  },
  {
   "cell_type": "markdown",
   "metadata": {},
   "source": [
    "# List methods\n",
    "---"
   ]
  },
  {
   "cell_type": "markdown",
   "metadata": {
    "slideshow": {
     "slide_type": "slide"
    }
   },
   "source": [
    "<pre>\n",
    "hero.append()\n",
    "hero.clear()\n",
    "hero.copy()\n",
    "hero.count()\n",
    "hero.extend()\n",
    "hero.index()\n",
    "hero.insert()\n",
    "hero.pop()\n",
    "hero.remove()\n",
    "hero.reverse()\n",
    "hero.sort()\n",
    "</pre>"
   ]
  },
  {
   "cell_type": "code",
   "execution_count": 48,
   "metadata": {
    "slideshow": {
     "slide_type": "slide"
    }
   },
   "outputs": [
    {
     "name": "stdout",
     "output_type": "stream",
     "text": [
      "Help on built-in function append:\n",
      "\n",
      "append(...) method of builtins.list instance\n",
      "    L.append(object) -> None -- append object to end\n",
      "\n"
     ]
    }
   ],
   "source": [
    "# Getting help with lists methods\n",
    "\n",
    "#     help.append?\n",
    "\n",
    "# OR if you are not using IPython:  \n",
    "#     help(hero.append)\n",
    "\n",
    "\n",
    "# Helpful hints...\n",
    "# 'L' stands for your variable name\n",
    "# '->' shows what this function returns as a return value of None\n",
    "# everything after the '--' is the help documentation\n",
    "\n",
    "help(hero.append)"
   ]
  },
  {
   "cell_type": "code",
   "execution_count": 49,
   "metadata": {
    "slideshow": {
     "slide_type": "slide"
    }
   },
   "outputs": [
    {
     "name": "stdout",
     "output_type": "stream",
     "text": [
      "['Batman', 'batarang', 'Gotham', 'kevlar', 'bat-dart']\n"
     ]
    }
   ],
   "source": [
    "hero.append('bat-dart')\n",
    "print(hero)"
   ]
  },
  {
   "cell_type": "code",
   "execution_count": 50,
   "metadata": {
    "slideshow": {
     "slide_type": "slide"
    }
   },
   "outputs": [
    {
     "name": "stdout",
     "output_type": "stream",
     "text": [
      "['Batman', 'batarang', 'Gotham', 'kevlar', 'bat-dart', ['cape', 'cowl']]\n"
     ]
    }
   ],
   "source": [
    "hero.append(['cape', 'cowl'])\n",
    "print(hero)"
   ]
  },
  {
   "cell_type": "code",
   "execution_count": 51,
   "metadata": {
    "slideshow": {
     "slide_type": "fragment"
    }
   },
   "outputs": [
    {
     "name": "stdout",
     "output_type": "stream",
     "text": [
      "['Batman', 'batarang', 'Gotham', 'kevlar', 'bat-dart']\n"
     ]
    }
   ],
   "source": [
    "del hero[5]\n",
    "print(hero)"
   ]
  },
  {
   "cell_type": "code",
   "execution_count": 52,
   "metadata": {
    "slideshow": {
     "slide_type": "fragment"
    }
   },
   "outputs": [
    {
     "name": "stdout",
     "output_type": "stream",
     "text": [
      "['Batman', 'batarang', 'Gotham', 'kevlar', 'bat-dart', 'cape', 'cowl']\n"
     ]
    }
   ],
   "source": [
    "hero.extend(['cape', 'cowl'])\n",
    "print(hero)"
   ]
  },
  {
   "cell_type": "code",
   "execution_count": 53,
   "metadata": {
    "slideshow": {
     "slide_type": "slide"
    }
   },
   "outputs": [
    {
     "name": "stdout",
     "output_type": "stream",
     "text": [
      "Help on built-in function sort:\n",
      "\n",
      "sort(...) method of builtins.list instance\n",
      "    L.sort(key=None, reverse=False) -> None -- stable sort *IN PLACE*\n",
      "\n"
     ]
    }
   ],
   "source": [
    "help(hero.sort)"
   ]
  },
  {
   "cell_type": "code",
   "execution_count": 54,
   "metadata": {
    "slideshow": {
     "slide_type": "fragment"
    }
   },
   "outputs": [
    {
     "name": "stdout",
     "output_type": "stream",
     "text": [
      "['Batman', 'Gotham', 'bat-dart', 'batarang', 'cape', 'cowl', 'kevlar']\n"
     ]
    }
   ],
   "source": [
    "hero.sort()\n",
    "print(hero)\n",
    "\n",
    "# NOTE: this sorts in ascii-betical order"
   ]
  },
  {
   "cell_type": "markdown",
   "metadata": {
    "slideshow": {
     "slide_type": "subslide"
    }
   },
   "source": [
    "# Typical subset of an ASCII Chart\n",
    "\n",
    "ID:|Char:|ID:|Char:|ID:|Char:|ID:|Char\n",
    "---|-----|---|-----|---|-----|---|-----\n",
    "033| !   |048| 0   |065| A   |097| a\n",
    "034| \"   |049| 1   |066| B   |098| b\n",
    "036| $   |050| 2   |067| C   |099| c\n",
    "039| '   |051| 3   |068| D   |100| d\n",
    "040| (   |052| 4   |069| E   |101| e\n",
    "041| )   |053| 5   |---| ... |---| ...\n",
    "043| +   |054| 6   |087| W   |119| w\n",
    "044| ,   |055| 7   |088| X   |120| x\n",
    "045| -   |056| 8   |089| Y   |121| y\n",
    "046| .   |057| 9   |090| Z   |122| z"
   ]
  },
  {
   "cell_type": "markdown",
   "metadata": {
    "slideshow": {
     "slide_type": "slide"
    }
   },
   "source": [
    "# What is a dictionary?\n",
    "---"
   ]
  },
  {
   "cell_type": "code",
   "execution_count": 55,
   "metadata": {
    "slideshow": {
     "slide_type": "slide"
    }
   },
   "outputs": [
    {
     "data": {
      "text/plain": [
       "{'alias': 'superman', 'name': 'clark kent', 'weakness': 'kryptonite'}"
      ]
     },
     "execution_count": 55,
     "metadata": {},
     "output_type": "execute_result"
    }
   ],
   "source": [
    "superhero = {'name': 'clark kent',\n",
    "             'weakness': 'kryptonite',\n",
    "             'alias': 'superman'}\n",
    "superhero\n",
    "\n",
    "# NOTE: dictionaries are unordered.\n",
    "# REASON? Computer Science\n",
    "# If you really want to know more, we can discuss it later."
   ]
  },
  {
   "cell_type": "code",
   "execution_count": 56,
   "metadata": {
    "slideshow": {
     "slide_type": "slide"
    }
   },
   "outputs": [
    {
     "data": {
      "text/plain": [
       "'kryptonite'"
      ]
     },
     "execution_count": 56,
     "metadata": {},
     "output_type": "execute_result"
    }
   ],
   "source": [
    "superhero['weakness']"
   ]
  },
  {
   "cell_type": "markdown",
   "metadata": {
    "slideshow": {
     "slide_type": "slide"
    }
   },
   "source": [
    "## Strs vs. Lists vs. Dicts"
   ]
  },
  {
   "cell_type": "code",
   "execution_count": 57,
   "metadata": {
    "slideshow": {
     "slide_type": "subslide"
    }
   },
   "outputs": [
    {
     "name": "stdout",
     "output_type": "stream",
     "text": [
      "A\n"
     ]
    }
   ],
   "source": [
    "character_str = 'Arthur wielded a magic sword'\n",
    "\n",
    "print(character_str[0])"
   ]
  },
  {
   "cell_type": "code",
   "execution_count": 58,
   "metadata": {
    "slideshow": {
     "slide_type": "subslide"
    }
   },
   "outputs": [
    {
     "name": "stdout",
     "output_type": "stream",
     "text": [
      "Arthur\n"
     ]
    }
   ],
   "source": [
    "character_list = ['Arthur', 'magic sword', 'steel armor']\n",
    "\n",
    "print(character_list[0])"
   ]
  },
  {
   "cell_type": "code",
   "execution_count": 59,
   "metadata": {
    "slideshow": {
     "slide_type": "fragment"
    }
   },
   "outputs": [
    {
     "name": "stdout",
     "output_type": "stream",
     "text": [
      "Arthur\n"
     ]
    }
   ],
   "source": [
    "character_dict = {'name': 'Arthur', 'weapon': 'magic sword', 'armor': 'steel armor'}\n",
    "\n",
    "print(character_dict['name'])"
   ]
  },
  {
   "cell_type": "markdown",
   "metadata": {},
   "source": [
    "## The take away...\n",
    "\n",
    "Python is deliberately consistent in syntax where possible...\n",
    "\n",
    "    character_str [1]\n",
    "    character_list[1]\n",
    "    character_dict['weapon']\n",
    "\n",
    "each of these take advantage of a bracketed syntax, where you tell Python to retrieve the item you care about in the brackets.\n",
    "\n",
    "A similar syntax is used with many object types"
   ]
  },
  {
   "cell_type": "code",
   "execution_count": 60,
   "metadata": {
    "slideshow": {
     "slide_type": "slide"
    }
   },
   "outputs": [
    {
     "name": "stdout",
     "output_type": "stream",
     "text": [
      "Are these lists equivalent:  False\n"
     ]
    }
   ],
   "source": [
    "## Comparing two lists VS comparing two dicts\n",
    "# With lists, order matters...\n",
    "\n",
    "ex_list1 = ['val1', 'val2']\n",
    "ex_list2 = ['val2', 'val1']\n",
    "\n",
    "print('Are these lists equivalent: ', ex_list1 == ex_list2)"
   ]
  },
  {
   "cell_type": "code",
   "execution_count": 61,
   "metadata": {
    "slideshow": {
     "slide_type": "fragment"
    }
   },
   "outputs": [
    {
     "name": "stdout",
     "output_type": "stream",
     "text": [
      "Are these dicts equivalent:  True\n"
     ]
    }
   ],
   "source": [
    "# As noted previously... dictionaries are unordered.\n",
    "\n",
    "ex_dict1 = {'key1': 'val1', 'key2': 'val2'}\n",
    "ex_dict2 = {'key2': 'val2', 'key1': 'val1'}\n",
    "\n",
    "print('Are these dicts equivalent: ', ex_dict1 == ex_dict2)"
   ]
  },
  {
   "cell_type": "code",
   "execution_count": 62,
   "metadata": {
    "slideshow": {
     "slide_type": "slide"
    }
   },
   "outputs": [
    {
     "name": "stdout",
     "output_type": "stream",
     "text": [
      "{'weakness': 'kryptonite', 'alias': 'superman', 'name': 'clark kent'}\n",
      "\n"
     ]
    },
    {
     "ename": "KeyError",
     "evalue": "'costume'",
     "output_type": "error",
     "traceback": [
      "\u001b[0;31m---------------------------------------------------------------------------\u001b[0m",
      "\u001b[0;31mKeyError\u001b[0m                                  Traceback (most recent call last)",
      "\u001b[0;32m<ipython-input-62-c2efb6532d5e>\u001b[0m in \u001b[0;36m<module>\u001b[0;34m()\u001b[0m\n\u001b[1;32m      2\u001b[0m \u001b[0mprint\u001b[0m\u001b[0;34m(\u001b[0m\u001b[0;34m)\u001b[0m\u001b[0;34m\u001b[0m\u001b[0m\n\u001b[1;32m      3\u001b[0m \u001b[0;34m\u001b[0m\u001b[0m\n\u001b[0;32m----> 4\u001b[0;31m \u001b[0msuperhero\u001b[0m\u001b[0;34m[\u001b[0m\u001b[0;34m'costume'\u001b[0m\u001b[0;34m]\u001b[0m\u001b[0;34m\u001b[0m\u001b[0m\n\u001b[0m",
      "\u001b[0;31mKeyError\u001b[0m: 'costume'"
     ]
    }
   ],
   "source": [
    "print(superhero)\n",
    "print()\n",
    "\n",
    "superhero['costume']"
   ]
  },
  {
   "cell_type": "code",
   "execution_count": 63,
   "metadata": {
    "slideshow": {
     "slide_type": "subslide"
    }
   },
   "outputs": [
    {
     "data": {
      "text/plain": [
       "['cape', 'red/blue suit', '\"S\" insignia']"
      ]
     },
     "execution_count": 63,
     "metadata": {},
     "output_type": "execute_result"
    }
   ],
   "source": [
    "# Adding a new element (i.e. a key-value pair) to a dictionary\n",
    "\n",
    "superhero['costume'] = ['cape', 'red/blue suit', '\"S\" insignia']\n",
    "superhero['costume']"
   ]
  },
  {
   "cell_type": "code",
   "execution_count": 64,
   "metadata": {
    "slideshow": {
     "slide_type": "subslide"
    }
   },
   "outputs": [
    {
     "name": "stdout",
     "output_type": "stream",
     "text": [
      "['cape', 'red/blue suit', '\"S\" insignia']\n"
     ]
    }
   ],
   "source": [
    "# Retrieving a value\n",
    "\n",
    "supersuit = superhero['costume']\n",
    "\n",
    "print(supersuit)\n"
   ]
  },
  {
   "cell_type": "markdown",
   "metadata": {
    "collapsed": true,
    "slideshow": {
     "slide_type": "slide"
    }
   },
   "source": [
    "# Experience Points!\n",
    "\n",
    "In your **text editor** create a simple script called `sess03_02.py` to do the following:\n",
    "\n",
    "Execute your script in the **IPython interpreter** using the command `run sess03_02.py`.\n",
    "\n",
    "1. Create a dict labeled `aboutme`, include keys and values for your `name`, `favoritefood` and `favoritesong`.\n",
    "1. Add your favorite animal and assign it to the key: `animal`\n",
    "1. Retrieve your favorite food and assign it a label of `favfood`"
   ]
  },
  {
   "cell_type": "code",
   "execution_count": 82,
   "metadata": {},
   "outputs": [
    {
     "data": {
      "text/plain": [
       "'sushi'"
      ]
     },
     "execution_count": 82,
     "metadata": {},
     "output_type": "execute_result"
    }
   ],
   "source": [
    "aboutme = {'name': 'dark lord of python', 'favoritefood': 'sushi', 'favoritesong': 'Hall of Fame'}\n",
    "aboutme['animal'] = 'dog'\n",
    "\n",
    "favfood = aboutme['favoritefood']\n",
    "\n",
    "favfood"
   ]
  },
  {
   "cell_type": "markdown",
   "metadata": {
    "slideshow": {
     "slide_type": "slide"
    }
   },
   "source": [
    "# Keys(), Values(), Items()"
   ]
  },
  {
   "cell_type": "code",
   "execution_count": 68,
   "metadata": {
    "slideshow": {
     "slide_type": "slide"
    }
   },
   "outputs": [
    {
     "name": "stdout",
     "output_type": "stream",
     "text": [
      "dict_keys(['costume', 'weakness', 'alias', 'name'])\n"
     ]
    }
   ],
   "source": [
    "print(superhero.keys())\n",
    "\n",
    "# the output of this is a VIEW of the keys in character\n",
    "# it might resemble a list, but it has subtle differences..."
   ]
  },
  {
   "cell_type": "code",
   "execution_count": 69,
   "metadata": {
    "slideshow": {
     "slide_type": "fragment"
    }
   },
   "outputs": [
    {
     "name": "stdout",
     "output_type": "stream",
     "text": [
      "costume\n",
      "weakness\n",
      "alias\n",
      "name\n"
     ]
    }
   ],
   "source": [
    "for key in superhero.keys():\n",
    "    print(key)"
   ]
  },
  {
   "cell_type": "code",
   "execution_count": 70,
   "metadata": {
    "slideshow": {
     "slide_type": "fragment"
    }
   },
   "outputs": [
    {
     "name": "stdout",
     "output_type": "stream",
     "text": [
      "dict_values([['cape', 'red/blue suit', '\"S\" insignia'], 'kryptonite', 'superman', 'clark kent'])\n"
     ]
    }
   ],
   "source": [
    "print(superhero.values())"
   ]
  },
  {
   "cell_type": "code",
   "execution_count": 71,
   "metadata": {
    "slideshow": {
     "slide_type": "fragment"
    }
   },
   "outputs": [
    {
     "name": "stdout",
     "output_type": "stream",
     "text": [
      "['cape', 'red/blue suit', '\"S\" insignia']\n",
      "kryptonite\n",
      "superman\n",
      "clark kent\n"
     ]
    }
   ],
   "source": [
    "# NOTE: as always, the target variable can be labeled with any valid variable name...\n",
    "# v OR value are fast and dirty, but may not make for self-documenting code.\n",
    "\n",
    "for v in superhero.values():\n",
    "    print(v)"
   ]
  },
  {
   "cell_type": "code",
   "execution_count": 72,
   "metadata": {
    "slideshow": {
     "slide_type": "slide"
    }
   },
   "outputs": [
    {
     "name": "stdout",
     "output_type": "stream",
     "text": [
      "costume     ['cape', 'red/blue suit', '\"S\" insignia']\n",
      "weakness    kryptonite\n",
      "alias       superman\n",
      "name        clark kent\n"
     ]
    }
   ],
   "source": [
    "# What if you want both the keys and values (as pairs of items)\n",
    "\n",
    "for key, value in superhero.items():\n",
    "    print(key.ljust(11), value)\n",
    "    \n",
    "# NOTE: we are slipping in some string formatting, using the str method '.ljust()' to create \n",
    "#       a field 11 characters wide.\n"
   ]
  },
  {
   "cell_type": "code",
   "execution_count": 73,
   "metadata": {
    "slideshow": {
     "slide_type": "slide"
    }
   },
   "outputs": [
    {
     "name": "stdout",
     "output_type": "stream",
     "text": [
      "costume     ['cape', 'red/blue suit', '\"S\" insignia']\n",
      "weakness    kryptonite\n",
      "alias       superman\n",
      "name        clark kent\n"
     ]
    }
   ],
   "source": [
    "# Aiming for slightly better self-documenting code...\n",
    "\n",
    "for characteristic, value in superhero.items():\n",
    "    print(characteristic.ljust(11), value)\n",
    "    "
   ]
  },
  {
   "cell_type": "code",
   "execution_count": 75,
   "metadata": {
    "slideshow": {
     "slide_type": "fragment"
    }
   },
   "outputs": [
    {
     "ename": "KeyError",
     "evalue": "'age'",
     "output_type": "error",
     "traceback": [
      "\u001b[0;31m---------------------------------------------------------------------------\u001b[0m",
      "\u001b[0;31mKeyError\u001b[0m                                  Traceback (most recent call last)",
      "\u001b[0;32m<ipython-input-75-db157109a43d>\u001b[0m in \u001b[0;36m<module>\u001b[0;34m()\u001b[0m\n\u001b[1;32m      3\u001b[0m \u001b[0;31m# Boom!\u001b[0m\u001b[0;34m\u001b[0m\u001b[0;34m\u001b[0m\u001b[0m\n\u001b[1;32m      4\u001b[0m \u001b[0;34m\u001b[0m\u001b[0m\n\u001b[0;32m----> 5\u001b[0;31m \u001b[0msuperhero\u001b[0m\u001b[0;34m[\u001b[0m\u001b[0;34m'age'\u001b[0m\u001b[0;34m]\u001b[0m\u001b[0;34m\u001b[0m\u001b[0m\n\u001b[0m",
      "\u001b[0;31mKeyError\u001b[0m: 'age'"
     ]
    }
   ],
   "source": [
    "# Reminder... when a key doesn't exist, you get an error.\n",
    "# Which effectively crashes your code.\n",
    "# Boom!\n",
    "\n",
    "superhero['age']"
   ]
  },
  {
   "cell_type": "code",
   "execution_count": 76,
   "metadata": {
    "slideshow": {
     "slide_type": "fragment"
    }
   },
   "outputs": [
    {
     "data": {
      "text/plain": [
       "'Sorry, age unknown'"
      ]
     },
     "execution_count": 76,
     "metadata": {},
     "output_type": "execute_result"
    }
   ],
   "source": [
    "# .get() allows you to _get_ a default value back... but does NOT alter \n",
    "# the dictionary.\n",
    "\n",
    "superhero.get('age', 'Sorry, age unknown')"
   ]
  },
  {
   "cell_type": "code",
   "execution_count": 77,
   "metadata": {
    "slideshow": {
     "slide_type": "fragment"
    }
   },
   "outputs": [
    {
     "ename": "KeyError",
     "evalue": "'age'",
     "output_type": "error",
     "traceback": [
      "\u001b[0;31m---------------------------------------------------------------------------\u001b[0m",
      "\u001b[0;31mKeyError\u001b[0m                                  Traceback (most recent call last)",
      "\u001b[0;32m<ipython-input-77-abc0f54b8d17>\u001b[0m in \u001b[0;36m<module>\u001b[0;34m()\u001b[0m\n\u001b[0;32m----> 1\u001b[0;31m \u001b[0msuperhero\u001b[0m\u001b[0;34m[\u001b[0m\u001b[0;34m'age'\u001b[0m\u001b[0;34m]\u001b[0m\u001b[0;34m\u001b[0m\u001b[0m\n\u001b[0m",
      "\u001b[0;31mKeyError\u001b[0m: 'age'"
     ]
    }
   ],
   "source": [
    "superhero['age']"
   ]
  },
  {
   "cell_type": "code",
   "execution_count": 78,
   "metadata": {
    "slideshow": {
     "slide_type": "slide"
    }
   },
   "outputs": [
    {
     "name": "stdout",
     "output_type": "stream",
     "text": [
      "42\n"
     ]
    }
   ],
   "source": [
    "# .setdefault() on the other hand, allows you to _set_ a dictionary value\n",
    "# based on a default if the value does not already exist.\n",
    "\n",
    "superhero.setdefault('age', 42)\n",
    "\n",
    "print(superhero['age'])"
   ]
  },
  {
   "cell_type": "code",
   "execution_count": 79,
   "metadata": {
    "slideshow": {
     "slide_type": "fragment"
    }
   },
   "outputs": [
    {
     "data": {
      "text/plain": [
       "42"
      ]
     },
     "execution_count": 79,
     "metadata": {},
     "output_type": "execute_result"
    }
   ],
   "source": [
    "# if the value exists already, the setdefault() function simply reads the \n",
    "# existing value.\n",
    "\n",
    "superhero.setdefault('age', 50)"
   ]
  },
  {
   "cell_type": "code",
   "execution_count": 80,
   "metadata": {
    "slideshow": {
     "slide_type": "slide"
    }
   },
   "outputs": [
    {
     "name": "stdout",
     "output_type": "stream",
     "text": [
      "{'age': 42, 'costume': ['cape', 'red/blue suit', '\"S\" insignia'], 'weakness': 'kryptonite', 'alias': 'superman', 'name': 'clark kent'}\n"
     ]
    }
   ],
   "source": [
    "# notice that character now has a value for the 'age' key.\n",
    "\n",
    "print(superhero)"
   ]
  },
  {
   "cell_type": "code",
   "execution_count": 81,
   "metadata": {
    "slideshow": {
     "slide_type": "subslide"
    }
   },
   "outputs": [
    {
     "name": "stdout",
     "output_type": "stream",
     "text": [
      "What characteristic do you want to know about? weakness\n",
      "kryptonite\n"
     ]
    }
   ],
   "source": [
    "# Comparing a value\n",
    "\n",
    "characteristic = input('What characteristic do you want to know about? ')\n",
    "\n",
    "if characteristic in superhero:\n",
    "    print(superhero[characteristic])\n",
    "\n",
    "    \n",
    "# NOTE: this is equivalent to:\n",
    "#   if characteristic in superhero.keys(): \n",
    "#       print(superhero[characteristic])"
   ]
  },
  {
   "cell_type": "markdown",
   "metadata": {
    "collapsed": true,
    "slideshow": {
     "slide_type": "slide"
    }
   },
   "source": [
    "# Experience Points!\n",
    "\n",
    "In your **text editor** create a simple script called `sess03_03.py` to do the following:\n",
    "\n",
    "Execute your script in the **IPython interpreter** using the command `run sess03_03.py`.\n",
    "\n",
    "1. Create a dict labeled `aboutme` and include these keys: `firstname`, `lastname`, `favoritegame`, `favoritefood`\n",
    "1. Ask the user to `input()` their favorite food AND label the response `favfood`\n",
    "1. Use an `if` statement to see if `favfood` is one of the `values` in the dict\n",
    "1. IF yes, `print()` \"[`favfood`] is in the dict\".  Use **string concatenation** to combine `favfood` and the phrase \" is in the dict\"\n",
    "1. Otherwise, `print()` \"[`favfood`] is not in the dict\", again, using **string concatenation** to generate the output string."
   ]
  },
  {
   "cell_type": "code",
   "execution_count": 88,
   "metadata": {},
   "outputs": [
    {
     "name": "stdout",
     "output_type": "stream",
     "text": [
      "What is your favorite food? froglegs\n",
      "froglegs is not in the dict\n"
     ]
    }
   ],
   "source": [
    "aboutme = {'firstname': 'dark lord of', 'lastname': 'python', 'favoritegame': 'clank', 'favoritefood': 'sushi'}\n",
    "favfood = input('What is your favorite food? ')\n",
    "\n",
    "if favfood in aboutme.values():\n",
    "    print(favfood + ' is in the dict')\n",
    "else: \n",
    "    print(favfood + ' is not in the dict')\n",
    "    "
   ]
  },
  {
   "cell_type": "markdown",
   "metadata": {
    "slideshow": {
     "slide_type": "slide"
    }
   },
   "source": [
    "# When do you use a function?\n",
    "---"
   ]
  },
  {
   "cell_type": "code",
   "execution_count": 90,
   "metadata": {
    "slideshow": {
     "slide_type": "subslide"
    }
   },
   "outputs": [
    {
     "name": "stdout",
     "output_type": "stream",
     "text": [
      "HP: 100\n",
      "Mana: 50\n",
      "Stamina: 35\n"
     ]
    }
   ],
   "source": [
    "# Here, I want to print three things in sequence.\n",
    "\n",
    "print('HP: 100')\n",
    "print('Mana: 50')\n",
    "print('Stamina: 35')"
   ]
  },
  {
   "cell_type": "code",
   "execution_count": 91,
   "metadata": {
    "slideshow": {
     "slide_type": "fragment"
    }
   },
   "outputs": [
    {
     "name": "stdout",
     "output_type": "stream",
     "text": [
      "HP: 100\n",
      "Mana: 50\n",
      "Stamina: 35\n"
     ]
    }
   ],
   "source": [
    "# What if I want to print them again later...\n",
    "# Having to re-write the same code is a recipe for disaster\n",
    "# And is anathema to the lazy-programmer\n",
    "\n",
    "print('HP: 100')\n",
    "print('Mana: 50')\n",
    "print('Stamina: 35')"
   ]
  },
  {
   "cell_type": "code",
   "execution_count": 92,
   "metadata": {
    "slideshow": {
     "slide_type": "slide"
    }
   },
   "outputs": [
    {
     "name": "stdout",
     "output_type": "stream",
     "text": [
      "HP: 100\n",
      "Mana: 50\n",
      "Stamina: 35\n"
     ]
    }
   ],
   "source": [
    "# Let's make a function that prints all three things for us.\n",
    "# Then let's call it OR execute that function\n",
    "\n",
    "def stats():\n",
    "    print('HP: 100')\n",
    "    print('Mana: 50')\n",
    "    print('Stamina: 35')\n",
    "\n",
    "    \n",
    "# ---------------------------------------\n",
    "\n",
    "stats()"
   ]
  },
  {
   "cell_type": "code",
   "execution_count": 93,
   "metadata": {
    "slideshow": {
     "slide_type": "fragment"
    }
   },
   "outputs": [
    {
     "name": "stdout",
     "output_type": "stream",
     "text": [
      "HP: 100\n",
      "Mana: 50\n",
      "Stamina: 35\n",
      "\n",
      "time passes, your hero does some heroing\n",
      "making adventure great again\n",
      "\n",
      "HP: 100\n",
      "Mana: 50\n",
      "Stamina: 35\n"
     ]
    }
   ],
   "source": [
    "# if I want to do this twice... ie. display the stats early in our game\n",
    "# and then later in the game\n",
    "# we simply call it again to display the stats a second time\n",
    "\n",
    "stats()\n",
    "# game play continues...\n",
    "print()\n",
    "print('time passes, your hero does some heroing')\n",
    "print('making adventure great again')\n",
    "print()\n",
    "\n",
    "stats()"
   ]
  },
  {
   "cell_type": "markdown",
   "metadata": {
    "collapsed": true,
    "slideshow": {
     "slide_type": "slide"
    }
   },
   "source": [
    "# Experience Points!\n",
    "\n",
    "In your **text editor** create a simple script called `sess03_04.py` to do the following:\n",
    "\n",
    "Execute your script in the **IPython interpreter** using the command `run sess03_04.py`.\n",
    "\n",
    "Create a function called `me()` that prints out 3 things:\n",
    "\n",
    "* Your name\n",
    "* Your favorite food\n",
    "* Your favorite color\n",
    "\n",
    "Call the function, so that it executes within the script"
   ]
  },
  {
   "cell_type": "code",
   "execution_count": 94,
   "metadata": {
    "slideshow": {
     "slide_type": "subslide"
    }
   },
   "outputs": [
    {
     "name": "stdout",
     "output_type": "stream",
     "text": [
      "dark lord of python\n",
      "sushi\n",
      "purple\n"
     ]
    }
   ],
   "source": [
    "def me():\n",
    "    print('dark lord of python')\n",
    "    print('sushi')\n",
    "    print('purple')\n",
    "    \n",
    "me()    "
   ]
  },
  {
   "cell_type": "markdown",
   "metadata": {
    "slideshow": {
     "slide_type": "slide"
    }
   },
   "source": [
    "# Simplest function with implicit return value\n",
    "\n",
    "\n",
    "<img src='invisible_output_function_black_box.png'>"
   ]
  },
  {
   "cell_type": "markdown",
   "metadata": {
    "slideshow": {
     "slide_type": "fragment"
    }
   },
   "source": [
    "# Function with an explicit return value(s)\n",
    "\n",
    "<img src='no_input_function_black_box.png'>"
   ]
  },
  {
   "cell_type": "markdown",
   "metadata": {
    "slideshow": {
     "slide_type": "fragment"
    }
   },
   "source": [
    "# Function with argument(s) and an explicit return value(s)\n",
    "\n",
    "<img src='function_black_box.png'>"
   ]
  },
  {
   "cell_type": "code",
   "execution_count": 95,
   "metadata": {
    "slideshow": {
     "slide_type": "slide"
    }
   },
   "outputs": [
    {
     "name": "stdout",
     "output_type": "stream",
     "text": [
      "You attacked with sword\n",
      "You attacked with spear\n"
     ]
    }
   ],
   "source": [
    "# I can provide inputs to the function\n",
    "\n",
    "def attack(weapon):\n",
    "    print('You attacked with', weapon)\n",
    "\n",
    "# --------------------------------------\n",
    "    \n",
    "attack('sword')\n",
    "attack('spear')"
   ]
  },
  {
   "cell_type": "code",
   "execution_count": 96,
   "metadata": {
    "slideshow": {
     "slide_type": "fragment"
    }
   },
   "outputs": [
    {
     "name": "stdout",
     "output_type": "stream",
     "text": [
      "You attacked with: sword\n",
      "You used: 5 strength\n",
      "The enemy has: 10 armor\n"
     ]
    }
   ],
   "source": [
    "def attack(weapon, strength, armor):\n",
    "    print('You attacked with:', weapon)\n",
    "    print('You used:', strength, 'strength')\n",
    "    print('The enemy has:', armor, 'armor')\n",
    "\n",
    "attack('sword', 5, 10)"
   ]
  },
  {
   "cell_type": "code",
   "execution_count": 97,
   "metadata": {
    "slideshow": {
     "slide_type": "subslide"
    }
   },
   "outputs": [
    {
     "name": "stdout",
     "output_type": "stream",
     "text": [
      "Your name is: dark lord of python\n"
     ]
    }
   ],
   "source": [
    "def namePhrase(name):\n",
    "    phrase = 'Your name is: ' + name\n",
    "    print(phrase)\n",
    "\n",
    "# --------------------------------------\n",
    "\n",
    "namePhrase('dark lord of python')"
   ]
  },
  {
   "cell_type": "code",
   "execution_count": 98,
   "metadata": {
    "slideshow": {
     "slide_type": "fragment"
    }
   },
   "outputs": [
    {
     "name": "stdout",
     "output_type": "stream",
     "text": [
      "Your name is: dark lord of python\n"
     ]
    }
   ],
   "source": [
    "def namePhrase(name):\n",
    "    phrase = 'Your name is: ' + name\n",
    "    return phrase\n",
    "\n",
    "# --------------------------------------\n",
    "\n",
    "nameSentence = namePhrase('dark lord of python')\n",
    "print(nameSentence)"
   ]
  },
  {
   "cell_type": "code",
   "execution_count": 99,
   "metadata": {
    "slideshow": {
     "slide_type": "slide"
    }
   },
   "outputs": [
    {
     "name": "stdout",
     "output_type": "stream",
     "text": [
      "It attacks swiftly\n"
     ]
    }
   ],
   "source": [
    "def identify(weapon):\n",
    "    if weapon == 'sword':\n",
    "        return 'It attacks swiftly'\n",
    "    \n",
    "output = identify('sword')\n",
    "print(output)"
   ]
  },
  {
   "cell_type": "code",
   "execution_count": 100,
   "metadata": {
    "slideshow": {
     "slide_type": "subslide"
    }
   },
   "outputs": [
    {
     "data": {
      "text/plain": [
       "'It has a block damage chance'"
      ]
     },
     "execution_count": 100,
     "metadata": {},
     "output_type": "execute_result"
    }
   ],
   "source": [
    "def identify(weapon):\n",
    "    if weapon == 'sword':\n",
    "        return 'It attacks swiftly'\n",
    "    elif weapon == 'spear':\n",
    "        return 'It has extra range'\n",
    "    elif weapon == 'axe':\n",
    "        return 'It deals more damage'\n",
    "    elif weapon == 'dagger':\n",
    "        return 'It has higher critical damage chance'\n",
    "    elif weapon == 'shield':\n",
    "        return 'It has a block damage chance'\n",
    "    \n",
    "identify('shield')"
   ]
  },
  {
   "cell_type": "code",
   "execution_count": 101,
   "metadata": {
    "slideshow": {
     "slide_type": "fragment"
    }
   },
   "outputs": [
    {
     "data": {
      "text/plain": [
       "'It deals more damage'"
      ]
     },
     "execution_count": 101,
     "metadata": {},
     "output_type": "execute_result"
    }
   ],
   "source": [
    "identify('axe')"
   ]
  },
  {
   "cell_type": "code",
   "execution_count": 102,
   "metadata": {
    "slideshow": {
     "slide_type": "fragment"
    }
   },
   "outputs": [
    {
     "data": {
      "text/plain": [
       "'It has extra range'"
      ]
     },
     "execution_count": 102,
     "metadata": {},
     "output_type": "execute_result"
    }
   ],
   "source": [
    "identify('spear')"
   ]
  },
  {
   "cell_type": "code",
   "execution_count": 103,
   "metadata": {
    "slideshow": {
     "slide_type": "fragment"
    }
   },
   "outputs": [
    {
     "data": {
      "text/plain": [
       "'It has higher critical damage chance'"
      ]
     },
     "execution_count": 103,
     "metadata": {},
     "output_type": "execute_result"
    }
   ],
   "source": [
    "identify('dagger')"
   ]
  },
  {
   "cell_type": "code",
   "execution_count": 104,
   "metadata": {
    "collapsed": true,
    "slideshow": {
     "slide_type": "subslide"
    }
   },
   "outputs": [],
   "source": [
    "def double(num):\n",
    "    num = num * 2\n",
    "    return num"
   ]
  },
  {
   "cell_type": "code",
   "execution_count": 105,
   "metadata": {
    "slideshow": {
     "slide_type": "slide"
    }
   },
   "outputs": [
    {
     "name": "stdout",
     "output_type": "stream",
     "text": [
      "HP: 100\n",
      "Mana: 50\n",
      "Stamina: 35\n",
      "The returned value is: None\n"
     ]
    }
   ],
   "source": [
    "# as we noted... all functions return a value, whether they look like it or not\n",
    "# going back to our early function stats()\n",
    "\n",
    "returned_value = stats()\n",
    "print('The returned value is:', returned_value)"
   ]
  },
  {
   "cell_type": "code",
   "execution_count": 107,
   "metadata": {
    "slideshow": {
     "slide_type": "fragment"
    }
   },
   "outputs": [
    {
     "name": "stdout",
     "output_type": "stream",
     "text": [
      "You are a hero\n"
     ]
    },
    {
     "data": {
      "text/plain": [
       "True"
      ]
     },
     "execution_count": 107,
     "metadata": {},
     "output_type": "execute_result"
    }
   ],
   "source": [
    "# every function returns a value, even something like print\n",
    "\n",
    "r_value = print('You are a hero')\n",
    "\n",
    "# purportedly such functions return the value None.\n",
    "# Let's test that assertion\n",
    "\n",
    "r_value == None"
   ]
  },
  {
   "cell_type": "code",
   "execution_count": 108,
   "metadata": {
    "slideshow": {
     "slide_type": "slide"
    }
   },
   "outputs": [
    {
     "name": "stdout",
     "output_type": "stream",
     "text": [
      "Health\n",
      "Mana\n"
     ]
    }
   ],
   "source": [
    "print('Health')                    # print('Health', end='\\n')\n",
    "print('Mana')                      # print('Mana', end='\\n')\n",
    "\n",
    "# the magic of keyword arguments is that you don't have to provide input data\n",
    "# UNLESS you want to!\n"
   ]
  },
  {
   "cell_type": "code",
   "execution_count": 109,
   "metadata": {
    "slideshow": {
     "slide_type": "fragment"
    }
   },
   "outputs": [
    {
     "name": "stdout",
     "output_type": "stream",
     "text": [
      "HealthMana\n"
     ]
    }
   ],
   "source": [
    "print('Health', end='')     \n",
    "print('Mana')"
   ]
  },
  {
   "cell_type": "code",
   "execution_count": 110,
   "metadata": {
    "slideshow": {
     "slide_type": "fragment"
    }
   },
   "outputs": [
    {
     "name": "stdout",
     "output_type": "stream",
     "text": [
      "Health, Mana, Stamina\n"
     ]
    }
   ],
   "source": [
    "print('Health', 'Mana', 'Stamina', sep=', ')\n"
   ]
  },
  {
   "cell_type": "code",
   "execution_count": 111,
   "metadata": {
    "slideshow": {
     "slide_type": "slide"
    }
   },
   "outputs": [
    {
     "name": "stdout",
     "output_type": "stream",
     "text": [
      "Help on built-in function print in module builtins:\n",
      "\n",
      "print(...)\n",
      "    print(value, ..., sep=' ', end='\\n', file=sys.stdout, flush=False)\n",
      "    \n",
      "    Prints the values to a stream, or to sys.stdout by default.\n",
      "    Optional keyword arguments:\n",
      "    file:  a file-like object (stream); defaults to the current sys.stdout.\n",
      "    sep:   string inserted between values, default a space.\n",
      "    end:   string appended after the last value, default a newline.\n",
      "    flush: whether to forcibly flush the stream.\n",
      "\n"
     ]
    }
   ],
   "source": [
    "help(print)"
   ]
  },
  {
   "cell_type": "code",
   "execution_count": 112,
   "metadata": {
    "slideshow": {
     "slide_type": "slide"
    }
   },
   "outputs": [
    {
     "name": "stdout",
     "output_type": "stream",
     "text": [
      "Your strength is high and you used a sword\n"
     ]
    }
   ],
   "source": [
    "def attack(strength, weapon='sword'):\n",
    "    print(\"Your strength is\", strength, 'and you used a', weapon)\n",
    "    \n",
    "attack('high')\n",
    "\n",
    "# notice, I didn't have to include a weapon..."
   ]
  },
  {
   "cell_type": "code",
   "execution_count": 113,
   "metadata": {
    "slideshow": {
     "slide_type": "fragment"
    }
   },
   "outputs": [
    {
     "name": "stdout",
     "output_type": "stream",
     "text": [
      "Your strength is high and you used a dagger\n"
     ]
    }
   ],
   "source": [
    "attack('high', weapon='dagger')"
   ]
  },
  {
   "cell_type": "code",
   "execution_count": 114,
   "metadata": {
    "slideshow": {
     "slide_type": "subslide"
    }
   },
   "outputs": [
    {
     "name": "stdout",
     "output_type": "stream",
     "text": [
      "Selina: 6 is a cat burglar: 11\n"
     ]
    }
   ],
   "source": [
    "def character(name, character_class):\n",
    "    name_len = str(len(name))\n",
    "    class_len = str(len(character_class))\n",
    "    \n",
    "    output = name + ': ' + name_len + ' is a ' + character_class + ': ' + class_len\n",
    "    return output    \n",
    "\n",
    "phrase = character('Selina', 'cat burglar')\n",
    "\n",
    "print(phrase)"
   ]
  },
  {
   "cell_type": "code",
   "execution_count": 115,
   "metadata": {
    "collapsed": true,
    "slideshow": {
     "slide_type": "slide"
    }
   },
   "outputs": [],
   "source": [
    "## Scope\n",
    "\n",
    "name = 'Bruce'"
   ]
  },
  {
   "cell_type": "code",
   "execution_count": 116,
   "metadata": {
    "collapsed": true,
    "slideshow": {
     "slide_type": "fragment"
    }
   },
   "outputs": [],
   "source": [
    "def character():\n",
    "    name = 'Superman'"
   ]
  },
  {
   "cell_type": "code",
   "execution_count": 117,
   "metadata": {
    "slideshow": {
     "slide_type": "fragment"
    }
   },
   "outputs": [
    {
     "name": "stdout",
     "output_type": "stream",
     "text": [
      "Bruce\n"
     ]
    }
   ],
   "source": [
    "character()\n",
    "\n",
    "print(name)"
   ]
  },
  {
   "cell_type": "code",
   "execution_count": 118,
   "metadata": {
    "slideshow": {
     "slide_type": "slide"
    }
   },
   "outputs": [
    {
     "name": "stdout",
     "output_type": "stream",
     "text": [
      "Superman\n",
      "Bruce\n"
     ]
    }
   ],
   "source": [
    "name = 'Bruce'\n",
    "\n",
    "def character():\n",
    "    name = 'Superman'\n",
    "    print(name)\n",
    "\n",
    "character()\n",
    "print(name)"
   ]
  },
  {
   "cell_type": "code",
   "execution_count": 119,
   "metadata": {
    "slideshow": {
     "slide_type": "subslide"
    }
   },
   "outputs": [
    {
     "name": "stdout",
     "output_type": "stream",
     "text": [
      "Superman\n",
      "Diana\n",
      "Bruce\n"
     ]
    }
   ],
   "source": [
    "name = 'Bruce'\n",
    "\n",
    "def character():\n",
    "    name = 'Superman'\n",
    "    print(name)\n",
    "\n",
    "def newCharacter():\n",
    "    character()\n",
    "    name = 'Diana'\n",
    "    print(name)\n",
    "\n",
    "newCharacter()\n",
    "print(name)"
   ]
  },
  {
   "cell_type": "code",
   "execution_count": 120,
   "metadata": {
    "slideshow": {
     "slide_type": "subslide"
    }
   },
   "outputs": [
    {
     "name": "stdout",
     "output_type": "stream",
     "text": [
      "Bruce\n",
      "Superman\n"
     ]
    }
   ],
   "source": [
    "name = 'Bruce'\n",
    "\n",
    "def character():\n",
    "    global name\n",
    "    name = 'Superman'\n",
    "\n",
    "print(name)\n",
    "character()\n",
    "print(name)"
   ]
  }
 ],
 "metadata": {
  "anaconda-cloud": {},
  "celltoolbar": "Slideshow",
  "kernelspec": {
   "display_name": "Python [default]",
   "language": "python",
   "name": "python3"
  },
  "language_info": {
   "codemirror_mode": {
    "name": "ipython",
    "version": 3
   },
   "file_extension": ".py",
   "mimetype": "text/x-python",
   "name": "python",
   "nbconvert_exporter": "python",
   "pygments_lexer": "ipython3",
   "version": "3.5.3"
  }
 },
 "nbformat": 4,
 "nbformat_minor": 1
}
