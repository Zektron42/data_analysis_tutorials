{
 "cells": [
  {
   "cell_type": "markdown",
   "metadata": {},
   "source": [
    "# Welcome to the Dark Art of Coding:\n",
    "## Introduction to Python\n",
    "Web services: JSON\n",
    "\n",
    "<img src='../images/dark_art_logo.600px.png' width='300' style=\"float:right\">"
   ]
  },
  {
   "cell_type": "markdown",
   "metadata": {},
   "source": [
    "# Objectives\n",
    "---"
   ]
  },
  {
   "cell_type": "markdown",
   "metadata": {},
   "source": [
    "In this session, students should expect to:\n",
    "\n",
    "* Understand the basics of the JSON format\n",
    "* Read in JSON strings\n",
    "* Write out JSON strings\n"
   ]
  },
  {
   "cell_type": "markdown",
   "metadata": {},
   "source": [
    "# The JSON format\n",
    "---"
   ]
  },
  {
   "cell_type": "markdown",
   "metadata": {},
   "source": [
    "Fundamentally, JSON is only composed of a handful of elements. Most of these elements closely mirror the elements seen in Python.\n",
    "\n",
    "The images below are taken from the following website:\n",
    "[http://www.json.org/](http://www.json.org/)"
   ]
  },
  {
   "cell_type": "markdown",
   "metadata": {},
   "source": [
    "**object**\n",
    "\n",
    "A JSON object looks very much like a Python dictionary.\n",
    "\n",
    "* encapsulated with a pair of curly braces `{}`\n",
    "* keys/values separated by a colon `:`\n",
    "* multiple key and value pairs separated from each other by commas `,`\n",
    "\n",
    "<img src='object_json.png' width='450'>"
   ]
  },
  {
   "cell_type": "markdown",
   "metadata": {},
   "source": [
    "**array**\n",
    "\n",
    "A JSON array looks like a Python list.\n",
    "\n",
    "* encapsulated with a pair of square brackets\n",
    "* values separated from each other by commas `,`\n",
    "\n",
    "<img src='array_json.png' width='450'>"
   ]
  },
  {
   "cell_type": "markdown",
   "metadata": {},
   "source": [
    "**value**\n",
    "\n",
    "A JSON value may be any of the following items:\n",
    "\n",
    "<img src='value_json.png' width='450'>"
   ]
  },
  {
   "cell_type": "markdown",
   "metadata": {},
   "source": [
    "**string**\n",
    "\n",
    "A JSON string is formed in muc the same way as a Python string, with many of the same rules/guidelines. In addition, there are some allowances made for specific computing commands (newline, return, etc)."
   ]
  },
  {
   "cell_type": "markdown",
   "metadata": {},
   "source": [
    "<img src='string_json.png' width='450'>"
   ]
  },
  {
   "cell_type": "markdown",
   "metadata": {},
   "source": [
    "**number**\n",
    "\n",
    "A JSON number is very similar to a variety of the Python style numbers (int, float, etc) and may include:\n",
    "\n",
    "* positive/negative numbers\n",
    "* scientific notation with positive and negative exponentiation\n",
    "* decimal notation"
   ]
  },
  {
   "cell_type": "markdown",
   "metadata": {},
   "source": [
    "<img src='number_json.png' width='450'>"
   ]
  },
  {
   "cell_type": "markdown",
   "metadata": {},
   "source": [
    "# JSON samples\n",
    "---"
   ]
  },
  {
   "cell_type": "markdown",
   "metadata": {
    "collapsed": true
   },
   "source": [
    "## sample zero\n",
    "\n",
    "```json\n",
    "{\n",
    "        \"name\":\"merchandise\",\n",
    "        \"properties\":\n",
    "        {\n",
    "                \"id\":\n",
    "                {\n",
    "                        \"type\":\"numeric\",\n",
    "                        \"description\":\"merchandise identifier\",\n",
    "                        \"required\":true\n",
    "                        \"format\":\"nn-nnn-nnnnnn\"\n",
    "                },\n",
    "                \"name\":\n",
    "                {\n",
    "                        \"description\":\"Name of the merchandise\",\n",
    "                        \"type\":\"string\",\n",
    "                        \"required\":true\n",
    "                },\n",
    "                \"price\":\n",
    "                {\n",
    "                        \"type\":\"numeric\",\n",
    "                        \"minimum\":0,\n",
    "                        \"required\":true\n",
    "                }\n",
    "        }\n",
    "}\n",
    "```\n"
   ]
  },
  {
   "cell_type": "markdown",
   "metadata": {},
   "source": [
    "## sample one\n",
    "\n",
    "```json\n",
    "{\n",
    "    \"colorsArray\":[{\n",
    "            \"hexValue\":\"#ff0000\",\n",
    "            \"colorName\":\"red\"\n",
    "        },\n",
    "        {\n",
    "            \"hexValue\":\"#000000\",\n",
    "            \"colorName\":\"black\"          \n",
    "        }\n",
    "    ]\n",
    "}\n",
    "```"
   ]
  },
  {
   "cell_type": "markdown",
   "metadata": {
    "collapsed": true
   },
   "source": [
    "## sample two\n",
    "\n",
    "```json\n",
    "{\n",
    "     \"lastName\": \"John\",\n",
    "     \"firstName\": \"Smith\",\n",
    "     \"dob\": 1969,\n",
    "     \"address\":\n",
    "     {\n",
    "         \"streetAddress\": \"364 S King St\",\n",
    "         \"city\": \"Honolulu\",\n",
    "         \"state\": \"HI\",\n",
    "         \"postalCode\": \"96813\"\n",
    "     },\n",
    "     \"phoneNumber\":\n",
    "     [\n",
    "         {\n",
    "           \"type\": \"home\",\n",
    "           \"number\": \"808 123-9876\"\n",
    "         },\n",
    "         {\n",
    "           \"type\": \"cell\",\n",
    "           \"number\": \"808 987-1234\"\n",
    "         }\n",
    "     ]\n",
    " }\n",
    " ```\n"
   ]
  },
  {
   "cell_type": "markdown",
   "metadata": {},
   "source": [
    "# Reading JSON\n",
    "---"
   ]
  },
  {
   "cell_type": "code",
   "execution_count": 1,
   "metadata": {},
   "outputs": [
    {
     "name": "stdout",
     "output_type": "stream",
     "text": [
      "<class 'dict'> {'name': 'merchandise', 'properties': {'id': {'type': 'numeric', 'description': 'merchandise identifier', 'required': True, 'format': 'nn-nnn-nnnnnn'}, 'name': {'description': 'Name of the merchandise', 'type': 'string', 'required': True}, 'price': {'type': 'numeric', 'minimum': 0, 'required': True}}}\n"
     ]
    }
   ],
   "source": [
    "import json\n",
    "\n",
    "sample_zero = '''{\n",
    "        \"name\":\"merchandise\",\n",
    "        \"properties\":\n",
    "        {\n",
    "                \"id\":\n",
    "                {\n",
    "                        \"type\":\"numeric\",\n",
    "                        \"description\":\"merchandise identifier\",\n",
    "                        \"required\":true,\n",
    "                        \"format\":\"nn-nnn-nnnnnn\"\n",
    "                },\n",
    "                \"name\":\n",
    "                {\n",
    "                        \"description\":\"Name of the merchandise\",\n",
    "                        \"type\":\"string\",\n",
    "                        \"required\":true\n",
    "                },\n",
    "                \"price\":\n",
    "                {\n",
    "                        \"type\":\"numeric\",\n",
    "                        \"minimum\":0,\n",
    "                        \"required\":true\n",
    "                }\n",
    "        }\n",
    "}'''\n",
    "\n",
    "info = json.loads(sample_zero)\n",
    "print(type(info), info)"
   ]
  },
  {
   "cell_type": "code",
   "execution_count": 2,
   "metadata": {},
   "outputs": [
    {
     "name": "stdout",
     "output_type": "stream",
     "text": [
      "{'name': 'merchandise',\n",
      " 'properties': {'id': {'description': 'merchandise identifier',\n",
      "                       'format': 'nn-nnn-nnnnnn',\n",
      "                       'required': True,\n",
      "                       'type': 'numeric'},\n",
      "                'name': {'description': 'Name of the merchandise',\n",
      "                         'required': True,\n",
      "                         'type': 'string'},\n",
      "                'price': {'minimum': 0, 'required': True, 'type': 'numeric'}}}\n"
     ]
    }
   ],
   "source": [
    "from pprint import pprint\n",
    "pprint(info)"
   ]
  },
  {
   "cell_type": "code",
   "execution_count": 3,
   "metadata": {},
   "outputs": [
    {
     "data": {
      "text/plain": [
       "'merchandise'"
      ]
     },
     "execution_count": 3,
     "metadata": {},
     "output_type": "execute_result"
    }
   ],
   "source": [
    "info['name']"
   ]
  },
  {
   "cell_type": "code",
   "execution_count": 4,
   "metadata": {},
   "outputs": [
    {
     "name": "stdout",
     "output_type": "stream",
     "text": [
      "{'id': {'description': 'merchandise identifier',\n",
      "        'format': 'nn-nnn-nnnnnn',\n",
      "        'required': True,\n",
      "        'type': 'numeric'},\n",
      " 'name': {'description': 'Name of the merchandise',\n",
      "          'required': True,\n",
      "          'type': 'string'},\n",
      " 'price': {'minimum': 0, 'required': True, 'type': 'numeric'}}\n"
     ]
    }
   ],
   "source": [
    "pprint(info['properties'])"
   ]
  },
  {
   "cell_type": "code",
   "execution_count": 5,
   "metadata": {},
   "outputs": [
    {
     "data": {
      "text/plain": [
       "{'description': 'merchandise identifier',\n",
       " 'format': 'nn-nnn-nnnnnn',\n",
       " 'required': True,\n",
       " 'type': 'numeric'}"
      ]
     },
     "execution_count": 5,
     "metadata": {},
     "output_type": "execute_result"
    }
   ],
   "source": [
    "info['properties']['id']"
   ]
  },
  {
   "cell_type": "code",
   "execution_count": 6,
   "metadata": {},
   "outputs": [
    {
     "data": {
      "text/plain": [
       "'nn-nnn-nnnnnn'"
      ]
     },
     "execution_count": 6,
     "metadata": {},
     "output_type": "execute_result"
    }
   ],
   "source": [
    "info['properties']['id']['format']"
   ]
  },
  {
   "cell_type": "code",
   "execution_count": 7,
   "metadata": {},
   "outputs": [
    {
     "data": {
      "text/plain": [
       "'merchandise identifier'"
      ]
     },
     "execution_count": 7,
     "metadata": {},
     "output_type": "execute_result"
    }
   ],
   "source": [
    "info['properties']['id']['description']"
   ]
  },
  {
   "cell_type": "code",
   "execution_count": 8,
   "metadata": {},
   "outputs": [
    {
     "data": {
      "text/plain": [
       "False"
      ]
     },
     "execution_count": 8,
     "metadata": {},
     "output_type": "execute_result"
    }
   ],
   "source": [
    "info['properties']['id']['description'].isupper()"
   ]
  },
  {
   "cell_type": "markdown",
   "metadata": {},
   "source": [
    "# Writing JSON\n",
    "---"
   ]
  },
  {
   "cell_type": "code",
   "execution_count": 12,
   "metadata": {
    "collapsed": true
   },
   "outputs": [],
   "source": [
    "data = {'a list': [1, 42, 3.141, 1337, 'help', u'€'],\n",
    "        'a string': 'bla',\n",
    "        'another dict': {'foo': 'bar',\n",
    "                         'key': 'value',\n",
    "                         'the answer': 42}}\n",
    "\n"
   ]
  },
  {
   "cell_type": "code",
   "execution_count": 15,
   "metadata": {},
   "outputs": [],
   "source": [
    "with open('data.json', 'w') as fout:\n",
    "    json.dump(data, fout)\n"
   ]
  },
  {
   "cell_type": "code",
   "execution_count": 16,
   "metadata": {},
   "outputs": [
    {
     "name": "stdout",
     "output_type": "stream",
     "text": [
      "{\"a list\": [1, 42, 3.141, 1337, \"help\", \"\\u20ac\"], \"a string\": \"bla\", \"another dict\": {\"foo\": \"bar\", \"key\": \"value\", \"the answer\": 42}}"
     ]
    }
   ],
   "source": [
    "!cat data.json"
   ]
  },
  {
   "cell_type": "code",
   "execution_count": 17,
   "metadata": {
    "collapsed": true
   },
   "outputs": [],
   "source": [
    "with open('data_neat.json', 'w') as fout:\n",
    "    json.dump(data, fout,\n",
    "              indent=4, \n",
    "              sort_keys=True,\n",
    "              separators=(',', ': '), \n",
    "              ensure_ascii=False)\n"
   ]
  },
  {
   "cell_type": "code",
   "execution_count": 18,
   "metadata": {},
   "outputs": [
    {
     "name": "stdout",
     "output_type": "stream",
     "text": [
      "{\r\n",
      "    \"a list\": [\r\n",
      "        1,\r\n",
      "        42,\r\n",
      "        3.141,\r\n",
      "        1337,\r\n",
      "        \"help\",\r\n",
      "        \"€\"\r\n",
      "    ],\r\n",
      "    \"a string\": \"bla\",\r\n",
      "    \"another dict\": {\r\n",
      "        \"foo\": \"bar\",\r\n",
      "        \"key\": \"value\",\r\n",
      "        \"the answer\": 42\r\n",
      "    }\r\n",
      "}"
     ]
    }
   ],
   "source": [
    "!cat data_neat.json"
   ]
  },
  {
   "cell_type": "code",
   "execution_count": 20,
   "metadata": {
    "collapsed": true
   },
   "outputs": [],
   "source": [
    "# json.dump?"
   ]
  },
  {
   "cell_type": "markdown",
   "metadata": {},
   "source": [
    "# a real world example\n",
    "---"
   ]
  },
  {
   "cell_type": "code",
   "execution_count": 22,
   "metadata": {
    "collapsed": true
   },
   "outputs": [],
   "source": [
    "with open('data.json') as inputfile:\n",
    "    prices = json.load(inputfile)\n",
    "\n",
    "    select_stock = {}\n",
    "    for stock in prices:\n",
    "        for price in prices[stock]:\n",
    "            num_price = float(price)\n",
    "            if num_price > 20.0:\n",
    "                select_stock[stock] = select_stock.get(stock, []) + [price]"
   ]
  },
  {
   "cell_type": "code",
   "execution_count": 23,
   "metadata": {
    "collapsed": true
   },
   "outputs": [],
   "source": [
    "with open('prices.json', 'w') as outputfile:\n",
    "    json.dump(select_stock, outputfile)"
   ]
  },
  {
   "cell_type": "code",
   "execution_count": null,
   "metadata": {
    "collapsed": true
   },
   "outputs": [],
   "source": []
  },
  {
   "cell_type": "code",
   "execution_count": null,
   "metadata": {
    "collapsed": true
   },
   "outputs": [],
   "source": []
  },
  {
   "cell_type": "code",
   "execution_count": null,
   "metadata": {
    "collapsed": true
   },
   "outputs": [],
   "source": []
  },
  {
   "cell_type": "code",
   "execution_count": null,
   "metadata": {
    "collapsed": true
   },
   "outputs": [],
   "source": []
  },
  {
   "cell_type": "markdown",
   "metadata": {},
   "source": [
    "# Experience Points!\n",
    "---"
   ]
  },
  {
   "cell_type": "markdown",
   "metadata": {
    "collapsed": true,
    "slideshow": {
     "slide_type": "slide"
    }
   },
   "source": [
    "# delete_this_line: sample 01\n",
    "\n",
    "In your **text editor** create a simple script called:\n",
    "\n",
    "```bash\n",
    "my_lessonname_01.py```\n",
    "\n",
    "Execute your script in the **IPython interpreter** using the command:\n",
    "\n",
    "```bash\n",
    "run my_lessonname_01.py```\n",
    "\n",
    "Create a function called `me()` that prints out 3 things:\n",
    "\n",
    "* Your name\n",
    "* Your favorite food\n",
    "* Your favorite color\n",
    "\n",
    "Lastly, call the function, so that it executes when the script is run"
   ]
  },
  {
   "cell_type": "markdown",
   "metadata": {},
   "source": [
    "When you complete this exercise, please put your green post-it on your monitor. \n",
    "\n",
    "If you want to continue on at your own-pace, please feel free to do so.\n",
    "\n",
    "<img src='../images/green_sticky.300px.png' width='200' style='float:left'>"
   ]
  },
  {
   "cell_type": "markdown",
   "metadata": {},
   "source": [
    "# Experience Points!\n",
    "---"
   ]
  },
  {
   "cell_type": "markdown",
   "metadata": {
    "collapsed": true,
    "slideshow": {
     "slide_type": "slide"
    }
   },
   "source": [
    "# delete_this_line: sample 02\n",
    "\n",
    "On the **IPython interpreter** do each of the following:\n",
    "\n",
    "Task | Sample Object(s)\n",
    ":---|:---\n",
    "Compare two items using `and` | 'Bruce', 0\n",
    "Compare two items using `or` | '', 42\n",
    "Use the `not` operator to make an object False | 'Selina' \n",
    "Compare two numbers using comparison operators | `>, <, >=, !=, ==`\n",
    "Create a more complex/nested comparison using parenthesis and Boolean operators| `('kara' _ 'clark') _ (0 _ 0.0)`"
   ]
  },
  {
   "cell_type": "markdown",
   "metadata": {},
   "source": [
    "When you complete this exercise, please put your green post-it on your monitor. \n",
    "\n",
    "If you want to continue on at your own-pace, please feel free to do so.\n",
    "\n",
    "<img src='../images/green_sticky.300px.png' width='200' style='float:left'>"
   ]
  },
  {
   "cell_type": "markdown",
   "metadata": {},
   "source": [
    "# Experience Points!\n",
    "---"
   ]
  },
  {
   "cell_type": "markdown",
   "metadata": {},
   "source": [
    "# delete_this_line: sample 03\n",
    "\n",
    "In your **text editor** create a simple script called:\n",
    "\n",
    "```bash\n",
    "my_lessonname_03.py```\n",
    "\n",
    "Execute your script in the **IPython interpreter** using the command:\n",
    "\n",
    "```bash\n",
    "run my_lessonname_03.py```\n",
    "\n",
    "I suggest that as you add each feature to your script that you run it right away to test it incrementally. \n",
    "\n",
    "1. Create a variable with your first name as a string AND save it with the label: `myfname`.\n",
    "1. Create a variable with your age as an integer AND save it with the label: `myage`.\n",
    "\n",
    "1. Use `input()` to prompt for your first name AND save it with the label: `fname`.\n",
    "1. Create an `if` statement to test whether `fname` is equivalent to `myfname`. \n",
    "1. In the `if` code block: \n",
    "   1. Use `input()` prompt for your age AND save it with the label: `age` \n",
    "   1. NOTE: don't forget to convert the value to an integer.\n",
    "   1. Create a nested `if` statement to test whether `myage` and `age` are equivalent.\n",
    "1. If both tests pass, have the script print: `Your identity has been verified`"
   ]
  },
  {
   "cell_type": "markdown",
   "metadata": {},
   "source": [
    "When you complete this exercise, please put your green post-it on your monitor. \n",
    "\n",
    "If you want to continue on at your own-pace, please feel free to do so.\n",
    "\n",
    "<img src='../images/green_sticky.300px.png' width='200' style='float:left'>"
   ]
  },
  {
   "cell_type": "code",
   "execution_count": null,
   "metadata": {
    "collapsed": true
   },
   "outputs": [],
   "source": []
  },
  {
   "cell_type": "code",
   "execution_count": null,
   "metadata": {
    "collapsed": true
   },
   "outputs": [],
   "source": []
  }
 ],
 "metadata": {
  "kernelspec": {
   "display_name": "Python 3",
   "language": "python",
   "name": "python3"
  },
  "language_info": {
   "codemirror_mode": {
    "name": "ipython",
    "version": 3
   },
   "file_extension": ".py",
   "mimetype": "text/x-python",
   "name": "python",
   "nbconvert_exporter": "python",
   "pygments_lexer": "ipython3",
   "version": "3.6.1"
  }
 },
 "nbformat": 4,
 "nbformat_minor": 2
}
