{
 "cells": [
  {
   "cell_type": "markdown",
   "metadata": {},
   "source": [
    "# Welcome to the Dark Art of Coding:\n",
    "## Introduction to Python\n",
    "Web services: XML\n",
    "\n",
    "<img src='../images/dark_art_logo.600px.png' width='300' style=\"float:right\">"
   ]
  },
  {
   "cell_type": "markdown",
   "metadata": {},
   "source": [
    "# Objectives\n",
    "---"
   ]
  },
  {
   "cell_type": "markdown",
   "metadata": {},
   "source": [
    "In this session, students should expect to:\n",
    "\n",
    "* Understand the basics of XML structure\n",
    "* Read in XML files\n",
    "* Write out XML files\n",
    "\n"
   ]
  },
  {
   "cell_type": "markdown",
   "metadata": {},
   "source": [
    "# What is XML\n",
    "---"
   ]
  },
  {
   "cell_type": "markdown",
   "metadata": {},
   "source": [
    "XML is a markup language similar to HTML in format but used to create fully customized markups. You can create elements using **tags**. \n",
    "\n",
    "There are two primary types of elements:\n",
    "\n",
    "* Simple elements\n",
    "* Complex elements"
   ]
  },
  {
   "cell_type": "markdown",
   "metadata": {},
   "source": [
    "## Simple elements\n",
    "\n",
    "Simple elements may only contain text.\n",
    "\n",
    "* they may not contain other tags.\n",
    "* they may not contain attributes."
   ]
  },
  {
   "cell_type": "markdown",
   "metadata": {
    "collapsed": true
   },
   "source": [
    "## Complex elements\n",
    "\n",
    "Complex elements: \n",
    "\n",
    "* may contain other tags.\n",
    "* may contain attributes.\n"
   ]
  },
  {
   "cell_type": "markdown",
   "metadata": {},
   "source": [
    "This is a snippet of XML:\n",
    "\n",
    "```xml\n",
    "<person>\n",
    "    <name>Bruce Wayne</name>\n",
    "    <phone type=\"cell\">770-090-0552</phone>\n",
    "    <email hide=\"True\"/>\n",
    "</person>\n",
    "```"
   ]
  },
  {
   "cell_type": "markdown",
   "metadata": {},
   "source": [
    "## Tag styles\n",
    "\n",
    "There are two styles of tags:\n",
    "\n",
    "* opening and closing tag pairs: **`<name>`**Bruce Wayne**`</name>`**\n",
    "* self-closing tags: **`<email`** hide=\"True\"**`/>`**\n",
    "    "
   ]
  },
  {
   "cell_type": "markdown",
   "metadata": {},
   "source": [
    "# Let's break it down line by line\n",
    "\n",
    "**First** The entire snippet is encapsulated by a set of tags, in this case the `<person>` tag.\n",
    "\n",
    "```xml\n",
    "<person>\n",
    "    ...\n",
    "</person>\n",
    "```\n",
    "\n",
    "An encapsulating `root` tag is required. Every XML data set has one over-arching tag that holds everything else'\n"
   ]
  },
  {
   "cell_type": "markdown",
   "metadata": {},
   "source": [
    "**Second** this example has a simple element that encapsulates just a small string of text\n",
    "\n",
    "```xml\n",
    "    <name>Bruce Wayne</name>\n",
    "```\n",
    "\n",
    "Tags like this contain a single piece of data and are easy to access, etc.\n"
   ]
  },
  {
   "cell_type": "markdown",
   "metadata": {},
   "source": [
    "**Third** we have an element that includes not only raw text, but also an attribute in the middle of the opening tag.\n",
    "\n",
    "```xml\n",
    "    <phone type=\"cell\">808-867-5309</phone>\n",
    "```\n",
    "\n",
    "As we can see, this is a bit more complex. This tag holds an attribute. An element tag may have as many attributes as you desire. An attribute consists of two parts:\n",
    "\n",
    "* a key:   `type=`\n",
    "* a value: `\"cell\"`\n",
    "\n",
    "One useful part of having attributes on these XML elements is that you can immediately test if an element has a certain attribute value and decide whether or not you want the data inside or if you need to format the data in any way\n",
    "\n",
    "---"
   ]
  },
  {
   "cell_type": "markdown",
   "metadata": {},
   "source": [
    "**Lastly** there is a singular, self-closing tag\n",
    "\n",
    "```xml\n",
    "    <email hide=\"True\"/>\n",
    "```\n",
    "\n",
    "This is a self closing tag. It creates an element that holds no textual data and *only* has attributes. You can tell it's self closing because they put the '/' at the end of the opening tag. This tells whatever program that reads this xml file that it doesn't need to look for a closing tag and that it's finished right then and there"
   ]
  },
  {
   "cell_type": "markdown",
   "metadata": {},
   "source": [
    "# Now for some code to read it all\n",
    "---"
   ]
  },
  {
   "cell_type": "code",
   "execution_count": 4,
   "metadata": {
    "collapsed": true
   },
   "outputs": [],
   "source": [
    "# First we import the module we will be using. We also use the 'as'\n",
    "#     keyword so we don't have to refer to our module as this long line\n",
    "\n",
    "import xml.etree.ElementTree as ET"
   ]
  },
  {
   "cell_type": "code",
   "execution_count": 17,
   "metadata": {},
   "outputs": [],
   "source": [
    "# We have to open an xml file with python using 'rb' to let python know\n",
    "#     we want to read it and to read the bytes and not the text\n",
    "\n",
    "xmlFile = open('exampleFile.xml', 'rb')"
   ]
  },
  {
   "cell_type": "code",
   "execution_count": null,
   "metadata": {
    "collapsed": true
   },
   "outputs": [],
   "source": [
    "# Now we actually parse out the xml using the module we imported earlier\n",
    "# Note how we only have to call for 'ET' instead of 'xml.etree.ElementTree'\n",
    "\n",
    "xmlParsed = ET.parse(xmlFile)"
   ]
  },
  {
   "cell_type": "code",
   "execution_count": 39,
   "metadata": {},
   "outputs": [],
   "source": [
    "# Once we have our ElementTree object we have access to multiple methods \n",
    "#     to help us extract data of interest\n",
    "\n",
    "tag = xmlParsed.find('name')   # Returns the first matching element of the child elements"
   ]
  },
  {
   "cell_type": "code",
   "execution_count": 40,
   "metadata": {},
   "outputs": [
    {
     "data": {
      "text/plain": [
       "'Aidan Lowe'"
      ]
     },
     "execution_count": 40,
     "metadata": {},
     "output_type": "execute_result"
    }
   ],
   "source": [
    "tag.text"
   ]
  },
  {
   "cell_type": "code",
   "execution_count": 42,
   "metadata": {},
   "outputs": [
    {
     "name": "stdout",
     "output_type": "stream",
     "text": [
      "443-805-1791\n"
     ]
    }
   ],
   "source": [
    "text = xmlParsed.find('phone').text\n",
    "print(text)"
   ]
  },
  {
   "cell_type": "markdown",
   "metadata": {},
   "source": [
    "# Various examples\n",
    "---"
   ]
  },
  {
   "cell_type": "markdown",
   "metadata": {},
   "source": [
    "## Unique list of tags"
   ]
  },
  {
   "cell_type": "code",
   "execution_count": 73,
   "metadata": {},
   "outputs": [],
   "source": [
    "import xml.etree.ElementTree as ET\n",
    "\n",
    "with open('catalog.xml', 'rb') as data:\n",
    "    xmlParsed = ET.parse(data)"
   ]
  },
  {
   "cell_type": "code",
   "execution_count": 110,
   "metadata": {},
   "outputs": [
    {
     "name": "stdout",
     "output_type": "stream",
     "text": [
      "{'publish_date', 'title', 'author', 'catalog', 'book', 'description', 'price', 'genre'}\n"
     ]
    }
   ],
   "source": [
    "# The iter() function can iterate over all the tags...\n",
    "#     the following snippet can collect and display all the tags\n",
    "\n",
    "elemList = set()\n",
    "for elem in xmlParsed.iter():\n",
    "    elemList.add(elem.tag)      # sets automatically dedupe\n",
    "\n",
    "print(elemList)\n"
   ]
  },
  {
   "cell_type": "markdown",
   "metadata": {},
   "source": [
    "## Iterating over tags"
   ]
  },
  {
   "cell_type": "code",
   "execution_count": 134,
   "metadata": {
    "collapsed": true
   },
   "outputs": [],
   "source": [
    "titles = xmlParsed.iterfind('book')"
   ]
  },
  {
   "cell_type": "code",
   "execution_count": 135,
   "metadata": {},
   "outputs": [
    {
     "name": "stdout",
     "output_type": "stream",
     "text": [
      "bk101\n",
      "bk102\n",
      "bk103\n",
      "bk104\n",
      "bk105\n",
      "bk106\n",
      "bk107\n",
      "bk108\n",
      "bk109\n",
      "bk110\n",
      "bk111\n",
      "bk112\n"
     ]
    }
   ],
   "source": [
    "# Extract the attributes from a given tag\n",
    "\n",
    "for title in titles:\n",
    "    print(title.get('id'))"
   ]
  },
  {
   "cell_type": "code",
   "execution_count": 139,
   "metadata": {
    "collapsed": true
   },
   "outputs": [],
   "source": [
    "# If we need to extract data associated with nested tags:\n",
    "#     i.e. each book element is a complex element\n",
    "#     and has nested elements such as title and author\n",
    "\n",
    "titles = xmlParsed.iterfind('book/title')"
   ]
  },
  {
   "cell_type": "code",
   "execution_count": 142,
   "metadata": {},
   "outputs": [],
   "source": [
    "for title in titles:\n",
    "    print(title.text)"
   ]
  },
  {
   "cell_type": "code",
   "execution_count": 143,
   "metadata": {},
   "outputs": [],
   "source": [
    "# Similarly, we can extract the author tags\n",
    "\n",
    "authors = xmlParsed.findall('book/author')"
   ]
  },
  {
   "cell_type": "code",
   "execution_count": 144,
   "metadata": {},
   "outputs": [
    {
     "name": "stdout",
     "output_type": "stream",
     "text": [
      "Ralls, Kim\n",
      "Corets, Eva\n",
      "Corets, Eva\n",
      "Corets, Eva\n",
      "O'Brien, Tim\n",
      "O'Brien, Tim\n"
     ]
    }
   ],
   "source": [
    "for name in authors:\n",
    "    name = name.text\n",
    "    fname, lname = name.split(', ')\n",
    "    if len(lname) == 3:\n",
    "        print(name)"
   ]
  },
  {
   "cell_type": "code",
   "execution_count": null,
   "metadata": {
    "collapsed": true
   },
   "outputs": [],
   "source": []
  },
  {
   "cell_type": "markdown",
   "metadata": {},
   "source": [
    "# Experience Points!\n",
    "---"
   ]
  },
  {
   "cell_type": "markdown",
   "metadata": {
    "collapsed": true,
    "slideshow": {
     "slide_type": "slide"
    }
   },
   "source": [
    "# delete_this_line: sample 01\n",
    "\n",
    "In your **text editor** create a simple script called:\n",
    "\n",
    "```bash\n",
    "my_lessonname_01.py```\n",
    "\n",
    "Execute your script in the **IPython interpreter** using the command:\n",
    "\n",
    "```bash\n",
    "run my_lessonname_01.py```\n",
    "\n",
    "Create a function called `me()` that prints out 3 things:\n",
    "\n",
    "* Your name\n",
    "* Your favorite food\n",
    "* Your favorite color\n",
    "\n",
    "Lastly, call the function, so that it executes when the script is run"
   ]
  },
  {
   "cell_type": "markdown",
   "metadata": {},
   "source": [
    "When you complete this exercise, please put your green post-it on your monitor. \n",
    "\n",
    "If you want to continue on at your own-pace, please feel free to do so.\n",
    "\n",
    "<img src='../images/green_sticky.300px.png' width='200' style='float:left'>"
   ]
  },
  {
   "cell_type": "markdown",
   "metadata": {},
   "source": [
    "# Experience Points!\n",
    "---"
   ]
  },
  {
   "cell_type": "markdown",
   "metadata": {
    "collapsed": true,
    "slideshow": {
     "slide_type": "slide"
    }
   },
   "source": [
    "# delete_this_line: sample 02\n",
    "\n",
    "On the **IPython interpreter** do each of the following:\n",
    "\n",
    "Task | Sample Object(s)\n",
    ":---|:---\n",
    "Compare two items using `and` | 'Bruce', 0\n",
    "Compare two items using `or` | '', 42\n",
    "Use the `not` operator to make an object False | 'Selina' \n",
    "Compare two numbers using comparison operators | `>, <, >=, !=, ==`\n",
    "Create a more complex/nested comparison using parenthesis and Boolean operators| `('kara' _ 'clark') _ (0 _ 0.0)`"
   ]
  },
  {
   "cell_type": "markdown",
   "metadata": {},
   "source": [
    "When you complete this exercise, please put your green post-it on your monitor. \n",
    "\n",
    "If you want to continue on at your own-pace, please feel free to do so.\n",
    "\n",
    "<img src='../images/green_sticky.300px.png' width='200' style='float:left'>"
   ]
  },
  {
   "cell_type": "markdown",
   "metadata": {},
   "source": [
    "# Experience Points!\n",
    "---"
   ]
  },
  {
   "cell_type": "markdown",
   "metadata": {},
   "source": [
    "# delete_this_line: sample 03\n",
    "\n",
    "In your **text editor** create a simple script called:\n",
    "\n",
    "```bash\n",
    "my_lessonname_03.py```\n",
    "\n",
    "Execute your script in the **IPython interpreter** using the command:\n",
    "\n",
    "```bash\n",
    "run my_lessonname_03.py```\n",
    "\n",
    "I suggest that as you add each feature to your script that you run it right away to test it incrementally. \n",
    "\n",
    "1. Create a variable with your first name as a string AND save it with the label: `myfname`.\n",
    "1. Create a variable with your age as an integer AND save it with the label: `myage`.\n",
    "\n",
    "1. Use `input()` to prompt for your first name AND save it with the label: `fname`.\n",
    "1. Create an `if` statement to test whether `fname` is equivalent to `myfname`. \n",
    "1. In the `if` code block: \n",
    "   1. Use `input()` prompt for your age AND save it with the label: `age` \n",
    "   1. NOTE: don't forget to convert the value to an integer.\n",
    "   1. Create a nested `if` statement to test whether `myage` and `age` are equivalent.\n",
    "1. If both tests pass, have the script print: `Your identity has been verified`"
   ]
  },
  {
   "cell_type": "markdown",
   "metadata": {},
   "source": [
    "When you complete this exercise, please put your green post-it on your monitor. \n",
    "\n",
    "If you want to continue on at your own-pace, please feel free to do so.\n",
    "\n",
    "<img src='../images/green_sticky.300px.png' width='200' style='float:left'>"
   ]
  },
  {
   "cell_type": "code",
   "execution_count": null,
   "metadata": {
    "collapsed": true
   },
   "outputs": [],
   "source": []
  },
  {
   "cell_type": "code",
   "execution_count": null,
   "metadata": {
    "collapsed": true
   },
   "outputs": [],
   "source": []
  }
 ],
 "metadata": {
  "kernelspec": {
   "display_name": "Python 3",
   "language": "python",
   "name": "python3"
  },
  "language_info": {
   "codemirror_mode": {
    "name": "ipython",
    "version": 3
   },
   "file_extension": ".py",
   "mimetype": "text/x-python",
   "name": "python",
   "nbconvert_exporter": "python",
   "pygments_lexer": "ipython3",
   "version": "3.6.1"
  }
 },
 "nbformat": 4,
 "nbformat_minor": 2
}
