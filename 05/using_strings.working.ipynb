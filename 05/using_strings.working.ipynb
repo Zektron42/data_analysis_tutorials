{
 "cells": [
  {
   "cell_type": "markdown",
   "metadata": {
    "slideshow": {
     "slide_type": "slide"
    }
   },
   "source": [
    "<h1>Welcome to the Dark Art of Coding:</h1>\n",
    "<h2>Introduction to strings</h2>"
   ]
  },
  {
   "cell_type": "markdown",
   "metadata": {
    "slideshow": {
     "slide_type": "slide"
    }
   },
   "source": [
    "<h1>Today's discussion</h1>\n",
    "<ul>\n",
    "<li><strong>Objectives:</strong></li>\n",
    "<ul>\n",
    "    <li><strong>Explore basic string manipulations</strong></li>\n",
    "    <li><strong>Explore various string methods</strong></li>\n",
    "</ul>"
   ]
  },
  {
   "cell_type": "markdown",
   "metadata": {
    "slideshow": {
     "slide_type": "slide"
    }
   },
   "source": [
    "<h1>What is a string?</h1>\n",
    "<img src='pearl_necklace.jpg'>\n",
    "\n",
    "Photo by <a href=\"https://www.flickr.com/photos/tiararama/3530304167\">tiarama</a><br>\n",
    "Attribution http://creativecommons.org/licenses/by-nd/4.0/\n"
   ]
  },
  {
   "cell_type": "markdown",
   "metadata": {
    "slideshow": {
     "slide_type": "slide"
    }
   },
   "source": [
    "<h1>Strings</h1>"
   ]
  },
  {
   "cell_type": "code",
   "execution_count": 2,
   "metadata": {
    "slideshow": {
     "slide_type": "slide"
    }
   },
   "outputs": [
    {
     "name": "stdout",
     "output_type": "stream",
     "text": [
      "python rocks\n"
     ]
    },
    {
     "data": {
      "text/plain": [
       "'python rocks'"
      ]
     },
     "execution_count": 2,
     "metadata": {},
     "output_type": "execute_result"
    }
   ],
   "source": [
    "phrase = 'python rocks'\n",
    "print(phrase)           # print displays to the output ... no quotes\n",
    "phrase                  # in Jupyter, no print simply evaluates the variable ... quotes "
   ]
  },
  {
   "cell_type": "code",
   "execution_count": 3,
   "metadata": {
    "slideshow": {
     "slide_type": "slide"
    }
   },
   "outputs": [
    {
     "ename": "SyntaxError",
     "evalue": "invalid syntax (<ipython-input-3-09cc15dac1a1>, line 1)",
     "output_type": "error",
     "traceback": [
      "\u001b[0;36m  File \u001b[0;32m\"<ipython-input-3-09cc15dac1a1>\"\u001b[0;36m, line \u001b[0;32m1\u001b[0m\n\u001b[0;31m    apostrophe = 'You've written code'\u001b[0m\n\u001b[0m                       ^\u001b[0m\n\u001b[0;31mSyntaxError\u001b[0m\u001b[0;31m:\u001b[0m invalid syntax\n"
     ]
    }
   ],
   "source": [
    "apostrophe = 'You've written code'"
   ]
  },
  {
   "cell_type": "code",
   "execution_count": 5,
   "metadata": {
    "slideshow": {
     "slide_type": "fragment"
    }
   },
   "outputs": [
    {
     "data": {
      "text/plain": [
       "\"You've written code\""
      ]
     },
     "execution_count": 5,
     "metadata": {},
     "output_type": "execute_result"
    }
   ],
   "source": [
    "apostrophe = \"You've written code\"\n",
    "apostrophe"
   ]
  },
  {
   "cell_type": "code",
   "execution_count": 7,
   "metadata": {
    "slideshow": {
     "slide_type": "fragment"
    }
   },
   "outputs": [
    {
     "data": {
      "text/plain": [
       "\"You've written code\""
      ]
     },
     "execution_count": 7,
     "metadata": {},
     "output_type": "execute_result"
    }
   ],
   "source": [
    "escape = 'You\\'ve written code'\n",
    "escape"
   ]
  },
  {
   "cell_type": "markdown",
   "metadata": {
    "collapsed": true,
    "slideshow": {
     "slide_type": "slide"
    }
   },
   "source": [
    "<h1>Escape characters</h1>\n",
    "\n",
    "Character  | Displays\n",
    "----------|----------\n",
    "\\'        | Single quote\n",
    "\\\"        | Double quote\n",
    "\\t        | Tab \n",
    "\\n        | Newline (line break, return character)\n",
    "\\\\\\\\        | Backslash"
   ]
  },
  {
   "cell_type": "code",
   "execution_count": 11,
   "metadata": {
    "slideshow": {
     "slide_type": "slide"
    }
   },
   "outputs": [
    {
     "name": "stdout",
     "output_type": "stream",
     "text": [
      "Python\n",
      "Python3\n",
      "Python 3.6\n"
     ]
    }
   ],
   "source": [
    "print(\"Python\\nPython3\\nPython 3.6\")"
   ]
  },
  {
   "cell_type": "code",
   "execution_count": 13,
   "metadata": {
    "slideshow": {
     "slide_type": "slide"
    }
   },
   "outputs": [
    {
     "name": "stdout",
     "output_type": "stream",
     "text": [
      "You\\'re gonna be a great programmer!\n"
     ]
    }
   ],
   "source": [
    "print(r'You\\'re gonna be a great programmer!')"
   ]
  },
  {
   "cell_type": "code",
   "execution_count": 15,
   "metadata": {
    "slideshow": {
     "slide_type": "slide"
    }
   },
   "outputs": [
    {
     "name": "stdout",
     "output_type": "stream",
     "text": [
      "Multiline Strings!\n",
      "\n",
      "multiline strings will preserve\n",
      "    the nuances\n",
      "        including the newlines and indents and \n",
      "\n",
      "yes, you're still gonna be a great programmer!\n",
      "\n",
      "\n"
     ]
    }
   ],
   "source": [
    "print('''Multiline Strings!\n",
    "\n",
    "multiline strings will preserve\n",
    "    the nuances\n",
    "        including the newlines and indents and \n",
    "\n",
    "yes, you're still gonna be a great programmer!\n",
    "\n",
    "''')"
   ]
  },
  {
   "cell_type": "code",
   "execution_count": 17,
   "metadata": {
    "collapsed": true,
    "slideshow": {
     "slide_type": "slide"
    }
   },
   "outputs": [],
   "source": [
    "def getRandomNumber():\n",
    "    '''This function returns a random number\n",
    "    \n",
    "    chosen by fair dice roll\n",
    "    guaranteed to be random.\n",
    "    \n",
    "    hat tip to http://xkcd.com/221/'''\n",
    "    return 4"
   ]
  },
  {
   "cell_type": "code",
   "execution_count": 18,
   "metadata": {
    "slideshow": {
     "slide_type": "slide"
    }
   },
   "outputs": [
    {
     "name": "stdout",
     "output_type": "stream",
     "text": [
      "Help on function getRandomNumber in module __main__:\n",
      "\n",
      "getRandomNumber()\n",
      "    This function returns a random number\n",
      "    \n",
      "    chosen by fair dice roll\n",
      "    guaranteed to be random.\n",
      "    \n",
      "    hat tip to http://xkcd.com/221/\n",
      "\n"
     ]
    }
   ],
   "source": [
    "help(getRandomNumber)"
   ]
  },
  {
   "cell_type": "markdown",
   "metadata": {
    "slideshow": {
     "slide_type": "slide"
    }
   },
   "source": [
    "<h1>xkcd</h1>\n",
    "<img src='random_number.png'>\n",
    "\n",
    "Attribution http://xkcd.com/221/"
   ]
  },
  {
   "cell_type": "markdown",
   "metadata": {
    "collapsed": true,
    "slideshow": {
     "slide_type": "slide"
    }
   },
   "source": [
    "Indexes of the characters in a string:\n",
    "\n",
    "<font face=\"courier\">\n",
    "'P&nbsp;&nbsp;Y&nbsp;&nbsp;T&nbsp;&nbsp;H&nbsp;&nbsp;O&nbsp;&nbsp;N'<br> \n",
    "&nbsp;0&nbsp;&nbsp;1&nbsp;&nbsp;2&nbsp;&nbsp;3&nbsp;&nbsp;4&nbsp;&nbsp;5<br>\n",
    " </font>"
   ]
  },
  {
   "cell_type": "markdown",
   "metadata": {
    "slideshow": {
     "slide_type": "fragment"
    }
   },
   "source": [
    "Reverse indexes of the characters in a string:\n",
    "\n",
    "<font face=\"courier\">\n",
    "'P&nbsp;&nbsp;Y&nbsp;&nbsp;T&nbsp;&nbsp;H&nbsp;&nbsp;O&nbsp;&nbsp;N'</font><br> \n",
    "<font color='grey' face=\"courier\">&nbsp;0&nbsp;&nbsp;1&nbsp;&nbsp;2&nbsp;&nbsp;3&nbsp;&nbsp;4&nbsp;&nbsp;5<br>\n",
    " </font>\n",
    "\n",
    "<font face=\"courier\">\n",
    "-6&nbsp;-5&nbsp;-4&nbsp;-3&nbsp;-2&nbsp;-1\n",
    " </font>"
   ]
  },
  {
   "cell_type": "code",
   "execution_count": 2,
   "metadata": {
    "slideshow": {
     "slide_type": "slide"
    }
   },
   "outputs": [
    {
     "name": "stdout",
     "output_type": "stream",
     "text": [
      "P\n"
     ]
    }
   ],
   "source": [
    "phrase = 'Pyladies!'\n",
    "print(phrase[0])"
   ]
  },
  {
   "cell_type": "code",
   "execution_count": 3,
   "metadata": {
    "slideshow": {
     "slide_type": "fragment"
    }
   },
   "outputs": [
    {
     "name": "stdout",
     "output_type": "stream",
     "text": [
      "!\n"
     ]
    }
   ],
   "source": [
    "print(phrase[8])"
   ]
  },
  {
   "cell_type": "code",
   "execution_count": 4,
   "metadata": {
    "slideshow": {
     "slide_type": "fragment"
    }
   },
   "outputs": [
    {
     "name": "stdout",
     "output_type": "stream",
     "text": [
      "Py\n"
     ]
    }
   ],
   "source": [
    "print(phrase[0:2])"
   ]
  },
  {
   "cell_type": "code",
   "execution_count": 5,
   "metadata": {
    "slideshow": {
     "slide_type": "fragment"
    }
   },
   "outputs": [
    {
     "name": "stdout",
     "output_type": "stream",
     "text": [
      "!\n"
     ]
    }
   ],
   "source": [
    "print(phrase[-1])"
   ]
  },
  {
   "cell_type": "code",
   "execution_count": 6,
   "metadata": {
    "slideshow": {
     "slide_type": "fragment"
    }
   },
   "outputs": [
    {
     "name": "stdout",
     "output_type": "stream",
     "text": [
      "ladies\n"
     ]
    }
   ],
   "source": [
    "print(phrase[-7:-1])"
   ]
  },
  {
   "cell_type": "code",
   "execution_count": 8,
   "metadata": {
    "slideshow": {
     "slide_type": "fragment"
    }
   },
   "outputs": [
    {
     "name": "stdout",
     "output_type": "stream",
     "text": [
      "ladies!\n"
     ]
    }
   ],
   "source": [
    "print(phrase[-7:    ])"
   ]
  },
  {
   "cell_type": "code",
   "execution_count": 10,
   "metadata": {
    "slideshow": {
     "slide_type": "fragment"
    }
   },
   "outputs": [
    {
     "name": "stdout",
     "output_type": "stream",
     "text": [
      "Pyladies!\n",
      "new_phrase is: Pyladies!\n"
     ]
    }
   ],
   "source": [
    "print(phrase[:])\n",
    "\n",
    "new_phrase = phrase[:]\n",
    "print(\"new_phrase is:\", new_phrase)\n"
   ]
  },
  {
   "cell_type": "code",
   "execution_count": 13,
   "metadata": {
    "slideshow": {
     "slide_type": "slide"
    }
   },
   "outputs": [
    {
     "data": {
      "text/plain": [
       "True"
      ]
     },
     "execution_count": 13,
     "metadata": {},
     "output_type": "execute_result"
    }
   ],
   "source": [
    "'Py' in phrase"
   ]
  },
  {
   "cell_type": "code",
   "execution_count": 14,
   "metadata": {
    "slideshow": {
     "slide_type": "slide"
    }
   },
   "outputs": [
    {
     "data": {
      "text/plain": [
       "False"
      ]
     },
     "execution_count": 14,
     "metadata": {},
     "output_type": "execute_result"
    }
   ],
   "source": [
    "'py' in phrase"
   ]
  },
  {
   "cell_type": "code",
   "execution_count": 15,
   "metadata": {
    "slideshow": {
     "slide_type": "fragment"
    }
   },
   "outputs": [
    {
     "data": {
      "text/plain": [
       "True"
      ]
     },
     "execution_count": 15,
     "metadata": {},
     "output_type": "execute_result"
    }
   ],
   "source": [
    "'perl' not in phrase"
   ]
  },
  {
   "cell_type": "code",
   "execution_count": 16,
   "metadata": {
    "slideshow": {
     "slide_type": "fragment"
    }
   },
   "outputs": [
    {
     "data": {
      "text/plain": [
       "True"
      ]
     },
     "execution_count": 16,
     "metadata": {},
     "output_type": "execute_result"
    }
   ],
   "source": [
    "# DANGER WILL ROBINSON:\n",
    "\n",
    "'' in phrase"
   ]
  },
  {
   "cell_type": "markdown",
   "metadata": {
    "collapsed": true,
    "slideshow": {
     "slide_type": "slide"
    }
   },
   "source": [
    "<h1>String Methods</h1>"
   ]
  },
  {
   "cell_type": "code",
   "execution_count": 17,
   "metadata": {
    "slideshow": {
     "slide_type": "slide"
    }
   },
   "outputs": [
    {
     "data": {
      "text/plain": [
       "'Pyladies!'"
      ]
     },
     "execution_count": 17,
     "metadata": {},
     "output_type": "execute_result"
    }
   ],
   "source": [
    "phrase"
   ]
  },
  {
   "cell_type": "code",
   "execution_count": 18,
   "metadata": {
    "slideshow": {
     "slide_type": "fragment"
    }
   },
   "outputs": [
    {
     "data": {
      "text/plain": [
       "'PYLADIES!'"
      ]
     },
     "execution_count": 18,
     "metadata": {},
     "output_type": "execute_result"
    }
   ],
   "source": [
    "phrase.upper()"
   ]
  },
  {
   "cell_type": "code",
   "execution_count": 13,
   "metadata": {
    "slideshow": {
     "slide_type": "fragment"
    }
   },
   "outputs": [
    {
     "data": {
      "text/plain": [
       "'pyladies!'"
      ]
     },
     "execution_count": 13,
     "metadata": {},
     "output_type": "execute_result"
    }
   ],
   "source": [
    "phrase.lower()"
   ]
  },
  {
   "cell_type": "code",
   "execution_count": 14,
   "metadata": {
    "slideshow": {
     "slide_type": "slide"
    }
   },
   "outputs": [
    {
     "name": "stdout",
     "output_type": "stream",
     "text": [
      "Who is your favorite superhero?\n",
      "Selina Kyle\n",
      "I like Catwoman, too\n"
     ]
    }
   ],
   "source": [
    "print('Who is your favorite superhero?')\n",
    "choice = input()\n",
    "if choice.lower() == 'selina kyle':\n",
    "    print('I like Catwoman, too')\n",
    "else:\n",
    "    print(\"Catwoman is better\")"
   ]
  },
  {
   "cell_type": "code",
   "execution_count": 15,
   "metadata": {
    "slideshow": {
     "slide_type": "slide"
    }
   },
   "outputs": [
    {
     "data": {
      "text/plain": [
       "True"
      ]
     },
     "execution_count": 15,
     "metadata": {},
     "output_type": "execute_result"
    }
   ],
   "source": [
    "heroine = 'CATWOMAN'\n",
    "heroine.isupper()"
   ]
  },
  {
   "cell_type": "code",
   "execution_count": 16,
   "metadata": {
    "slideshow": {
     "slide_type": "fragment"
    }
   },
   "outputs": [
    {
     "data": {
      "text/plain": [
       "False"
      ]
     },
     "execution_count": 16,
     "metadata": {},
     "output_type": "execute_result"
    }
   ],
   "source": [
    "heroine.islower()"
   ]
  },
  {
   "cell_type": "code",
   "execution_count": 17,
   "metadata": {
    "slideshow": {
     "slide_type": "fragment"
    }
   },
   "outputs": [
    {
     "data": {
      "text/plain": [
       "True"
      ]
     },
     "execution_count": 17,
     "metadata": {},
     "output_type": "execute_result"
    }
   ],
   "source": [
    "'bullwhip'.islower()"
   ]
  },
  {
   "cell_type": "code",
   "execution_count": 18,
   "metadata": {
    "slideshow": {
     "slide_type": "fragment"
    }
   },
   "outputs": [
    {
     "data": {
      "text/plain": [
       "False"
      ]
     },
     "execution_count": 18,
     "metadata": {},
     "output_type": "execute_result"
    }
   ],
   "source": [
    "'42'.isupper()"
   ]
  },
  {
   "cell_type": "code",
   "execution_count": 10,
   "metadata": {
    "slideshow": {
     "slide_type": "fragment"
    }
   },
   "outputs": [
    {
     "data": {
      "text/plain": [
       "True"
      ]
     },
     "execution_count": 10,
     "metadata": {},
     "output_type": "execute_result"
    }
   ],
   "source": [
    "heroine.lower().islower()"
   ]
  },
  {
   "cell_type": "markdown",
   "metadata": {
    "collapsed": true,
    "slideshow": {
     "slide_type": "slide"
    }
   },
   "source": [
    "Method | Purpose\n",
    "-------|--------\n",
    ".isalpha()     | Verifies whether all the characters are alphabetic\n",
    ".isalnum()     | Verifies whether all the characters are alphabetic or numeric\n",
    ".isdecimal()     | Verifies whether all the characters are numbers *\n",
    ".isspace()     | Verifies whether all the characters are whitespace (\\t, \\n, ' ', etc)\n",
    ".istitle()     | Verifies whether the string is in 'Title Case'"
   ]
  },
  {
   "cell_type": "code",
   "execution_count": 19,
   "metadata": {
    "slideshow": {
     "slide_type": "slide"
    }
   },
   "outputs": [
    {
     "name": "stdout",
     "output_type": "stream",
     "text": [
      "Help on method_descriptor:\n",
      "\n",
      "isspace(...)\n",
      "    S.isspace() -> bool\n",
      "    \n",
      "    Return True if all characters in S are whitespace\n",
      "    and there is at least one character in S, False otherwise.\n",
      "\n"
     ]
    }
   ],
   "source": [
    "# str is the base class (i.e. blueprint)\n",
    "\n",
    "help(str.isspace)\n",
    "\n",
    "\n",
    "str.isspace?"
   ]
  },
  {
   "cell_type": "code",
   "execution_count": 17,
   "metadata": {
    "slideshow": {
     "slide_type": "slide"
    }
   },
   "outputs": [
    {
     "name": "stdout",
     "output_type": "stream",
     "text": [
      "Help on built-in function isspace:\n",
      "\n",
      "isspace(...) method of builtins.str instance\n",
      "    S.isspace() -> bool\n",
      "    \n",
      "    Return True if all characters in S are whitespace\n",
      "    and there is at least one character in S, False otherwise.\n",
      "\n"
     ]
    }
   ],
   "source": [
    "# any str object will have the same methods\n",
    "\n",
    "help(heroine.isspace)"
   ]
  },
  {
   "cell_type": "code",
   "execution_count": 20,
   "metadata": {
    "slideshow": {
     "slide_type": "slide"
    }
   },
   "outputs": [
    {
     "name": "stdout",
     "output_type": "stream",
     "text": [
      "How many burglaries did you commit this week?\n",
      "a\n",
      "That was not a number, please input a number\n",
      "\n",
      "How many burglaries did you commit this week?\n",
      "42\n"
     ]
    }
   ],
   "source": [
    "while True:\n",
    "    print('How many burglaries did you commit this week?')\n",
    "    num_burglaries = input()\n",
    "    if num_burglaries.isdecimal():\n",
    "        break\n",
    "    print('That was not a number, please input a number\\n')\n",
    "        "
   ]
  },
  {
   "cell_type": "markdown",
   "metadata": {
    "collapsed": true,
    "slideshow": {
     "slide_type": "slide"
    }
   },
   "source": [
    "Method | Purpose\n",
    "------------------|--------\n",
    ".startswith()     | Verifies whether the string STARTS with a substring\n",
    ".endswith()     | Verifies whether string ENDS with a substring\n",
    ".join()     | Combine all the elements of a sequence (like a list) using the string\n",
    ".split()     | Separate the string into substrings by splitting on a given string"
   ]
  },
  {
   "cell_type": "markdown",
   "metadata": {
    "collapsed": true,
    "slideshow": {
     "slide_type": "subslide"
    }
   },
   "source": [
    "Method | Purpose\n",
    "-------|--------\n",
    ".rjust()     | Right justify the string in a field of given width\n",
    ".ljust()     | Left justify the string in a field of given width\n",
    ".center()     | Center the string in a field of given width"
   ]
  },
  {
   "cell_type": "markdown",
   "metadata": {
    "collapsed": true,
    "slideshow": {
     "slide_type": "subslide"
    }
   },
   "source": [
    "Method | Purpose\n",
    "-------|--------\n",
    ".strip()     | Remove all the given characters from the string (on both ends)\n",
    ".rstrip()     | Remove all the given characters from the right end of the string \n",
    ".lstrip()     | Remove all the given characters from the left end of the string"
   ]
  },
  {
   "cell_type": "markdown",
   "metadata": {
    "collapsed": true,
    "slideshow": {
     "slide_type": "slide"
    }
   },
   "source": [
    "# String Formatting\n",
    "\n",
    "Method | Purpose\n",
    "-------|--------\n",
    ".format()     | return a formatted version of a string"
   ]
  },
  {
   "cell_type": "code",
   "execution_count": 23,
   "metadata": {
    "slideshow": {
     "slide_type": "slide"
    }
   },
   "outputs": [
    {
     "name": "stdout",
     "output_type": "stream",
     "text": [
      "Help on method_descriptor:\n",
      "\n",
      "format(...)\n",
      "    S.format(*args, **kwargs) -> str\n",
      "    \n",
      "    Return a formatted version of S, using substitutions from args and kwargs.\n",
      "    The substitutions are identified by braces ('{' and '}').\n",
      "\n"
     ]
    }
   ],
   "source": [
    "help(str.format)"
   ]
  },
  {
   "cell_type": "code",
   "execution_count": 32,
   "metadata": {
    "slideshow": {
     "slide_type": "slide"
    }
   },
   "outputs": [
    {
     "name": "stdout",
     "output_type": "stream",
     "text": [
      "Catwoman is a complex character with many plot lines. Several women have\n",
      "used the name Catwoman, including: Selina Kyle, Holly Robinson, and Eiko Hasigawa.\n",
      "\n"
     ]
    }
   ],
   "source": [
    "boilerplate = '''Catwoman is a complex character with many plot lines. Several women have\n",
    "used the name Catwoman, including: {}, {}, and {}.\n",
    "'''.format('Selina Kyle', 'Holly Robinson', 'Eiko Hasigawa')\n",
    "\n",
    "print(boilerplate)"
   ]
  },
  {
   "cell_type": "code",
   "execution_count": 33,
   "metadata": {
    "slideshow": {
     "slide_type": "slide"
    }
   },
   "outputs": [
    {
     "name": "stdout",
     "output_type": "stream",
     "text": [
      "first last\n"
     ]
    }
   ],
   "source": [
    "positionals = '{1} {0}'.format('last', 'first')\n",
    "\n",
    "print(positionals)"
   ]
  },
  {
   "cell_type": "code",
   "execution_count": 34,
   "metadata": {
    "slideshow": {
     "slide_type": "slide"
    }
   },
   "outputs": [
    {
     "name": "stdout",
     "output_type": "stream",
     "text": [
      "In a battle of the superheroes between Catwoman and Batman,\n",
      "in this round, Catwoman clearly came out on top, getting away with \n",
      "the jewels. Catwoman snuck away in the dark of night.\n"
     ]
    }
   ],
   "source": [
    "headline = '''In a battle of the superheroes between {0} and {1},\n",
    "in this round, {0} clearly came out on top, getting away with \n",
    "the jewels. {0} snuck away in the dark of night.'''.format('Catwoman', 'Batman')\n",
    "\n",
    "print(headline)"
   ]
  },
  {
   "cell_type": "code",
   "execution_count": 47,
   "metadata": {
    "slideshow": {
     "slide_type": "slide"
    }
   },
   "outputs": [
    {
     "name": "stdout",
     "output_type": "stream",
     "text": [
      "Selina              \n",
      "Selina              \n",
      "               Holly\n",
      "        Eiko        \n"
     ]
    }
   ],
   "source": [
    "# Alignment\n",
    "\n",
    "left_align = '{:20}'.format('Selina')\n",
    "print(left_align)\n",
    "\n",
    "left_align = '{:<20}'.format('Selina')\n",
    "print(left_align)\n",
    "\n",
    "right_align = '{:>20}'.format('Holly')\n",
    "print(right_align)\n",
    "\n",
    "center_align = '{:^20}'.format('Eiko')\n",
    "print(center_align)"
   ]
  },
  {
   "cell_type": "code",
   "execution_count": 43,
   "metadata": {
    "slideshow": {
     "slide_type": "slide"
    }
   },
   "outputs": [
    {
     "name": "stdout",
     "output_type": "stream",
     "text": [
      "Selina**************\n",
      "________________Kyle\n"
     ]
    }
   ],
   "source": [
    "# Padding\n",
    "\n",
    "left_pad = '{:*<20}'.format('Selina')\n",
    "print(left_pad)\n",
    "\n",
    "right_pad = '{:_>20}'.format('Kyle')\n",
    "print(right_pad)"
   ]
  },
  {
   "cell_type": "code",
   "execution_count": 57,
   "metadata": {
    "slideshow": {
     "slide_type": "slide"
    }
   },
   "outputs": [
    {
     "name": "stdout",
     "output_type": "stream",
     "text": [
      "Selina\n",
      "--------------Selina\n"
     ]
    }
   ],
   "source": [
    "# Truncation\n",
    "\n",
    "trunc = '{:.6}'.format('Selina Kyle')\n",
    "print(trunc)\n",
    "\n",
    "# Combining them all together\n",
    "\n",
    "trunc_pad = '{:->20.6}'.format('Selina Kyle')\n",
    "print(trunc_pad)"
   ]
  },
  {
   "cell_type": "code",
   "execution_count": 84,
   "metadata": {
    "slideshow": {
     "slide_type": "slide"
    }
   },
   "outputs": [
    {
     "name": "stdout",
     "output_type": "stream",
     "text": [
      "42\n",
      "2.710000\n",
      "                  42\n",
      "  2.72\n",
      "+42\n",
      "-42\n"
     ]
    }
   ],
   "source": [
    "# Numbers\n",
    "\n",
    "print('{:d}'.format(42))\n",
    "\n",
    "print('{:f}'.format(2.71))\n",
    "\n",
    "print('{:20d}'.format(42))\n",
    "\n",
    "print('{:6.2f}'.format(2.718281828459045))\n",
    "\n",
    "print('{:+d}'.format(42))\n",
    "\n",
    "print('{:d}'.format(-42))"
   ]
  },
  {
   "cell_type": "code",
   "execution_count": 86,
   "metadata": {
    "slideshow": {
     "slide_type": "slide"
    }
   },
   "outputs": [
    {
     "name": "stdout",
     "output_type": "stream",
     "text": [
      "Selina Kyle\n"
     ]
    }
   ],
   "source": [
    "# Named Placeholders\n",
    "\n",
    "name = '{first} {last}'.format(first='Selina', last='Kyle')\n",
    "\n",
    "print(name)"
   ]
  },
  {
   "cell_type": "markdown",
   "metadata": {
    "slideshow": {
     "slide_type": "slide"
    }
   },
   "source": [
    "# want to learn more?\n",
    "\n",
    "https://pyformat.info"
   ]
  }
 ],
 "metadata": {
  "anaconda-cloud": {},
  "celltoolbar": "Slideshow",
  "kernelspec": {
   "display_name": "Python 3",
   "language": "python",
   "name": "python3"
  },
  "language_info": {
   "codemirror_mode": {
    "name": "ipython",
    "version": 3
   },
   "file_extension": ".py",
   "mimetype": "text/x-python",
   "name": "python",
   "nbconvert_exporter": "python",
   "pygments_lexer": "ipython3",
   "version": "3.6.1"
  }
 },
 "nbformat": 4,
 "nbformat_minor": 1
}
