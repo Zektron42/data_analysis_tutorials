{
 "cells": [
  {
   "cell_type": "markdown",
   "metadata": {
    "slideshow": {
     "slide_type": "slide"
    }
   },
   "source": [
    "# Welcome to the Dark Art of Coding:\n",
    "## Introduction to Python\n",
    "Strings\n",
    "\n",
    "<img src='../images/dark_art_logo.600px.png' width='300' style=\"float:right\">"
   ]
  },
  {
   "cell_type": "markdown",
   "metadata": {
    "slideshow": {
     "slide_type": "slide"
    }
   },
   "source": [
    "# Objectives\n",
    "---"
   ]
  },
  {
   "cell_type": "markdown",
   "metadata": {
    "slideshow": {
     "slide_type": "slide"
    }
   },
   "source": [
    "In this session, students should expect to:\n",
    "\n",
    "* Learn to create strings\n",
    "* Learn to perform basic manipulations on strings...\n",
    "* Explore basic string manipulations\n",
    "* Explore us string methods\n"
   ]
  },
  {
   "cell_type": "markdown",
   "metadata": {
    "slideshow": {
     "slide_type": "slide"
    }
   },
   "source": [
    "<h1>What is a string?</h1>\n",
    "<img src='pearl_necklace.jpg'>\n",
    "\n",
    "Photo by <a href=\"https://www.flickr.com/photos/tiararama/3530304167\">tiarama</a><br>\n",
    "Attribution http://creativecommons.org/licenses/by-nd/4.0/\n"
   ]
  },
  {
   "cell_type": "markdown",
   "metadata": {
    "slideshow": {
     "slide_type": "slide"
    }
   },
   "source": [
    "# Strings\n",
    "---"
   ]
  },
  {
   "cell_type": "code",
   "execution_count": null,
   "metadata": {
    "slideshow": {
     "slide_type": "slide"
    }
   },
   "outputs": [],
   "source": [
    "# Using single quotes\n",
    "\n",
    "phrase = 'python rocks'\n",
    "print(phrase)           # print() displays the value on the \"screen\" and\n",
    "                        #     and will not display the quotes\n",
    "phrase                  # in Jupyter/IPython, leaving off the print() function\n",
    "                        #     simply evaluates the variable and displays it as\n",
    "                        #     a string, with quotes "
   ]
  },
  {
   "cell_type": "code",
   "execution_count": null,
   "metadata": {
    "slideshow": {
     "slide_type": "slide"
    }
   },
   "outputs": [],
   "source": [
    "# Using double quotes is also fine (but physically harder to type)\n",
    "\n",
    "phrase = \"python rocks\"\n",
    "           \n",
    "phrase                  "
   ]
  },
  {
   "cell_type": "code",
   "execution_count": null,
   "metadata": {
    "slideshow": {
     "slide_type": "slide"
    }
   },
   "outputs": [],
   "source": [
    "# Watch out if mixing apostrophes and single quotes\n",
    "\n",
    "apostrophe = 'You've written code'"
   ]
  },
  {
   "cell_type": "code",
   "execution_count": null,
   "metadata": {
    "slideshow": {
     "slide_type": "fragment"
    }
   },
   "outputs": [],
   "source": [
    "# Using double quotes to encapsulate the single quote\n",
    "#     solves this problem\n",
    "\n",
    "apostrophe = \"You've written code\"\n",
    "apostrophe"
   ]
  },
  {
   "cell_type": "code",
   "execution_count": null,
   "metadata": {
    "slideshow": {
     "slide_type": "fragment"
    }
   },
   "outputs": [],
   "source": [
    "# Using a backwards slash to \"escape\" the apostrophe also works\n",
    "\n",
    "escape = 'You\\'ve written code'\n",
    "escape"
   ]
  },
  {
   "cell_type": "markdown",
   "metadata": {},
   "source": [
    "# Escape characters\n",
    "---"
   ]
  },
  {
   "cell_type": "markdown",
   "metadata": {
    "collapsed": true,
    "slideshow": {
     "slide_type": "slide"
    }
   },
   "source": [
    "Character  | Displays\n",
    "----------|----------\n",
    "\\'        | Single quote\n",
    "\\\"        | Double quote\n",
    "\\t        | Tab \n",
    "\\n        | Newline (line break, return character)\n",
    "\\\\\\\\        | Backslash"
   ]
  },
  {
   "cell_type": "code",
   "execution_count": null,
   "metadata": {
    "slideshow": {
     "slide_type": "slide"
    }
   },
   "outputs": [],
   "source": [
    "# Printing using a newline escape character\n",
    "#     enables you to put content on separate lines\n",
    "\n",
    "print(\"Python\\nPython 3\\nPython 3.6\")"
   ]
  },
  {
   "cell_type": "code",
   "execution_count": null,
   "metadata": {
    "slideshow": {
     "slide_type": "slide"
    }
   },
   "outputs": [],
   "source": [
    "# Raw strings let you preserve a string \"as is\"\n",
    "#    escape slashes and all\n",
    "\n",
    "print(r'You\\'re gonna be a great programmer!')"
   ]
  },
  {
   "cell_type": "markdown",
   "metadata": {},
   "source": [
    "# Multiline strings\n",
    "---"
   ]
  },
  {
   "cell_type": "code",
   "execution_count": null,
   "metadata": {
    "slideshow": {
     "slide_type": "slide"
    }
   },
   "outputs": [],
   "source": [
    "# Multiline strings: using triple quotes (' OR \")\n",
    "#     preserve natural newlines and leading spaces, etc.\n",
    "\n",
    "print('''Multiline Strings!\n",
    "\n",
    "multiline strings will preserve\n",
    "    the nuances\n",
    "        including the newlines and leading spaces and \n",
    "\n",
    "yes, you're still gonna be a great programmer!\n",
    "\n",
    "''')"
   ]
  },
  {
   "cell_type": "code",
   "execution_count": null,
   "metadata": {
    "collapsed": true,
    "slideshow": {
     "slide_type": "slide"
    }
   },
   "outputs": [],
   "source": [
    "# One great place to use multiline quotes is as the \n",
    "#     first string in a function. This string is\n",
    "#     automatically used by Python as the documentation\n",
    "#     or Docstring for your function.\n",
    "\n",
    "def getRandomNumber():\n",
    "    '''This function returns a random number\n",
    "    \n",
    "    chosen by fair dice roll.\n",
    "    guaranteed to be random.\n",
    "    \n",
    "    hat tip to http://xkcd.com/221/'''\n",
    "    return 4"
   ]
  },
  {
   "cell_type": "code",
   "execution_count": null,
   "metadata": {
    "slideshow": {
     "slide_type": "slide"
    }
   },
   "outputs": [],
   "source": [
    "help(getRandomNumber)"
   ]
  },
  {
   "cell_type": "markdown",
   "metadata": {
    "slideshow": {
     "slide_type": "slide"
    }
   },
   "source": [
    "## xkcd\n",
    "<img src='random_number.png'>\n",
    "\n",
    "Attribution http://xkcd.com/221/"
   ]
  },
  {
   "cell_type": "markdown",
   "metadata": {},
   "source": [
    "# Indexing and slicing\n",
    "---"
   ]
  },
  {
   "cell_type": "markdown",
   "metadata": {},
   "source": [
    "## Indexing"
   ]
  },
  {
   "cell_type": "markdown",
   "metadata": {},
   "source": [
    "Each character in a string has an index:\n",
    "Indexes start at zero (0)\n",
    "\n",
    "```Python\n",
    "language = 'P  Y  T  H  O  N'\n",
    "            0  1  2  3  4  5\n",
    "```"
   ]
  },
  {
   "cell_type": "markdown",
   "metadata": {},
   "source": [
    "Indexes also exist counting backwards from the end:\n",
    "NOTE: reverse indexing starts counting at -1.\n",
    "\n",
    "\n",
    "```Python\n",
    "language = 'P  Y  T  H  O  N'\n",
    "            0  1  2  3  4  5\n",
    "           -6 -5 -4 -3 -2 -1 \n",
    "```"
   ]
  },
  {
   "cell_type": "code",
   "execution_count": null,
   "metadata": {
    "slideshow": {
     "slide_type": "slide"
    }
   },
   "outputs": [],
   "source": [
    "# To reference a specific character in a string, you\n",
    "#     simply use bracket notation and the index\n",
    "#     of the character you are interested in.\n",
    "\n",
    "phrase = 'Pyladies!'\n",
    "print(phrase[0])"
   ]
  },
  {
   "cell_type": "code",
   "execution_count": null,
   "metadata": {
    "slideshow": {
     "slide_type": "fragment"
    }
   },
   "outputs": [],
   "source": [
    "print(phrase[8])"
   ]
  },
  {
   "cell_type": "code",
   "execution_count": null,
   "metadata": {
    "slideshow": {
     "slide_type": "fragment"
    }
   },
   "outputs": [],
   "source": [
    "print(phrase[-1])"
   ]
  },
  {
   "cell_type": "markdown",
   "metadata": {},
   "source": [
    "## Slicing"
   ]
  },
  {
   "cell_type": "code",
   "execution_count": null,
   "metadata": {
    "slideshow": {
     "slide_type": "fragment"
    }
   },
   "outputs": [],
   "source": [
    "# To reference more than one character, you \n",
    "#     use the same bracketed notation and the\n",
    "#     * starting index\n",
    "#     * ending index\n",
    "# WARNING: Python, slices up to, but NOT including the\n",
    "#          last index.\n",
    "\n",
    "print(phrase[0:2])"
   ]
  },
  {
   "cell_type": "markdown",
   "metadata": {},
   "source": [
    "Why **zero indexing**?\n",
    "\n",
    "Why the principle of **'up to but not including'**?\n",
    "\n",
    "[See the note by Djikstra](https://www.cs.utexas.edu/users/EWD/ewd08xx/EWD831.PDF)    "
   ]
  },
  {
   "cell_type": "code",
   "execution_count": null,
   "metadata": {
    "slideshow": {
     "slide_type": "fragment"
    }
   },
   "outputs": [],
   "source": [
    "print(phrase[-7:-1])"
   ]
  },
  {
   "cell_type": "code",
   "execution_count": null,
   "metadata": {
    "slideshow": {
     "slide_type": "fragment"
    }
   },
   "outputs": [],
   "source": [
    "# Leaving the index on either side of the colon blank\n",
    "#     defaults to going all the way to AND including the end\n",
    "#     character.\n",
    "\n",
    "print(phrase[-7:])\n",
    "print(phrase[:])\n"
   ]
  },
  {
   "cell_type": "code",
   "execution_count": null,
   "metadata": {
    "slideshow": {
     "slide_type": "fragment"
    }
   },
   "outputs": [],
   "source": [
    "# This shortcut is a common way used to create copies...\n",
    "\n",
    "new_phrase = phrase[:]\n",
    "print(\"new_phrase is:\", new_phrase)\n"
   ]
  },
  {
   "cell_type": "markdown",
   "metadata": {},
   "source": [
    "# `in` as a logical operator\n",
    "---"
   ]
  },
  {
   "cell_type": "code",
   "execution_count": null,
   "metadata": {
    "slideshow": {
     "slide_type": "slide"
    }
   },
   "outputs": [],
   "source": [
    "# `in` allows you to test a string to see if a \n",
    "#      substring is present anywhere in the string\n",
    "\n",
    "'Py' in phrase"
   ]
  },
  {
   "cell_type": "code",
   "execution_count": null,
   "metadata": {
    "slideshow": {
     "slide_type": "slide"
    }
   },
   "outputs": [],
   "source": [
    "# The `in` test is case-sensitive\n",
    "\n",
    "'py' in phrase"
   ]
  },
  {
   "cell_type": "code",
   "execution_count": null,
   "metadata": {
    "slideshow": {
     "slide_type": "fragment"
    }
   },
   "outputs": [],
   "source": [
    "'Fortran' not in phrase"
   ]
  },
  {
   "cell_type": "code",
   "execution_count": null,
   "metadata": {
    "slideshow": {
     "slide_type": "fragment"
    }
   },
   "outputs": [],
   "source": [
    "# DANGER WILL ROBINSON:\n",
    "# WARNING: the empty string `''` is always \n",
    "#          considered to be present in a string\n",
    "\n",
    "\n",
    "'' in phrase"
   ]
  },
  {
   "cell_type": "markdown",
   "metadata": {
    "collapsed": true,
    "slideshow": {
     "slide_type": "slide"
    }
   },
   "source": [
    "# Object Methods\n",
    "## >>> particularly string methods\n",
    "---"
   ]
  },
  {
   "cell_type": "code",
   "execution_count": null,
   "metadata": {
    "slideshow": {
     "slide_type": "slide"
    }
   },
   "outputs": [],
   "source": [
    "# Every string in Python is also an object\n",
    "\n",
    "phrase"
   ]
  },
  {
   "cell_type": "markdown",
   "metadata": {},
   "source": [
    "Objects in Python are associated with a programming paradigm called \"Object Oriented Programming\"\n",
    "\n",
    "Each object has attributes and behaviors associated with it, even if it is not inherently obvious at first.\n",
    "\n",
    "Behaviours are often also called methods (or functions).\n",
    "\n",
    "Strings are no exception.\n",
    "\n",
    "Attributes and behaviours are accessed via dot.notation:\n",
    "\n",
    "```python\n",
    "phrase.some_attribute\n",
    "phrase.some_behaviour()```\n",
    "\n",
    "Attributes are accessed using the `name_of_the_object.name_of_the_attribute`\n",
    "\n",
    "Behaviours are accessed similarly, but because they are methods/functions, they need to be **called** by using the parenthesis.\n",
    "\n",
    "**All** functions/methods are called using parenthesis."
   ]
  },
  {
   "cell_type": "code",
   "execution_count": null,
   "metadata": {
    "slideshow": {
     "slide_type": "fragment"
    }
   },
   "outputs": [],
   "source": [
    "# Strings in Python come with behaviors such as the \n",
    "#     .upper() method which makes a copy of the string\n",
    "#     and converts it to uppercase.\n",
    "\n",
    "phrase.upper()"
   ]
  },
  {
   "cell_type": "code",
   "execution_count": null,
   "metadata": {
    "slideshow": {
     "slide_type": "fragment"
    }
   },
   "outputs": [],
   "source": [
    "# Strings in Python come with behaviors such as the \n",
    "#     .lower() method which makes a copy of the string\n",
    "#     and converts it to lowercase.\n",
    "\n",
    "phrase.lower()"
   ]
  },
  {
   "cell_type": "markdown",
   "metadata": {},
   "source": [
    "Generically referencing strings:\n",
    "\n",
    "The generic version of a string is called `str` so it is common to see string methods prefixed by str:\n",
    "\n",
    "```python\n",
    "str.upper()\n",
    "str.lower()\n",
    "```\n"
   ]
  },
  {
   "cell_type": "code",
   "execution_count": null,
   "metadata": {
    "slideshow": {
     "slide_type": "slide"
    }
   },
   "outputs": [],
   "source": [
    "# One very common place where str.upper() or str.lower() is used is\n",
    "#     in normalizing inputs for easy comparison\n",
    "#     In the following example, you don't know if your\n",
    "#     User will input with all CAPS, all lower, or MiXeD CaSe...\n",
    "\n",
    "\n",
    "choice = input('Who is your favorite superhero? ')\n",
    "if choice.lower() == 'selina kyle':\n",
    "    print('I like Catwoman, too')\n",
    "else:\n",
    "    print(\"Catwoman is better!\")"
   ]
  },
  {
   "cell_type": "code",
   "execution_count": null,
   "metadata": {
    "slideshow": {
     "slide_type": "slide"
    }
   },
   "outputs": [],
   "source": [
    "# There are methods to test for characteristics:\n",
    "# These type of methods almost always start with\n",
    "#     \"is\" >> isupper(), islower()\n",
    "\n",
    "\n",
    "heroine = 'CATWOMAN'\n",
    "heroine.isupper()"
   ]
  },
  {
   "cell_type": "code",
   "execution_count": null,
   "metadata": {
    "slideshow": {
     "slide_type": "fragment"
    }
   },
   "outputs": [],
   "source": [
    "heroine.islower()"
   ]
  },
  {
   "cell_type": "markdown",
   "metadata": {
    "collapsed": true,
    "slideshow": {
     "slide_type": "slide"
    }
   },
   "source": [
    "Method | Purpose\n",
    "-------|--------\n",
    ".isalpha()     | Verifies whether ALL the characters are alphabetic\n",
    ".isalnum()     | Verifies whether ALL the characters are alphabetic or numeric\n",
    ".isdecimal()     | Verifies whether ALL the characters are numerical\n",
    ".isspace()     | Verifies whether ALL the characters are whitespace (\\t, \\n, ' ', etc)\n",
    ".istitle()     | Verifies whether the string is in 'Title Case'"
   ]
  },
  {
   "cell_type": "code",
   "execution_count": null,
   "metadata": {
    "slideshow": {
     "slide_type": "fragment"
    }
   },
   "outputs": [],
   "source": [
    "# NOTE: even strings that have not been assigned a label\n",
    "#       have the same methods and attributes associated with\n",
    "#       them.\n",
    "\n",
    "'bullwhip'.islower()"
   ]
  },
  {
   "cell_type": "code",
   "execution_count": null,
   "metadata": {
    "slideshow": {
     "slide_type": "fragment"
    }
   },
   "outputs": [],
   "source": [
    "# NOTE: numerical characters in a string do not have a sense\n",
    "#       of upper or lowercase.\n",
    "\n",
    "'42'.isupper()"
   ]
  },
  {
   "cell_type": "code",
   "execution_count": null,
   "metadata": {
    "slideshow": {
     "slide_type": "fragment"
    }
   },
   "outputs": [],
   "source": [
    "# Method chaining... \n",
    "# is allowed AND is very Pythonic.\n",
    "\n",
    "\n",
    "heroine.lower().islower()"
   ]
  },
  {
   "cell_type": "code",
   "execution_count": null,
   "metadata": {
    "slideshow": {
     "slide_type": "slide"
    }
   },
   "outputs": [],
   "source": [
    "# As noted above, str is the base class (i.e. blueprint) for \n",
    "#     all string objects.\n",
    "\n",
    "help(str.isspace)\n",
    "\n",
    "\n",
    "str.isspace?"
   ]
  },
  {
   "cell_type": "code",
   "execution_count": null,
   "metadata": {
    "slideshow": {
     "slide_type": "slide"
    }
   },
   "outputs": [],
   "source": [
    "# any str object will have the same methods\n",
    "\n",
    "help(heroine.isspace)"
   ]
  },
  {
   "cell_type": "code",
   "execution_count": 1,
   "metadata": {
    "slideshow": {
     "slide_type": "slide"
    }
   },
   "outputs": [
    {
     "name": "stdout",
     "output_type": "stream",
     "text": [
      "How many cat burglaries did you commit this week? a\n",
      "That was not a number, please input a number\n",
      "\n",
      "How many cat burglaries did you commit this week? b\n",
      "That was not a number, please input a number\n",
      "\n",
      "How many cat burglaries did you commit this week? 3\n"
     ]
    }
   ],
   "source": [
    "while True:\n",
    "    num_burglaries = input('How many cat burglaries did you commit this week? ')\n",
    "    if num_burglaries.isdecimal():\n",
    "        break\n",
    "    print('That was not a number, please input a number\\n')\n",
    "        "
   ]
  },
  {
   "cell_type": "markdown",
   "metadata": {
    "collapsed": true,
    "slideshow": {
     "slide_type": "slide"
    }
   },
   "source": [
    "Method | Purpose\n",
    "------------------|--------\n",
    ".startswith()     | Verifies whether the string STARTS with a substring\n",
    ".endswith()     | Verifies whether string ENDS with a substring\n",
    ".join()     | Combine all the elements of a sequence (like a list) using the string\n",
    ".split()     | Separate the string into substrings by splitting on a given string"
   ]
  },
  {
   "cell_type": "markdown",
   "metadata": {
    "collapsed": true,
    "slideshow": {
     "slide_type": "subslide"
    }
   },
   "source": [
    "Method | Purpose\n",
    "-------|--------\n",
    ".rjust()     | Right justify the string in a field of given width\n",
    ".ljust()     | Left justify the string in a field of given width\n",
    ".center()     | Center the string in a field of given width"
   ]
  },
  {
   "cell_type": "markdown",
   "metadata": {
    "collapsed": true,
    "slideshow": {
     "slide_type": "subslide"
    }
   },
   "source": [
    "Method | Purpose\n",
    "-------|--------\n",
    ".strip()     | Remove all the given characters from the string (on both ends)\n",
    ".rstrip()     | Remove all the given characters from the right end of the string \n",
    ".lstrip()     | Remove all the given characters from the left end of the string"
   ]
  },
  {
   "cell_type": "markdown",
   "metadata": {
    "collapsed": true,
    "slideshow": {
     "slide_type": "slide"
    }
   },
   "source": [
    "# String Formatting\n",
    "\n",
    "Method | Purpose\n",
    "-------|--------\n",
    ".format()     | return a formatted version of a string"
   ]
  },
  {
   "cell_type": "code",
   "execution_count": null,
   "metadata": {
    "slideshow": {
     "slide_type": "slide"
    }
   },
   "outputs": [],
   "source": [
    "help(str.format)"
   ]
  },
  {
   "cell_type": "code",
   "execution_count": null,
   "metadata": {
    "slideshow": {
     "slide_type": "slide"
    }
   },
   "outputs": [],
   "source": [
    "boilerplate = '''Catwoman is a complex character with many plot lines. Several women have\n",
    "used the name Catwoman, including: {}, {}, and {}.\n",
    "'''.format('Selina Kyle', 'Holly Robinson', 'Eiko Hasigawa')\n",
    "\n",
    "print(boilerplate)"
   ]
  },
  {
   "cell_type": "code",
   "execution_count": null,
   "metadata": {
    "slideshow": {
     "slide_type": "slide"
    }
   },
   "outputs": [],
   "source": [
    "positionals = '{1} {0}'.format('last', 'first')\n",
    "\n",
    "print(positionals)"
   ]
  },
  {
   "cell_type": "code",
   "execution_count": null,
   "metadata": {
    "slideshow": {
     "slide_type": "slide"
    }
   },
   "outputs": [],
   "source": [
    "headline = '''In a battle of the superheroes between {0} and {1},\n",
    "in this round, {0} clearly came out on top, getting away with \n",
    "the jewels. {0} snuck away in the dark of night.'''.format('Catwoman', 'Batman')\n",
    "\n",
    "print(headline)"
   ]
  },
  {
   "cell_type": "code",
   "execution_count": null,
   "metadata": {
    "slideshow": {
     "slide_type": "slide"
    }
   },
   "outputs": [],
   "source": [
    "# Alignment\n",
    "\n",
    "left_align = '{:20}'.format('Selina')\n",
    "print(left_align)\n",
    "\n",
    "left_align = '{:<20}'.format('Selina')\n",
    "print(left_align)\n",
    "\n",
    "right_align = '{:>20}'.format('Holly')\n",
    "print(right_align)\n",
    "\n",
    "center_align = '{:^20}'.format('Eiko')\n",
    "print(center_align)"
   ]
  },
  {
   "cell_type": "code",
   "execution_count": null,
   "metadata": {
    "slideshow": {
     "slide_type": "slide"
    }
   },
   "outputs": [],
   "source": [
    "# Padding\n",
    "\n",
    "left_pad = '{:*<20}'.format('Selina')\n",
    "print(left_pad)\n",
    "\n",
    "right_pad = '{:_>20}'.format('Kyle')\n",
    "print(right_pad)"
   ]
  },
  {
   "cell_type": "code",
   "execution_count": null,
   "metadata": {
    "slideshow": {
     "slide_type": "slide"
    }
   },
   "outputs": [],
   "source": [
    "# Truncation\n",
    "\n",
    "trunc = '{:.6}'.format('Selina Kyle')\n",
    "print(trunc)\n",
    "\n",
    "# Combining them all together\n",
    "\n",
    "trunc_pad = '{:->20.6}'.format('Selina Kyle')\n",
    "print(trunc_pad)"
   ]
  },
  {
   "cell_type": "code",
   "execution_count": null,
   "metadata": {
    "slideshow": {
     "slide_type": "slide"
    }
   },
   "outputs": [],
   "source": [
    "# Numbers\n",
    "\n",
    "print('{:d}'.format(42))\n",
    "\n",
    "print('{:f}'.format(2.71))\n",
    "\n",
    "print('{:20d}'.format(42))\n",
    "\n",
    "print('{:6.2f}'.format(2.718281828459045))\n",
    "\n",
    "print('{:+d}'.format(42))\n",
    "\n",
    "print('{:d}'.format(-42))"
   ]
  },
  {
   "cell_type": "code",
   "execution_count": null,
   "metadata": {
    "slideshow": {
     "slide_type": "slide"
    }
   },
   "outputs": [],
   "source": [
    "# Named Placeholders\n",
    "\n",
    "name = '{first} {last}'.format(first='Selina', last='Kyle')\n",
    "\n",
    "print(name)"
   ]
  },
  {
   "cell_type": "markdown",
   "metadata": {
    "slideshow": {
     "slide_type": "slide"
    }
   },
   "source": [
    "# want to learn more?\n",
    "\n",
    "https://pyformat.info"
   ]
  }
 ],
 "metadata": {
  "anaconda-cloud": {},
  "celltoolbar": "Slideshow",
  "kernelspec": {
   "display_name": "Python 3",
   "language": "python",
   "name": "python3"
  },
  "language_info": {
   "codemirror_mode": {
    "name": "ipython",
    "version": 3
   },
   "file_extension": ".py",
   "mimetype": "text/x-python",
   "name": "python",
   "nbconvert_exporter": "python",
   "pygments_lexer": "ipython3",
   "version": "3.6.1"
  }
 },
 "nbformat": 4,
 "nbformat_minor": 1
}
