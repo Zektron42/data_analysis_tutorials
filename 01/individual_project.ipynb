{
 "cells": [
  {
   "cell_type": "markdown",
   "metadata": {},
   "source": [
    "<h1>Welcome to the Dark Art of Coding:</h1>\n",
    "<h2>Introduction to Python</h2>\n",
    "Individual Project\n",
    "\n",
    "\n",
    "<img src='../images/logos.3.600.wide.png' height='250' width='300' style=\"float:right\">"
   ]
  },
  {
   "cell_type": "markdown",
   "metadata": {},
   "source": [
    "# Individual Project\n",
    "---"
   ]
  },
  {
   "cell_type": "markdown",
   "metadata": {},
   "source": [
    "During the course of the semester, you will work on and submit an **individual project**.\n",
    "\n",
    "A sample notebook will be provided for you to review."
   ]
  },
  {
   "cell_type": "markdown",
   "metadata": {},
   "source": [
    "# Assignment 0\n",
    "---"
   ]
  },
  {
   "cell_type": "markdown",
   "metadata": {},
   "source": [
    "## Choose a dataset\n",
    "\n",
    "You may use any data set you choose OR you may select on of the datasets we will make available to you.\n",
    "\n",
    "**WARNING**: Github imposes limits on how much data you can upload in a single file, so smaller datasets, i.e. **less than 50 MB** are recommended.\n",
    "\n",
    "**NOTE**: you can bypass this limit for your real-world projects by using Git Large File Storage, but please **avoid doing so for this class**.\n",
    "\n",
    "This site is one of a number of sites that host publically available data:\n",
    "\n",
    "* [ICPSR](http://www.icpsr.umich.edu/) An international consortium of more than 750 academic institutions and research organizations"
   ]
  },
  {
   "cell_type": "markdown",
   "metadata": {},
   "source": [
    "## Decide on an analytical question\n",
    "\n",
    "Based on the data, there may be any number of questions that you can ask.\n",
    "Consider your data and decide on a question or questions that you want to answer:\n",
    "\n",
    "* How does data point A compare to data point B over time\n",
    "* What are the statistical calculations for one or more sets of data (variance, standard deviation, etc)\n",
    "* etc."
   ]
  },
  {
   "cell_type": "markdown",
   "metadata": {},
   "source": [
    "# Assignment 1\n",
    "---"
   ]
  },
  {
   "cell_type": "markdown",
   "metadata": {},
   "source": [
    "## Evaluate and/or investigate your data\n",
    "\n",
    "Use your Python interpreter to evaluate and investigate the data:\n",
    "\n",
    "* Is the data normalized?\n",
    "* Is the data complete (i.e. no empty cells)\n",
    "* Is the data corrupted OR abnormal in any way?"
   ]
  },
  {
   "cell_type": "markdown",
   "metadata": {},
   "source": [
    "# Assignments 2, 3, & 4\n",
    "---"
   ]
  },
  {
   "cell_type": "markdown",
   "metadata": {},
   "source": [
    "## Write a Jupyter Notebook to transform, analyze and graph the data\n",
    "\n",
    "Depending on the results of your evaluation, write a script within a Jupyter Notebook that will:\n",
    "\n",
    "* Normalize and clean your data\n",
    "* Analyze the data and generate answers to your question(s)\n",
    "* Produce graphs to visualize the data"
   ]
  },
  {
   "cell_type": "markdown",
   "metadata": {},
   "source": [
    "## Enhance your Jupyter Notebook with a writeup and summary\n",
    "\n",
    "And context to your notebook by:\n",
    "\n",
    "* Documenting the question(s)\n",
    "* Documenting the needed normalization and cleanup\n",
    "* Providing a summary"
   ]
  },
  {
   "cell_type": "markdown",
   "metadata": {},
   "source": [
    "# Assignment 5\n",
    "---"
   ]
  },
  {
   "cell_type": "markdown",
   "metadata": {},
   "source": [
    "## Publish your results to Github\n",
    "\n",
    "When complete:\n",
    "\n",
    "* Publish your results to Github\n",
    "* Submit the URL to your notebook to the instructor."
   ]
  }
 ],
 "metadata": {
  "anaconda-cloud": {},
  "kernelspec": {
   "display_name": "Python 3",
   "language": "python",
   "name": "python3"
  },
  "language_info": {
   "codemirror_mode": {
    "name": "ipython",
    "version": 3
   },
   "file_extension": ".py",
   "mimetype": "text/x-python",
   "name": "python",
   "nbconvert_exporter": "python",
   "pygments_lexer": "ipython3",
   "version": "3.6.1"
  }
 },
 "nbformat": 4,
 "nbformat_minor": 1
}
